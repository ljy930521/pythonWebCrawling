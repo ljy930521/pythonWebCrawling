{
 "cells": [
  {
   "cell_type": "code",
   "execution_count": 51,
   "metadata": {},
   "outputs": [],
   "source": [
    "from selenium import webdriver"
   ]
  },
  {
   "cell_type": "code",
   "execution_count": 52,
   "metadata": {},
   "outputs": [],
   "source": [
    "driver = webdriver.Chrome('C:\\chromedriver.exe')"
   ]
  },
  {
   "cell_type": "code",
   "execution_count": 63,
   "metadata": {},
   "outputs": [],
   "source": [
    "driver.implicitly_wait(10) # seconds"
   ]
  },
  {
   "cell_type": "code",
   "execution_count": 64,
   "metadata": {},
   "outputs": [],
   "source": [
    "driver.maximize_window()"
   ]
  },
  {
   "cell_type": "code",
   "execution_count": 65,
   "metadata": {},
   "outputs": [],
   "source": [
    "driver.get('https://www.naver.com')"
   ]
  },
  {
   "cell_type": "code",
   "execution_count": 66,
   "metadata": {},
   "outputs": [
    {
     "data": {
      "text/plain": [
       "<selenium.webdriver.remote.webelement.WebElement (session=\"6804d6bb1d0b8ec984e219d87a98feaf\", element=\"f102c4d2-c21e-459f-b627-9ad7cfa65546\")>"
      ]
     },
     "execution_count": 66,
     "metadata": {},
     "output_type": "execute_result"
    }
   ],
   "source": [
    "comic_elem = driver.find_element_by_class_name('mn_comic')\n",
    "comic_elem"
   ]
  },
  {
   "cell_type": "code",
   "execution_count": 67,
   "metadata": {},
   "outputs": [],
   "source": [
    "from time import sleep"
   ]
  },
  {
   "cell_type": "code",
   "execution_count": 68,
   "metadata": {},
   "outputs": [],
   "source": [
    "sleep(3)"
   ]
  },
  {
   "cell_type": "code",
   "execution_count": 69,
   "metadata": {},
   "outputs": [],
   "source": [
    "comic_elem.click()"
   ]
  },
  {
   "cell_type": "code",
   "execution_count": 70,
   "metadata": {},
   "outputs": [
    {
     "data": {
      "text/plain": [
       "<selenium.webdriver.remote.webelement.WebElement (session=\"6804d6bb1d0b8ec984e219d87a98feaf\", element=\"f2e43565-a13b-4430-b16b-fefa4c1d2164\")>"
      ]
     },
     "execution_count": 70,
     "metadata": {},
     "output_type": "execute_result"
    }
   ],
   "source": [
    "comic_list = driver.find_element_by_id('genreRecommand')\n",
    "comic_list"
   ]
  },
  {
   "cell_type": "code",
   "execution_count": 71,
   "metadata": {},
   "outputs": [
    {
     "data": {
      "text/plain": [
       "[<selenium.webdriver.remote.webelement.WebElement (session=\"6804d6bb1d0b8ec984e219d87a98feaf\", element=\"f4edaab1-b0f0-44b8-b602-3bc1d06a138b\")>,\n",
       " <selenium.webdriver.remote.webelement.WebElement (session=\"6804d6bb1d0b8ec984e219d87a98feaf\", element=\"39d4f8d0-93e5-45f7-b0fa-edc680396e4d\")>,\n",
       " <selenium.webdriver.remote.webelement.WebElement (session=\"6804d6bb1d0b8ec984e219d87a98feaf\", element=\"9d8300e5-6c78-4ab7-b473-d936c396297f\")>,\n",
       " <selenium.webdriver.remote.webelement.WebElement (session=\"6804d6bb1d0b8ec984e219d87a98feaf\", element=\"5b3f5af1-4aa1-4f01-ae53-e1cfc282220d\")>,\n",
       " <selenium.webdriver.remote.webelement.WebElement (session=\"6804d6bb1d0b8ec984e219d87a98feaf\", element=\"8a14969c-e8eb-4fa0-9b2a-f1229543c368\")>,\n",
       " <selenium.webdriver.remote.webelement.WebElement (session=\"6804d6bb1d0b8ec984e219d87a98feaf\", element=\"ba6b9f7a-b38b-417b-804a-f97df77a14da\")>]"
      ]
     },
     "execution_count": 71,
     "metadata": {},
     "output_type": "execute_result"
    }
   ],
   "source": [
    "# comics = comic_list.find_elements_by_tag_name('li')\n",
    "comics = comic_list.find_elements_by_class_name('genreRecomInfo2')\n",
    "comics"
   ]
  },
  {
   "cell_type": "code",
   "execution_count": 72,
   "metadata": {},
   "outputs": [
    {
     "data": {
      "text/plain": [
       "[{'link': 'https://comic.naver.com/webtoon/list.nhn?titleId=732071',\n",
       "  'title': '가령의 정체불명 이야기'},\n",
       " {'link': 'https://comic.naver.com/webtoon/list.nhn?titleId=21815',\n",
       "  'title': '히어로메이커'},\n",
       " {'link': 'https://comic.naver.com/webtoon/list.nhn?titleId=694946',\n",
       "  'title': '귀전구담'},\n",
       " {'link': 'https://comic.naver.com/webtoon/list.nhn?titleId=695796',\n",
       "  'title': '내일'},\n",
       " {'link': 'https://comic.naver.com/webtoon/list.nhn?titleId=22897',\n",
       "  'title': '호랭총각'},\n",
       " {'link': 'https://comic.naver.com/webtoon/list.nhn?titleId=729037',\n",
       "  'title': '호러전파상'}]"
      ]
     },
     "execution_count": 72,
     "metadata": {},
     "output_type": "execute_result"
    }
   ],
   "source": [
    "my_comic_list = []\n",
    "for comic in comics:\n",
    "    title_tag = comic.find_element_by_class_name('title')\n",
    "    title_a_tag = comic.find_element_by_tag_name('a')\n",
    "    \n",
    "    link = title_a_tag.get_attribute('href')\n",
    "    title = title_a_tag.text\n",
    "    my_comic_list.append({\n",
    "        'link': link,\n",
    "        'title': title\n",
    "    })\n",
    "my_comic_list"
   ]
  },
  {
   "cell_type": "code",
   "execution_count": null,
   "metadata": {},
   "outputs": [],
   "source": []
  },
  {
   "cell_type": "code",
   "execution_count": 73,
   "metadata": {},
   "outputs": [],
   "source": [
    "driver.get('https://www.naver.com')\n",
    "\n"
   ]
  },
  {
   "cell_type": "code",
   "execution_count": 75,
   "metadata": {},
   "outputs": [],
   "source": [
    "input_elem = driver.find_element_by_xpath('//*[@id=\"query\"]')"
   ]
  },
  {
   "cell_type": "code",
   "execution_count": 76,
   "metadata": {},
   "outputs": [],
   "source": [
    "input_elem.send_keys(\"펭수\")"
   ]
  },
  {
   "cell_type": "code",
   "execution_count": 77,
   "metadata": {},
   "outputs": [],
   "source": [
    "search_btn = driver.find_element_by_xpath('//*[@id=\"search_btn\"]')"
   ]
  },
  {
   "cell_type": "code",
   "execution_count": 78,
   "metadata": {},
   "outputs": [],
   "source": [
    "search_btn.click()"
   ]
  },
  {
   "cell_type": "code",
   "execution_count": null,
   "metadata": {},
   "outputs": [],
   "source": []
  },
  {
   "cell_type": "code",
   "execution_count": null,
   "metadata": {},
   "outputs": [],
   "source": []
  },
  {
   "cell_type": "code",
   "execution_count": null,
   "metadata": {},
   "outputs": [],
   "source": []
  },
  {
   "cell_type": "code",
   "execution_count": null,
   "metadata": {},
   "outputs": [],
   "source": []
  },
  {
   "cell_type": "code",
   "execution_count": null,
   "metadata": {},
   "outputs": [],
   "source": []
  },
  {
   "cell_type": "code",
   "execution_count": null,
   "metadata": {},
   "outputs": [],
   "source": []
  }
 ],
 "metadata": {
  "kernelspec": {
   "display_name": "Python 3",
   "language": "python",
   "name": "python3"
  },
  "language_info": {
   "codemirror_mode": {
    "name": "ipython",
    "version": 3
   },
   "file_extension": ".py",
   "mimetype": "text/x-python",
   "name": "python",
   "nbconvert_exporter": "python",
   "pygments_lexer": "ipython3",
   "version": "3.7.6"
  }
 },
 "nbformat": 4,
 "nbformat_minor": 2
}

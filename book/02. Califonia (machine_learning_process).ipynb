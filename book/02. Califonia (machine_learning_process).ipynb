{
 "cells": [
  {
   "cell_type": "markdown",
   "metadata": {},
   "source": [
    "## 1. 데이터셋 로드"
   ]
  },
  {
   "cell_type": "code",
   "execution_count": 1,
   "metadata": {},
   "outputs": [],
   "source": [
    "import os \n",
    "\n",
    "HOUSING_PATH = 'datasets/housing'"
   ]
  },
  {
   "cell_type": "code",
   "execution_count": 2,
   "metadata": {},
   "outputs": [],
   "source": [
    "import pandas as pd\n",
    "\n",
    "housing = pd.read_csv('housing.csv')"
   ]
  },
  {
   "cell_type": "code",
   "execution_count": 3,
   "metadata": {},
   "outputs": [
    {
     "data": {
      "text/html": [
       "<div>\n",
       "<style scoped>\n",
       "    .dataframe tbody tr th:only-of-type {\n",
       "        vertical-align: middle;\n",
       "    }\n",
       "\n",
       "    .dataframe tbody tr th {\n",
       "        vertical-align: top;\n",
       "    }\n",
       "\n",
       "    .dataframe thead th {\n",
       "        text-align: right;\n",
       "    }\n",
       "</style>\n",
       "<table border=\"1\" class=\"dataframe\">\n",
       "  <thead>\n",
       "    <tr style=\"text-align: right;\">\n",
       "      <th></th>\n",
       "      <th>longitude</th>\n",
       "      <th>latitude</th>\n",
       "      <th>housing_median_age</th>\n",
       "      <th>total_rooms</th>\n",
       "      <th>total_bedrooms</th>\n",
       "      <th>population</th>\n",
       "      <th>households</th>\n",
       "      <th>median_income</th>\n",
       "      <th>median_house_value</th>\n",
       "      <th>ocean_proximity</th>\n",
       "    </tr>\n",
       "  </thead>\n",
       "  <tbody>\n",
       "    <tr>\n",
       "      <th>0</th>\n",
       "      <td>-122.23</td>\n",
       "      <td>37.88</td>\n",
       "      <td>41.0</td>\n",
       "      <td>880.0</td>\n",
       "      <td>129.0</td>\n",
       "      <td>322.0</td>\n",
       "      <td>126.0</td>\n",
       "      <td>8.3252</td>\n",
       "      <td>452600.0</td>\n",
       "      <td>NEAR BAY</td>\n",
       "    </tr>\n",
       "    <tr>\n",
       "      <th>1</th>\n",
       "      <td>-122.22</td>\n",
       "      <td>37.86</td>\n",
       "      <td>21.0</td>\n",
       "      <td>7099.0</td>\n",
       "      <td>1106.0</td>\n",
       "      <td>2401.0</td>\n",
       "      <td>1138.0</td>\n",
       "      <td>8.3014</td>\n",
       "      <td>358500.0</td>\n",
       "      <td>NEAR BAY</td>\n",
       "    </tr>\n",
       "    <tr>\n",
       "      <th>2</th>\n",
       "      <td>-122.24</td>\n",
       "      <td>37.85</td>\n",
       "      <td>52.0</td>\n",
       "      <td>1467.0</td>\n",
       "      <td>190.0</td>\n",
       "      <td>496.0</td>\n",
       "      <td>177.0</td>\n",
       "      <td>7.2574</td>\n",
       "      <td>352100.0</td>\n",
       "      <td>NEAR BAY</td>\n",
       "    </tr>\n",
       "    <tr>\n",
       "      <th>3</th>\n",
       "      <td>-122.25</td>\n",
       "      <td>37.85</td>\n",
       "      <td>52.0</td>\n",
       "      <td>1274.0</td>\n",
       "      <td>235.0</td>\n",
       "      <td>558.0</td>\n",
       "      <td>219.0</td>\n",
       "      <td>5.6431</td>\n",
       "      <td>341300.0</td>\n",
       "      <td>NEAR BAY</td>\n",
       "    </tr>\n",
       "    <tr>\n",
       "      <th>4</th>\n",
       "      <td>-122.25</td>\n",
       "      <td>37.85</td>\n",
       "      <td>52.0</td>\n",
       "      <td>1627.0</td>\n",
       "      <td>280.0</td>\n",
       "      <td>565.0</td>\n",
       "      <td>259.0</td>\n",
       "      <td>3.8462</td>\n",
       "      <td>342200.0</td>\n",
       "      <td>NEAR BAY</td>\n",
       "    </tr>\n",
       "    <tr>\n",
       "      <th>5</th>\n",
       "      <td>-122.25</td>\n",
       "      <td>37.85</td>\n",
       "      <td>52.0</td>\n",
       "      <td>919.0</td>\n",
       "      <td>213.0</td>\n",
       "      <td>413.0</td>\n",
       "      <td>193.0</td>\n",
       "      <td>4.0368</td>\n",
       "      <td>269700.0</td>\n",
       "      <td>NEAR BAY</td>\n",
       "    </tr>\n",
       "    <tr>\n",
       "      <th>6</th>\n",
       "      <td>-122.25</td>\n",
       "      <td>37.84</td>\n",
       "      <td>52.0</td>\n",
       "      <td>2535.0</td>\n",
       "      <td>489.0</td>\n",
       "      <td>1094.0</td>\n",
       "      <td>514.0</td>\n",
       "      <td>3.6591</td>\n",
       "      <td>299200.0</td>\n",
       "      <td>NEAR BAY</td>\n",
       "    </tr>\n",
       "    <tr>\n",
       "      <th>7</th>\n",
       "      <td>-122.25</td>\n",
       "      <td>37.84</td>\n",
       "      <td>52.0</td>\n",
       "      <td>3104.0</td>\n",
       "      <td>687.0</td>\n",
       "      <td>1157.0</td>\n",
       "      <td>647.0</td>\n",
       "      <td>3.1200</td>\n",
       "      <td>241400.0</td>\n",
       "      <td>NEAR BAY</td>\n",
       "    </tr>\n",
       "    <tr>\n",
       "      <th>8</th>\n",
       "      <td>-122.26</td>\n",
       "      <td>37.84</td>\n",
       "      <td>42.0</td>\n",
       "      <td>2555.0</td>\n",
       "      <td>665.0</td>\n",
       "      <td>1206.0</td>\n",
       "      <td>595.0</td>\n",
       "      <td>2.0804</td>\n",
       "      <td>226700.0</td>\n",
       "      <td>NEAR BAY</td>\n",
       "    </tr>\n",
       "    <tr>\n",
       "      <th>9</th>\n",
       "      <td>-122.25</td>\n",
       "      <td>37.84</td>\n",
       "      <td>52.0</td>\n",
       "      <td>3549.0</td>\n",
       "      <td>707.0</td>\n",
       "      <td>1551.0</td>\n",
       "      <td>714.0</td>\n",
       "      <td>3.6912</td>\n",
       "      <td>261100.0</td>\n",
       "      <td>NEAR BAY</td>\n",
       "    </tr>\n",
       "  </tbody>\n",
       "</table>\n",
       "</div>"
      ],
      "text/plain": [
       "   longitude  latitude  housing_median_age  total_rooms  total_bedrooms  \\\n",
       "0    -122.23     37.88                41.0        880.0           129.0   \n",
       "1    -122.22     37.86                21.0       7099.0          1106.0   \n",
       "2    -122.24     37.85                52.0       1467.0           190.0   \n",
       "3    -122.25     37.85                52.0       1274.0           235.0   \n",
       "4    -122.25     37.85                52.0       1627.0           280.0   \n",
       "5    -122.25     37.85                52.0        919.0           213.0   \n",
       "6    -122.25     37.84                52.0       2535.0           489.0   \n",
       "7    -122.25     37.84                52.0       3104.0           687.0   \n",
       "8    -122.26     37.84                42.0       2555.0           665.0   \n",
       "9    -122.25     37.84                52.0       3549.0           707.0   \n",
       "\n",
       "   population  households  median_income  median_house_value ocean_proximity  \n",
       "0       322.0       126.0         8.3252            452600.0        NEAR BAY  \n",
       "1      2401.0      1138.0         8.3014            358500.0        NEAR BAY  \n",
       "2       496.0       177.0         7.2574            352100.0        NEAR BAY  \n",
       "3       558.0       219.0         5.6431            341300.0        NEAR BAY  \n",
       "4       565.0       259.0         3.8462            342200.0        NEAR BAY  \n",
       "5       413.0       193.0         4.0368            269700.0        NEAR BAY  \n",
       "6      1094.0       514.0         3.6591            299200.0        NEAR BAY  \n",
       "7      1157.0       647.0         3.1200            241400.0        NEAR BAY  \n",
       "8      1206.0       595.0         2.0804            226700.0        NEAR BAY  \n",
       "9      1551.0       714.0         3.6912            261100.0        NEAR BAY  "
      ]
     },
     "execution_count": 3,
     "metadata": {},
     "output_type": "execute_result"
    }
   ],
   "source": [
    "# housing = load_housing_data()\n",
    "housing.head(10)"
   ]
  },
  {
   "cell_type": "markdown",
   "metadata": {},
   "source": [
    "## 2. 데이터 분리 및 이해하기"
   ]
  },
  {
   "cell_type": "code",
   "execution_count": 4,
   "metadata": {},
   "outputs": [],
   "source": [
    "# longitude: 경도 \n",
    "# latitude: 위도\n",
    "# housing_median_age: 중간 노후연식\n",
    "# total_rooms: 방 개수\n",
    "# total_bedrooms: 침실 개수\n",
    "# population: 인구\n",
    "# households: 새대\n",
    "# median_income: 중간 수입\n",
    "# median_house_value: 중간 집 값\n",
    "# ocean_proximity: 해변 근접"
   ]
  },
  {
   "cell_type": "markdown",
   "metadata": {},
   "source": [
    "### 2-1. "
   ]
  },
  {
   "cell_type": "code",
   "execution_count": 5,
   "metadata": {
    "scrolled": true
   },
   "outputs": [
    {
     "data": {
      "text/plain": [
       "Index(['longitude', 'latitude', 'housing_median_age', 'total_rooms',\n",
       "       'total_bedrooms', 'population', 'households', 'median_income',\n",
       "       'median_house_value', 'ocean_proximity'],\n",
       "      dtype='object')"
      ]
     },
     "execution_count": 5,
     "metadata": {},
     "output_type": "execute_result"
    }
   ],
   "source": [
    "housing.columns"
   ]
  },
  {
   "cell_type": "code",
   "execution_count": 6,
   "metadata": {},
   "outputs": [
    {
     "name": "stdout",
     "output_type": "stream",
     "text": [
      "<class 'pandas.core.frame.DataFrame'>\n",
      "RangeIndex: 20640 entries, 0 to 20639\n",
      "Data columns (total 10 columns):\n",
      "longitude             20640 non-null float64\n",
      "latitude              20640 non-null float64\n",
      "housing_median_age    20640 non-null float64\n",
      "total_rooms           20640 non-null float64\n",
      "total_bedrooms        20433 non-null float64\n",
      "population            20640 non-null float64\n",
      "households            20640 non-null float64\n",
      "median_income         20640 non-null float64\n",
      "median_house_value    20640 non-null float64\n",
      "ocean_proximity       20640 non-null object\n",
      "dtypes: float64(9), object(1)\n",
      "memory usage: 1.6+ MB\n"
     ]
    }
   ],
   "source": [
    "# info: 간략한 정보 (전체 행 수, na값 개수 등)\n",
    "housing.info()"
   ]
  },
  {
   "cell_type": "code",
   "execution_count": 7,
   "metadata": {},
   "outputs": [
    {
     "data": {
      "text/plain": [
       "<1H OCEAN     9136\n",
       "INLAND        6551\n",
       "NEAR OCEAN    2658\n",
       "NEAR BAY      2290\n",
       "ISLAND           5\n",
       "Name: ocean_proximity, dtype: int64"
      ]
     },
     "execution_count": 7,
     "metadata": {},
     "output_type": "execute_result"
    }
   ],
   "source": [
    "# value_counts: 시리즈 value의 Counts를 확인 \n",
    "# 범주형 contents\n",
    "housing['ocean_proximity'].value_counts()\n"
   ]
  },
  {
   "cell_type": "code",
   "execution_count": 8,
   "metadata": {},
   "outputs": [
    {
     "data": {
      "text/html": [
       "<div>\n",
       "<style scoped>\n",
       "    .dataframe tbody tr th:only-of-type {\n",
       "        vertical-align: middle;\n",
       "    }\n",
       "\n",
       "    .dataframe tbody tr th {\n",
       "        vertical-align: top;\n",
       "    }\n",
       "\n",
       "    .dataframe thead th {\n",
       "        text-align: right;\n",
       "    }\n",
       "</style>\n",
       "<table border=\"1\" class=\"dataframe\">\n",
       "  <thead>\n",
       "    <tr style=\"text-align: right;\">\n",
       "      <th></th>\n",
       "      <th>longitude</th>\n",
       "      <th>latitude</th>\n",
       "      <th>housing_median_age</th>\n",
       "      <th>total_rooms</th>\n",
       "      <th>total_bedrooms</th>\n",
       "      <th>population</th>\n",
       "      <th>households</th>\n",
       "      <th>median_income</th>\n",
       "      <th>median_house_value</th>\n",
       "    </tr>\n",
       "  </thead>\n",
       "  <tbody>\n",
       "    <tr>\n",
       "      <th>count</th>\n",
       "      <td>20640.000000</td>\n",
       "      <td>20640.000000</td>\n",
       "      <td>20640.000000</td>\n",
       "      <td>20640.000000</td>\n",
       "      <td>20433.000000</td>\n",
       "      <td>20640.000000</td>\n",
       "      <td>20640.000000</td>\n",
       "      <td>20640.000000</td>\n",
       "      <td>20640.000000</td>\n",
       "    </tr>\n",
       "    <tr>\n",
       "      <th>mean</th>\n",
       "      <td>-119.569704</td>\n",
       "      <td>35.631861</td>\n",
       "      <td>28.639486</td>\n",
       "      <td>2635.763081</td>\n",
       "      <td>537.870553</td>\n",
       "      <td>1425.476744</td>\n",
       "      <td>499.539680</td>\n",
       "      <td>3.870671</td>\n",
       "      <td>206855.816909</td>\n",
       "    </tr>\n",
       "    <tr>\n",
       "      <th>std</th>\n",
       "      <td>2.003532</td>\n",
       "      <td>2.135952</td>\n",
       "      <td>12.585558</td>\n",
       "      <td>2181.615252</td>\n",
       "      <td>421.385070</td>\n",
       "      <td>1132.462122</td>\n",
       "      <td>382.329753</td>\n",
       "      <td>1.899822</td>\n",
       "      <td>115395.615874</td>\n",
       "    </tr>\n",
       "    <tr>\n",
       "      <th>min</th>\n",
       "      <td>-124.350000</td>\n",
       "      <td>32.540000</td>\n",
       "      <td>1.000000</td>\n",
       "      <td>2.000000</td>\n",
       "      <td>1.000000</td>\n",
       "      <td>3.000000</td>\n",
       "      <td>1.000000</td>\n",
       "      <td>0.499900</td>\n",
       "      <td>14999.000000</td>\n",
       "    </tr>\n",
       "    <tr>\n",
       "      <th>25%</th>\n",
       "      <td>-121.800000</td>\n",
       "      <td>33.930000</td>\n",
       "      <td>18.000000</td>\n",
       "      <td>1447.750000</td>\n",
       "      <td>296.000000</td>\n",
       "      <td>787.000000</td>\n",
       "      <td>280.000000</td>\n",
       "      <td>2.563400</td>\n",
       "      <td>119600.000000</td>\n",
       "    </tr>\n",
       "    <tr>\n",
       "      <th>50%</th>\n",
       "      <td>-118.490000</td>\n",
       "      <td>34.260000</td>\n",
       "      <td>29.000000</td>\n",
       "      <td>2127.000000</td>\n",
       "      <td>435.000000</td>\n",
       "      <td>1166.000000</td>\n",
       "      <td>409.000000</td>\n",
       "      <td>3.534800</td>\n",
       "      <td>179700.000000</td>\n",
       "    </tr>\n",
       "    <tr>\n",
       "      <th>75%</th>\n",
       "      <td>-118.010000</td>\n",
       "      <td>37.710000</td>\n",
       "      <td>37.000000</td>\n",
       "      <td>3148.000000</td>\n",
       "      <td>647.000000</td>\n",
       "      <td>1725.000000</td>\n",
       "      <td>605.000000</td>\n",
       "      <td>4.743250</td>\n",
       "      <td>264725.000000</td>\n",
       "    </tr>\n",
       "    <tr>\n",
       "      <th>max</th>\n",
       "      <td>-114.310000</td>\n",
       "      <td>41.950000</td>\n",
       "      <td>52.000000</td>\n",
       "      <td>39320.000000</td>\n",
       "      <td>6445.000000</td>\n",
       "      <td>35682.000000</td>\n",
       "      <td>6082.000000</td>\n",
       "      <td>15.000100</td>\n",
       "      <td>500001.000000</td>\n",
       "    </tr>\n",
       "  </tbody>\n",
       "</table>\n",
       "</div>"
      ],
      "text/plain": [
       "          longitude      latitude  housing_median_age   total_rooms  \\\n",
       "count  20640.000000  20640.000000        20640.000000  20640.000000   \n",
       "mean    -119.569704     35.631861           28.639486   2635.763081   \n",
       "std        2.003532      2.135952           12.585558   2181.615252   \n",
       "min     -124.350000     32.540000            1.000000      2.000000   \n",
       "25%     -121.800000     33.930000           18.000000   1447.750000   \n",
       "50%     -118.490000     34.260000           29.000000   2127.000000   \n",
       "75%     -118.010000     37.710000           37.000000   3148.000000   \n",
       "max     -114.310000     41.950000           52.000000  39320.000000   \n",
       "\n",
       "       total_bedrooms    population    households  median_income  \\\n",
       "count    20433.000000  20640.000000  20640.000000   20640.000000   \n",
       "mean       537.870553   1425.476744    499.539680       3.870671   \n",
       "std        421.385070   1132.462122    382.329753       1.899822   \n",
       "min          1.000000      3.000000      1.000000       0.499900   \n",
       "25%        296.000000    787.000000    280.000000       2.563400   \n",
       "50%        435.000000   1166.000000    409.000000       3.534800   \n",
       "75%        647.000000   1725.000000    605.000000       4.743250   \n",
       "max       6445.000000  35682.000000   6082.000000      15.000100   \n",
       "\n",
       "       median_house_value  \n",
       "count        20640.000000  \n",
       "mean        206855.816909  \n",
       "std         115395.615874  \n",
       "min          14999.000000  \n",
       "25%         119600.000000  \n",
       "50%         179700.000000  \n",
       "75%         264725.000000  \n",
       "max         500001.000000  "
      ]
     },
     "execution_count": 8,
     "metadata": {},
     "output_type": "execute_result"
    }
   ],
   "source": [
    "# describe: 수치형 특성 요약 정보\n",
    "housing.describe()"
   ]
  },
  {
   "cell_type": "markdown",
   "metadata": {},
   "source": [
    "### 2-2. 데이터 형태 히스토그램 그리기"
   ]
  },
  {
   "cell_type": "code",
   "execution_count": 9,
   "metadata": {},
   "outputs": [
    {
     "data": {
      "image/png": "[encoded data removed]",
      "text/plain": [
       "<Figure size 1080x720 with 9 Axes>"
      ]
     },
     "metadata": {
      "needs_background": "light"
     },
     "output_type": "display_data"
    }
   ],
   "source": [
    "import matplotlib.pyplot as plt\n",
    "%matplotlib inline \n",
    "\n",
    "housing.hist(bins=50, figsize=(15, 10)) # histogram 그리기\n",
    "plt.show()"
   ]
  },
  {
   "cell_type": "markdown",
   "metadata": {},
   "source": [
    "## 3. 테스트 세트 만들기"
   ]
  },
  {
   "cell_type": "markdown",
   "metadata": {},
   "source": [
    "### 3-1. 무작위 샘플링"
   ]
  },
  {
   "cell_type": "code",
   "execution_count": 10,
   "metadata": {},
   "outputs": [],
   "source": [
    "import numpy as np"
   ]
  },
  {
   "cell_type": "code",
   "execution_count": 11,
   "metadata": {},
   "outputs": [
    {
     "data": {
      "text/plain": [
       "array([ 9755, 10304,  9061, ..., 17644,  8756,  7326])"
      ]
     },
     "execution_count": 11,
     "metadata": {},
     "output_type": "execute_result"
    }
   ],
   "source": [
    "np.random.permutation(len(housing))[:4128]"
   ]
  },
  {
   "cell_type": "code",
   "execution_count": 12,
   "metadata": {},
   "outputs": [],
   "source": [
    "import numpy as np\n",
    "\n",
    "np.random.seed(42) # 항상 같은 테스트 셋이 나오도록\n",
    "\n",
    "def split_train_test(data, test_ratio):\n",
    "    shuffled_indices = np.random.permutation(len(data))  # 인덱스 셔플 (0~data의 길이만큼 random하게)\n",
    "    test_set_size = int(len(data) * test_ratio)\n",
    "    test_indices = shuffled_indices[:test_set_size] # test_set_size까지. random 배열을 가져옴.\n",
    "    train_indices = shuffled_indices[test_set_size:] # 나머지.\n",
    "    return data.iloc[train_indices], data.iloc[test_indices]\n"
   ]
  },
  {
   "cell_type": "markdown",
   "metadata": {},
   "source": [
    "##### 주의사항: 데이터를 더 깊게 들여다보기 전에 테스트 세트를 따로 떼어놓아야 함. (뇌가 오버피팅 되어 특정 모델을 선택하는 것을 막자.)"
   ]
  },
  {
   "cell_type": "code",
   "execution_count": 13,
   "metadata": {
    "scrolled": true
   },
   "outputs": [
    {
     "name": "stdout",
     "output_type": "stream",
     "text": [
      "16512 train + 4128 test\n"
     ]
    }
   ],
   "source": [
    "train_set, test_set = split_train_test(housing, 0.2)\n",
    "print(len(train_set), 'train +', len(test_set), 'test')\n"
   ]
  },
  {
   "cell_type": "code",
   "execution_count": 14,
   "metadata": {},
   "outputs": [],
   "source": [
    "from sklearn.model_selection import train_test_split"
   ]
  },
  {
   "cell_type": "code",
   "execution_count": 15,
   "metadata": {},
   "outputs": [],
   "source": [
    "# train_test_split(housing.index, 0.2)"
   ]
  },
  {
   "cell_type": "markdown",
   "metadata": {},
   "source": [
    "#### 순수 무작위 샘플링 - (데이터셋이 충분히 크면 괜찮지만, 샘플링 편향 위험성)  => 계층적 샘플링이 필요"
   ]
  },
  {
   "cell_type": "markdown",
   "metadata": {},
   "source": [
    "### 3-2. 층화추출법 (계층적 샘플링)"
   ]
  },
  {
   "cell_type": "markdown",
   "metadata": {},
   "source": [
    "##### 계층적 샘플링: 테스트세트가 전체 모집단을 대표하도록 샘플링. (예. 남여 비율이 52:48 이라면 테스트셋도 마찬가지 비율로)"
   ]
  },
  {
   "cell_type": "markdown",
   "metadata": {},
   "source": [
    "##### median_income을 기준으로 샘플링.  => income_cat이라는 컬럼으로"
   ]
  },
  {
   "cell_type": "code",
   "execution_count": 16,
   "metadata": {},
   "outputs": [
    {
     "data": {
      "text/html": [
       "<div>\n",
       "<style scoped>\n",
       "    .dataframe tbody tr th:only-of-type {\n",
       "        vertical-align: middle;\n",
       "    }\n",
       "\n",
       "    .dataframe tbody tr th {\n",
       "        vertical-align: top;\n",
       "    }\n",
       "\n",
       "    .dataframe thead th {\n",
       "        text-align: right;\n",
       "    }\n",
       "</style>\n",
       "<table border=\"1\" class=\"dataframe\">\n",
       "  <thead>\n",
       "    <tr style=\"text-align: right;\">\n",
       "      <th></th>\n",
       "      <th>longitude</th>\n",
       "      <th>latitude</th>\n",
       "      <th>housing_median_age</th>\n",
       "      <th>total_rooms</th>\n",
       "      <th>total_bedrooms</th>\n",
       "      <th>population</th>\n",
       "      <th>households</th>\n",
       "      <th>median_income</th>\n",
       "      <th>median_house_value</th>\n",
       "    </tr>\n",
       "  </thead>\n",
       "  <tbody>\n",
       "    <tr>\n",
       "      <th>count</th>\n",
       "      <td>20640.000000</td>\n",
       "      <td>20640.000000</td>\n",
       "      <td>20640.000000</td>\n",
       "      <td>20640.000000</td>\n",
       "      <td>20433.000000</td>\n",
       "      <td>20640.000000</td>\n",
       "      <td>20640.000000</td>\n",
       "      <td>20640.000000</td>\n",
       "      <td>20640.000000</td>\n",
       "    </tr>\n",
       "    <tr>\n",
       "      <th>mean</th>\n",
       "      <td>-119.569704</td>\n",
       "      <td>35.631861</td>\n",
       "      <td>28.639486</td>\n",
       "      <td>2635.763081</td>\n",
       "      <td>537.870553</td>\n",
       "      <td>1425.476744</td>\n",
       "      <td>499.539680</td>\n",
       "      <td>3.870671</td>\n",
       "      <td>206855.816909</td>\n",
       "    </tr>\n",
       "    <tr>\n",
       "      <th>std</th>\n",
       "      <td>2.003532</td>\n",
       "      <td>2.135952</td>\n",
       "      <td>12.585558</td>\n",
       "      <td>2181.615252</td>\n",
       "      <td>421.385070</td>\n",
       "      <td>1132.462122</td>\n",
       "      <td>382.329753</td>\n",
       "      <td>1.899822</td>\n",
       "      <td>115395.615874</td>\n",
       "    </tr>\n",
       "    <tr>\n",
       "      <th>min</th>\n",
       "      <td>-124.350000</td>\n",
       "      <td>32.540000</td>\n",
       "      <td>1.000000</td>\n",
       "      <td>2.000000</td>\n",
       "      <td>1.000000</td>\n",
       "      <td>3.000000</td>\n",
       "      <td>1.000000</td>\n",
       "      <td>0.499900</td>\n",
       "      <td>14999.000000</td>\n",
       "    </tr>\n",
       "    <tr>\n",
       "      <th>25%</th>\n",
       "      <td>-121.800000</td>\n",
       "      <td>33.930000</td>\n",
       "      <td>18.000000</td>\n",
       "      <td>1447.750000</td>\n",
       "      <td>296.000000</td>\n",
       "      <td>787.000000</td>\n",
       "      <td>280.000000</td>\n",
       "      <td>2.563400</td>\n",
       "      <td>119600.000000</td>\n",
       "    </tr>\n",
       "    <tr>\n",
       "      <th>50%</th>\n",
       "      <td>-118.490000</td>\n",
       "      <td>34.260000</td>\n",
       "      <td>29.000000</td>\n",
       "      <td>2127.000000</td>\n",
       "      <td>435.000000</td>\n",
       "      <td>1166.000000</td>\n",
       "      <td>409.000000</td>\n",
       "      <td>3.534800</td>\n",
       "      <td>179700.000000</td>\n",
       "    </tr>\n",
       "    <tr>\n",
       "      <th>75%</th>\n",
       "      <td>-118.010000</td>\n",
       "      <td>37.710000</td>\n",
       "      <td>37.000000</td>\n",
       "      <td>3148.000000</td>\n",
       "      <td>647.000000</td>\n",
       "      <td>1725.000000</td>\n",
       "      <td>605.000000</td>\n",
       "      <td>4.743250</td>\n",
       "      <td>264725.000000</td>\n",
       "    </tr>\n",
       "    <tr>\n",
       "      <th>max</th>\n",
       "      <td>-114.310000</td>\n",
       "      <td>41.950000</td>\n",
       "      <td>52.000000</td>\n",
       "      <td>39320.000000</td>\n",
       "      <td>6445.000000</td>\n",
       "      <td>35682.000000</td>\n",
       "      <td>6082.000000</td>\n",
       "      <td>15.000100</td>\n",
       "      <td>500001.000000</td>\n",
       "    </tr>\n",
       "  </tbody>\n",
       "</table>\n",
       "</div>"
      ],
      "text/plain": [
       "          longitude      latitude  housing_median_age   total_rooms  \\\n",
       "count  20640.000000  20640.000000        20640.000000  20640.000000   \n",
       "mean    -119.569704     35.631861           28.639486   2635.763081   \n",
       "std        2.003532      2.135952           12.585558   2181.615252   \n",
       "min     -124.350000     32.540000            1.000000      2.000000   \n",
       "25%     -121.800000     33.930000           18.000000   1447.750000   \n",
       "50%     -118.490000     34.260000           29.000000   2127.000000   \n",
       "75%     -118.010000     37.710000           37.000000   3148.000000   \n",
       "max     -114.310000     41.950000           52.000000  39320.000000   \n",
       "\n",
       "       total_bedrooms    population    households  median_income  \\\n",
       "count    20433.000000  20640.000000  20640.000000   20640.000000   \n",
       "mean       537.870553   1425.476744    499.539680       3.870671   \n",
       "std        421.385070   1132.462122    382.329753       1.899822   \n",
       "min          1.000000      3.000000      1.000000       0.499900   \n",
       "25%        296.000000    787.000000    280.000000       2.563400   \n",
       "50%        435.000000   1166.000000    409.000000       3.534800   \n",
       "75%        647.000000   1725.000000    605.000000       4.743250   \n",
       "max       6445.000000  35682.000000   6082.000000      15.000100   \n",
       "\n",
       "       median_house_value  \n",
       "count        20640.000000  \n",
       "mean        206855.816909  \n",
       "std         115395.615874  \n",
       "min          14999.000000  \n",
       "25%         119600.000000  \n",
       "50%         179700.000000  \n",
       "75%         264725.000000  \n",
       "max         500001.000000  "
      ]
     },
     "execution_count": 16,
     "metadata": {},
     "output_type": "execute_result"
    }
   ],
   "source": [
    "housing.describe()"
   ]
  },
  {
   "cell_type": "code",
   "execution_count": 17,
   "metadata": {},
   "outputs": [
    {
     "data": {
      "text/plain": [
       "0        8.3252\n",
       "1        8.3014\n",
       "2        7.2574\n",
       "3        5.6431\n",
       "4        3.8462\n",
       "5        4.0368\n",
       "6        3.6591\n",
       "7        3.1200\n",
       "8        2.0804\n",
       "9        3.6912\n",
       "10       3.2031\n",
       "11       3.2705\n",
       "12       3.0750\n",
       "13       2.6736\n",
       "14       1.9167\n",
       "15       2.1250\n",
       "16       2.7750\n",
       "17       2.1202\n",
       "18       1.9911\n",
       "19       2.6033\n",
       "20       1.3578\n",
       "21       1.7135\n",
       "22       1.7250\n",
       "23       2.1806\n",
       "24       2.6000\n",
       "25       2.4038\n",
       "26       2.4597\n",
       "27       1.8080\n",
       "28       1.6424\n",
       "29       1.6875\n",
       "          ...  \n",
       "20610    1.3631\n",
       "20611    1.2857\n",
       "20612    1.4934\n",
       "20613    1.4958\n",
       "20614    2.4695\n",
       "20615    2.3598\n",
       "20616    2.0469\n",
       "20617    3.3021\n",
       "20618    2.2500\n",
       "20619    2.7303\n",
       "20620    4.5625\n",
       "20621    2.3661\n",
       "20622    2.4167\n",
       "20623    2.8235\n",
       "20624    3.0739\n",
       "20625    4.1250\n",
       "20626    2.1667\n",
       "20627    3.0000\n",
       "20628    2.5952\n",
       "20629    2.0943\n",
       "20630    3.5673\n",
       "20631    3.5179\n",
       "20632    3.1250\n",
       "20633    2.5495\n",
       "20634    3.7125\n",
       "20635    1.5603\n",
       "20636    2.5568\n",
       "20637    1.7000\n",
       "20638    1.8672\n",
       "20639    2.3886\n",
       "Name: median_income, Length: 20640, dtype: float64"
      ]
     },
     "execution_count": 17,
     "metadata": {},
     "output_type": "execute_result"
    }
   ],
   "source": [
    "housing['median_income']"
   ]
  },
  {
   "cell_type": "code",
   "execution_count": 18,
   "metadata": {},
   "outputs": [
    {
     "data": {
      "text/plain": [
       "0    8.3252\n",
       "1    8.3014\n",
       "2    7.2574\n",
       "3    5.6431\n",
       "4    3.8462\n",
       "Name: median_income, dtype: float64"
      ]
     },
     "execution_count": 18,
     "metadata": {},
     "output_type": "execute_result"
    }
   ],
   "source": [
    "housing['median_income'].head()"
   ]
  },
  {
   "cell_type": "code",
   "execution_count": 19,
   "metadata": {},
   "outputs": [
    {
     "data": {
      "text/plain": [
       "3.0     7236\n",
       "2.0     6581\n",
       "4.0     3639\n",
       "5.0     1423\n",
       "1.0      822\n",
       "6.0      532\n",
       "7.0      189\n",
       "8.0      105\n",
       "9.0       50\n",
       "11.0      49\n",
       "10.0      14\n",
       "Name: income_cat, dtype: int64"
      ]
     },
     "execution_count": 19,
     "metadata": {},
     "output_type": "execute_result"
    }
   ],
   "source": [
    "# 계층적 샘플링을 위한 income_cat\n",
    "housing['income_cat'] = np.ceil(housing['median_income'] / 1.5)  # income의 카테고리 수 제한\n",
    "housing['income_cat'].value_counts()"
   ]
  },
  {
   "cell_type": "code",
   "execution_count": 20,
   "metadata": {},
   "outputs": [
    {
     "data": {
      "text/plain": [
       "count    20640.000000\n",
       "mean         3.093362\n",
       "std          1.303707\n",
       "min          1.000000\n",
       "25%          2.000000\n",
       "50%          3.000000\n",
       "75%          4.000000\n",
       "max         11.000000\n",
       "Name: income_cat, dtype: float64"
      ]
     },
     "execution_count": 20,
     "metadata": {},
     "output_type": "execute_result"
    }
   ],
   "source": [
    "housing['income_cat'].describe()"
   ]
  },
  {
   "cell_type": "code",
   "execution_count": 21,
   "metadata": {},
   "outputs": [
    {
     "data": {
      "text/html": [
       "<div>\n",
       "<style scoped>\n",
       "    .dataframe tbody tr th:only-of-type {\n",
       "        vertical-align: middle;\n",
       "    }\n",
       "\n",
       "    .dataframe tbody tr th {\n",
       "        vertical-align: top;\n",
       "    }\n",
       "\n",
       "    .dataframe thead th {\n",
       "        text-align: right;\n",
       "    }\n",
       "</style>\n",
       "<table border=\"1\" class=\"dataframe\">\n",
       "  <thead>\n",
       "    <tr style=\"text-align: right;\">\n",
       "      <th></th>\n",
       "      <th>longitude</th>\n",
       "      <th>latitude</th>\n",
       "      <th>housing_median_age</th>\n",
       "      <th>total_rooms</th>\n",
       "      <th>total_bedrooms</th>\n",
       "      <th>population</th>\n",
       "      <th>households</th>\n",
       "      <th>median_income</th>\n",
       "      <th>median_house_value</th>\n",
       "      <th>ocean_proximity</th>\n",
       "      <th>income_cat</th>\n",
       "    </tr>\n",
       "  </thead>\n",
       "  <tbody>\n",
       "    <tr>\n",
       "      <th>0</th>\n",
       "      <td>-122.23</td>\n",
       "      <td>37.88</td>\n",
       "      <td>41.0</td>\n",
       "      <td>880.0</td>\n",
       "      <td>129.0</td>\n",
       "      <td>322.0</td>\n",
       "      <td>126.0</td>\n",
       "      <td>8.3252</td>\n",
       "      <td>452600.0</td>\n",
       "      <td>NEAR BAY</td>\n",
       "      <td>6.0</td>\n",
       "    </tr>\n",
       "    <tr>\n",
       "      <th>1</th>\n",
       "      <td>-122.22</td>\n",
       "      <td>37.86</td>\n",
       "      <td>21.0</td>\n",
       "      <td>7099.0</td>\n",
       "      <td>1106.0</td>\n",
       "      <td>2401.0</td>\n",
       "      <td>1138.0</td>\n",
       "      <td>8.3014</td>\n",
       "      <td>358500.0</td>\n",
       "      <td>NEAR BAY</td>\n",
       "      <td>6.0</td>\n",
       "    </tr>\n",
       "    <tr>\n",
       "      <th>2</th>\n",
       "      <td>-122.24</td>\n",
       "      <td>37.85</td>\n",
       "      <td>52.0</td>\n",
       "      <td>1467.0</td>\n",
       "      <td>190.0</td>\n",
       "      <td>496.0</td>\n",
       "      <td>177.0</td>\n",
       "      <td>7.2574</td>\n",
       "      <td>352100.0</td>\n",
       "      <td>NEAR BAY</td>\n",
       "      <td>5.0</td>\n",
       "    </tr>\n",
       "    <tr>\n",
       "      <th>3</th>\n",
       "      <td>-122.25</td>\n",
       "      <td>37.85</td>\n",
       "      <td>52.0</td>\n",
       "      <td>1274.0</td>\n",
       "      <td>235.0</td>\n",
       "      <td>558.0</td>\n",
       "      <td>219.0</td>\n",
       "      <td>5.6431</td>\n",
       "      <td>341300.0</td>\n",
       "      <td>NEAR BAY</td>\n",
       "      <td>4.0</td>\n",
       "    </tr>\n",
       "    <tr>\n",
       "      <th>4</th>\n",
       "      <td>-122.25</td>\n",
       "      <td>37.85</td>\n",
       "      <td>52.0</td>\n",
       "      <td>1627.0</td>\n",
       "      <td>280.0</td>\n",
       "      <td>565.0</td>\n",
       "      <td>259.0</td>\n",
       "      <td>3.8462</td>\n",
       "      <td>342200.0</td>\n",
       "      <td>NEAR BAY</td>\n",
       "      <td>3.0</td>\n",
       "    </tr>\n",
       "    <tr>\n",
       "      <th>5</th>\n",
       "      <td>-122.25</td>\n",
       "      <td>37.85</td>\n",
       "      <td>52.0</td>\n",
       "      <td>919.0</td>\n",
       "      <td>213.0</td>\n",
       "      <td>413.0</td>\n",
       "      <td>193.0</td>\n",
       "      <td>4.0368</td>\n",
       "      <td>269700.0</td>\n",
       "      <td>NEAR BAY</td>\n",
       "      <td>3.0</td>\n",
       "    </tr>\n",
       "    <tr>\n",
       "      <th>6</th>\n",
       "      <td>-122.25</td>\n",
       "      <td>37.84</td>\n",
       "      <td>52.0</td>\n",
       "      <td>2535.0</td>\n",
       "      <td>489.0</td>\n",
       "      <td>1094.0</td>\n",
       "      <td>514.0</td>\n",
       "      <td>3.6591</td>\n",
       "      <td>299200.0</td>\n",
       "      <td>NEAR BAY</td>\n",
       "      <td>3.0</td>\n",
       "    </tr>\n",
       "    <tr>\n",
       "      <th>7</th>\n",
       "      <td>-122.25</td>\n",
       "      <td>37.84</td>\n",
       "      <td>52.0</td>\n",
       "      <td>3104.0</td>\n",
       "      <td>687.0</td>\n",
       "      <td>1157.0</td>\n",
       "      <td>647.0</td>\n",
       "      <td>3.1200</td>\n",
       "      <td>241400.0</td>\n",
       "      <td>NEAR BAY</td>\n",
       "      <td>3.0</td>\n",
       "    </tr>\n",
       "    <tr>\n",
       "      <th>8</th>\n",
       "      <td>-122.26</td>\n",
       "      <td>37.84</td>\n",
       "      <td>42.0</td>\n",
       "      <td>2555.0</td>\n",
       "      <td>665.0</td>\n",
       "      <td>1206.0</td>\n",
       "      <td>595.0</td>\n",
       "      <td>2.0804</td>\n",
       "      <td>226700.0</td>\n",
       "      <td>NEAR BAY</td>\n",
       "      <td>2.0</td>\n",
       "    </tr>\n",
       "    <tr>\n",
       "      <th>9</th>\n",
       "      <td>-122.25</td>\n",
       "      <td>37.84</td>\n",
       "      <td>52.0</td>\n",
       "      <td>3549.0</td>\n",
       "      <td>707.0</td>\n",
       "      <td>1551.0</td>\n",
       "      <td>714.0</td>\n",
       "      <td>3.6912</td>\n",
       "      <td>261100.0</td>\n",
       "      <td>NEAR BAY</td>\n",
       "      <td>3.0</td>\n",
       "    </tr>\n",
       "  </tbody>\n",
       "</table>\n",
       "</div>"
      ],
      "text/plain": [
       "   longitude  latitude  housing_median_age  total_rooms  total_bedrooms  \\\n",
       "0    -122.23     37.88                41.0        880.0           129.0   \n",
       "1    -122.22     37.86                21.0       7099.0          1106.0   \n",
       "2    -122.24     37.85                52.0       1467.0           190.0   \n",
       "3    -122.25     37.85                52.0       1274.0           235.0   \n",
       "4    -122.25     37.85                52.0       1627.0           280.0   \n",
       "5    -122.25     37.85                52.0        919.0           213.0   \n",
       "6    -122.25     37.84                52.0       2535.0           489.0   \n",
       "7    -122.25     37.84                52.0       3104.0           687.0   \n",
       "8    -122.26     37.84                42.0       2555.0           665.0   \n",
       "9    -122.25     37.84                52.0       3549.0           707.0   \n",
       "\n",
       "   population  households  median_income  median_house_value ocean_proximity  \\\n",
       "0       322.0       126.0         8.3252            452600.0        NEAR BAY   \n",
       "1      2401.0      1138.0         8.3014            358500.0        NEAR BAY   \n",
       "2       496.0       177.0         7.2574            352100.0        NEAR BAY   \n",
       "3       558.0       219.0         5.6431            341300.0        NEAR BAY   \n",
       "4       565.0       259.0         3.8462            342200.0        NEAR BAY   \n",
       "5       413.0       193.0         4.0368            269700.0        NEAR BAY   \n",
       "6      1094.0       514.0         3.6591            299200.0        NEAR BAY   \n",
       "7      1157.0       647.0         3.1200            241400.0        NEAR BAY   \n",
       "8      1206.0       595.0         2.0804            226700.0        NEAR BAY   \n",
       "9      1551.0       714.0         3.6912            261100.0        NEAR BAY   \n",
       "\n",
       "   income_cat  \n",
       "0         6.0  \n",
       "1         6.0  \n",
       "2         5.0  \n",
       "3         4.0  \n",
       "4         3.0  \n",
       "5         3.0  \n",
       "6         3.0  \n",
       "7         3.0  \n",
       "8         2.0  \n",
       "9         3.0  "
      ]
     },
     "execution_count": 21,
     "metadata": {},
     "output_type": "execute_result"
    }
   ],
   "source": [
    "\n",
    "# where절 사용법: \n",
    "# where(cond, other, inplace): cond가 True => 원래값 유지, cond가 False면 other로 설정 함. inplace가 True면 중복값 덮어쓰기.\n",
    "housing['income_cat'].where(housing['income_cat'] < 6, 6.0, inplace=True) # 6보다 큰 카테고리는 6로 합치자. (소득 카테고리를 나눔)\n",
    "housing.head(10)"
   ]
  },
  {
   "cell_type": "code",
   "execution_count": 22,
   "metadata": {},
   "outputs": [
    {
     "data": {
      "text/plain": [
       "count    20640.000000\n",
       "mean         3.052180\n",
       "std          1.156297\n",
       "min          1.000000\n",
       "25%          2.000000\n",
       "50%          3.000000\n",
       "75%          4.000000\n",
       "max          6.000000\n",
       "Name: income_cat, dtype: float64"
      ]
     },
     "execution_count": 22,
     "metadata": {},
     "output_type": "execute_result"
    }
   ],
   "source": [
    "housing['income_cat'].describe()"
   ]
  },
  {
   "cell_type": "code",
   "execution_count": 23,
   "metadata": {},
   "outputs": [
    {
     "data": {
      "text/plain": [
       "3.0    0.350581\n",
       "2.0    0.318847\n",
       "4.0    0.176308\n",
       "5.0    0.068944\n",
       "6.0    0.045494\n",
       "1.0    0.039826\n",
       "Name: income_cat, dtype: float64"
      ]
     },
     "execution_count": 23,
     "metadata": {},
     "output_type": "execute_result"
    }
   ],
   "source": [
    "housing['income_cat'].value_counts() / len(housing)"
   ]
  },
  {
   "cell_type": "code",
   "execution_count": 24,
   "metadata": {},
   "outputs": [
    {
     "data": {
      "text/plain": [
       "<matplotlib.axes._subplots.AxesSubplot at 0x9d26908>"
      ]
     },
     "execution_count": 24,
     "metadata": {},
     "output_type": "execute_result"
    },
    {
     "data": {
      "image/png": "[encoded data removed]",
      "text/plain": [
       "<Figure size 432x288 with 1 Axes>"
      ]
     },
     "metadata": {
      "needs_background": "light"
     },
     "output_type": "display_data"
    }
   ],
   "source": [
    "housing['income_cat'].hist(bins=6)"
   ]
  },
  {
   "cell_type": "markdown",
   "metadata": {},
   "source": [
    "### 계층 샘플링 - sklearn-> StratifiedShuffleSplit"
   ]
  },
  {
   "cell_type": "code",
   "execution_count": 25,
   "metadata": {},
   "outputs": [],
   "source": [
    "from sklearn.model_selection import StratifiedShuffleSplit, train_test_split"
   ]
  },
  {
   "cell_type": "code",
   "execution_count": 33,
   "metadata": {},
   "outputs": [
    {
     "data": {
      "text/plain": [
       "StratifiedShuffleSplit(n_splits=1, random_state=42, test_size=0.2,\n",
       "            train_size=None)"
      ]
     },
     "execution_count": 33,
     "metadata": {},
     "output_type": "execute_result"
    }
   ],
   "source": [
    "# StratifiedShuffleSplit\n",
    "split = StratifiedShuffleSplit(n_splits=1, test_size=0.2, random_state=42)\n",
    "split\n"
   ]
  },
  {
   "cell_type": "code",
   "execution_count": 34,
   "metadata": {},
   "outputs": [],
   "source": [
    "# split = train_test_split(\n",
    "#     housing, test_size=.2, random_state=42, \n",
    "#     stratify=housing['income_cat']\n",
    "# )"
   ]
  },
  {
   "cell_type": "code",
   "execution_count": 35,
   "metadata": {},
   "outputs": [],
   "source": [
    "\n",
    "# split.split => generator\n",
    "for train_idx, test_idx in split.split(housing, housing['income_cat']):\n",
    "    strat_train_set = housing.loc[train_idx]\n",
    "    strat_test_set = housing.loc[test_idx]\n"
   ]
  },
  {
   "cell_type": "code",
   "execution_count": 36,
   "metadata": {},
   "outputs": [
    {
     "data": {
      "text/plain": [
       "(16512, 4128)"
      ]
     },
     "execution_count": 36,
     "metadata": {},
     "output_type": "execute_result"
    }
   ],
   "source": [
    "len(strat_train_set), len(strat_test_set)"
   ]
  },
  {
   "cell_type": "markdown",
   "metadata": {},
   "source": [
    "#### 비율 비교"
   ]
  },
  {
   "cell_type": "code",
   "execution_count": 37,
   "metadata": {},
   "outputs": [
    {
     "name": "stdout",
     "output_type": "stream",
     "text": [
      "모집단 비율\n",
      "3.0    0.350581\n",
      "2.0    0.318847\n",
      "4.0    0.176308\n",
      "5.0    0.068944\n",
      "6.0    0.045494\n",
      "1.0    0.039826\n",
      "Name: income_cat, dtype: float64\n",
      "\n",
      " 테스트 비율\n",
      "3.0    0.350533\n",
      "2.0    0.318798\n",
      "4.0    0.176357\n",
      "5.0    0.069041\n",
      "6.0    0.045543\n",
      "1.0    0.039729\n",
      "Name: income_cat, dtype: float64\n",
      "\n",
      " 층화추출법: 모집단 비율 - 샘플링 비율\n",
      "3.0    0.000048\n",
      "2.0    0.000048\n",
      "4.0    0.000048\n",
      "5.0    0.000097\n",
      "6.0    0.000048\n",
      "1.0    0.000097\n",
      "Name: income_cat, dtype: float64\n"
     ]
    }
   ],
   "source": [
    "original_strat_ratio = housing['income_cat'].value_counts() / len(housing)\n",
    "print(\"모집단 비율\")\n",
    "print(original_strat_ratio)\n",
    "\n",
    "print(\"\\n 테스트 비율\")\n",
    "test_strat_ratio = strat_test_set['income_cat'].value_counts()/len(strat_test_set)\n",
    "print(test_strat_ratio)\n",
    "\n",
    "print(\"\\n 층화추출법: 모집단 비율 - 샘플링 비율\")\n",
    "print(abs(original_strat_ratio - test_strat_ratio))"
   ]
  },
  {
   "cell_type": "code",
   "execution_count": 38,
   "metadata": {},
   "outputs": [
    {
     "name": "stdout",
     "output_type": "stream",
     "text": [
      "모집단 비율\n",
      "3.0    0.350581\n",
      "2.0    0.318847\n",
      "4.0    0.176308\n",
      "5.0    0.068944\n",
      "6.0    0.045494\n",
      "1.0    0.039826\n",
      "Name: income_cat, dtype: float64\n",
      "\n",
      "\n",
      " 테스트 비율\n",
      "3.0    0.349806\n",
      "2.0    0.324612\n",
      "4.0    0.175145\n",
      "5.0    0.070494\n",
      "6.0    0.042878\n",
      "1.0    0.037064\n",
      "Name: income_cat, dtype: float64\n",
      "\n",
      "\n",
      " 무작위 추출법: 모집단 비율 - 샘플링 비율\n",
      "3.0    0.000775\n",
      "2.0    0.005766\n",
      "4.0    0.001163\n",
      "5.0    0.001550\n",
      "6.0    0.002616\n",
      "1.0    0.002762\n",
      "Name: income_cat, dtype: float64\n"
     ]
    }
   ],
   "source": [
    "# 만약 무작위 샘플링이라면\n",
    "shuffle_test = split_train_test(housing, 0.2)[1]\n",
    "\n",
    "o_shuffle_ratio = housing['income_cat'].value_counts() / len(housing)\n",
    "print(\"모집단 비율\")\n",
    "print(o_shuffle_ratio)\n",
    "print()\n",
    "\n",
    "t_shuffle_ratio = shuffle_test['income_cat'].value_counts()/len(shuffle_test)\n",
    "print(\"\\n 테스트 비율\")\n",
    "print(t_shuffle_ratio)\n",
    "\n",
    "print()\n",
    "print(\"\\n 무작위 추출법: 모집단 비율 - 샘플링 비율\")\n",
    "print(abs(o_shuffle_ratio-t_shuffle_ratio))"
   ]
  },
  {
   "cell_type": "code",
   "execution_count": 39,
   "metadata": {},
   "outputs": [],
   "source": [
    "# income cat 삭제. (표본 나눴으니.)\n",
    "for set_ in (strat_train_set, strat_test_set):\n",
    "    set_.drop(\"income_cat\", axis=1, inplace=True)"
   ]
  },
  {
   "cell_type": "markdown",
   "metadata": {},
   "source": [
    "## 4. 데이터 이해를 위한 탐색과 시각화"
   ]
  },
  {
   "cell_type": "code",
   "execution_count": 40,
   "metadata": {},
   "outputs": [],
   "source": [
    "housing = strat_train_set.copy() # 훈련 셋 손상시키지 않기 위한 복사본"
   ]
  },
  {
   "cell_type": "markdown",
   "metadata": {},
   "source": [
    "### 4-1. 위치데이터 시각화"
   ]
  },
  {
   "cell_type": "code",
   "execution_count": 41,
   "metadata": {},
   "outputs": [
    {
     "data": {
      "image/png": "[encoded data removed]",
      "text/plain": [
       "<Figure size 648x648 with 1 Axes>"
      ]
     },
     "metadata": {
      "needs_background": "light"
     },
     "output_type": "display_data"
    }
   ],
   "source": [
    "import matplotlib.image as mpimg\n",
    "\n",
    "housing_plot = housing.plot(kind=\"scatter\", x=\"longitude\", y=\"latitude\", figsize=(9, 9))\n",
    "housing_plot.set_xlabel('longitude')\n",
    "housing_plot.set_ylabel('latitude')\n",
    "plt.show()\n"
   ]
  },
  {
   "cell_type": "code",
   "execution_count": 42,
   "metadata": {},
   "outputs": [
    {
     "ename": "NameError",
     "evalue": "name 'map_img' is not defined",
     "output_type": "error",
     "traceback": [
      "\u001b[1;31m---------------------------------------------------------------------------\u001b[0m",
      "\u001b[1;31mNameError\u001b[0m                                 Traceback (most recent call last)",
      "\u001b[1;32m<ipython-input-42-7ed48a64c499>\u001b[0m in \u001b[0;36m<module>\u001b[1;34m\u001b[0m\n\u001b[0;32m      5\u001b[0m \u001b[0mhousing_plot\u001b[0m\u001b[1;33m.\u001b[0m\u001b[0mset_xlabel\u001b[0m\u001b[1;33m(\u001b[0m\u001b[1;34m'경도'\u001b[0m\u001b[1;33m)\u001b[0m\u001b[1;33m\u001b[0m\u001b[1;33m\u001b[0m\u001b[0m\n\u001b[0;32m      6\u001b[0m \u001b[0mhousing_plot\u001b[0m\u001b[1;33m.\u001b[0m\u001b[0mset_ylabel\u001b[0m\u001b[1;33m(\u001b[0m\u001b[1;34m'위도'\u001b[0m\u001b[1;33m)\u001b[0m\u001b[1;33m\u001b[0m\u001b[1;33m\u001b[0m\u001b[0m\n\u001b[1;32m----> 7\u001b[1;33m \u001b[0mplt\u001b[0m\u001b[1;33m.\u001b[0m\u001b[0mimshow\u001b[0m\u001b[1;33m(\u001b[0m\u001b[0mmap_img\u001b[0m\u001b[1;33m,\u001b[0m \u001b[0mextent\u001b[0m\u001b[1;33m=\u001b[0m\u001b[1;33m[\u001b[0m\u001b[1;33m-\u001b[0m\u001b[1;36m124.7\u001b[0m\u001b[1;33m,\u001b[0m \u001b[1;33m-\u001b[0m\u001b[1;36m113.9\u001b[0m\u001b[1;33m,\u001b[0m \u001b[1;36m32.3\u001b[0m\u001b[1;33m,\u001b[0m \u001b[1;36m42.2\u001b[0m\u001b[1;33m]\u001b[0m\u001b[1;33m,\u001b[0m \u001b[0malpha\u001b[0m\u001b[1;33m=\u001b[0m\u001b[1;36m0.6\u001b[0m\u001b[1;33m)\u001b[0m\u001b[1;33m\u001b[0m\u001b[1;33m\u001b[0m\u001b[0m\n\u001b[0m",
      "\u001b[1;31mNameError\u001b[0m: name 'map_img' is not defined"
     ]
    },
    {
     "name": "stderr",
     "output_type": "stream",
     "text": [
      "C:\\ProgramData\\Anaconda3\\envs\\study\\lib\\site-packages\\matplotlib\\backends\\backend_agg.py:211: RuntimeWarning: Glyph 44221 missing from current font.\n",
      "  font.set_text(s, 0.0, flags=flags)\n",
      "C:\\ProgramData\\Anaconda3\\envs\\study\\lib\\site-packages\\matplotlib\\backends\\backend_agg.py:211: RuntimeWarning: Glyph 46020 missing from current font.\n",
      "  font.set_text(s, 0.0, flags=flags)\n",
      "C:\\ProgramData\\Anaconda3\\envs\\study\\lib\\site-packages\\matplotlib\\backends\\backend_agg.py:180: RuntimeWarning: Glyph 44221 missing from current font.\n",
      "  font.set_text(s, 0, flags=flags)\n",
      "C:\\ProgramData\\Anaconda3\\envs\\study\\lib\\site-packages\\matplotlib\\backends\\backend_agg.py:180: RuntimeWarning: Glyph 46020 missing from current font.\n",
      "  font.set_text(s, 0, flags=flags)\n",
      "C:\\ProgramData\\Anaconda3\\envs\\study\\lib\\site-packages\\matplotlib\\backends\\backend_agg.py:211: RuntimeWarning: Glyph 50948 missing from current font.\n",
      "  font.set_text(s, 0.0, flags=flags)\n",
      "C:\\ProgramData\\Anaconda3\\envs\\study\\lib\\site-packages\\matplotlib\\backends\\backend_agg.py:180: RuntimeWarning: Glyph 50948 missing from current font.\n",
      "  font.set_text(s, 0, flags=flags)\n"
     ]
    },
    {
     "data": {
      "image/png": "[encoded data removed]",
      "text/plain": [
       "<Figure size 648x648 with 1 Axes>"
      ]
     },
     "metadata": {
      "needs_background": "light"
     },
     "output_type": "display_data"
    }
   ],
   "source": [
    "# 지도 출처: https://upload.wikimedia.org/wikipedia/commons/archive/f/f9/20090605191745%21USA_California_location_map.svg\n",
    "# map_img = mpimg.imread('datasets/housing/califonia.png')\n",
    "\n",
    "housing_plot = housing.plot(kind=\"scatter\", x=\"longitude\", y=\"latitude\", figsize=(9, 9))\n",
    "housing_plot.set_xlabel('경도')\n",
    "housing_plot.set_ylabel('위도')\n",
    "plt.imshow(map_img, extent=[-124.7, -113.9, 32.3, 42.2], alpha=0.6)"
   ]
  },
  {
   "cell_type": "markdown",
   "metadata": {},
   "source": [
    "##### 밀집도 추가"
   ]
  },
  {
   "cell_type": "code",
   "execution_count": null,
   "metadata": {},
   "outputs": [],
   "source": [
    "housing_plot = housing.plot(kind=\"scatter\", x=\"longitude\", y=\"latitude\", alpha=0.05, figsize=(9, 9))\n",
    "housing_plot.set_xlabel('경도')\n",
    "housing_plot.set_ylabel('위도')\n",
    "# plt.imshow(map_img, extent=[-124.7, -113.9, 32.3, 42.2], alpha=0.6)\n",
    "\n",
    "plt.show()"
   ]
  },
  {
   "cell_type": "markdown",
   "metadata": {},
   "source": [
    "### 데이터 추가하기(집 가격, 인구수)"
   ]
  },
  {
   "cell_type": "code",
   "execution_count": null,
   "metadata": {},
   "outputs": [],
   "source": [
    "from matplotlib import pyplot  as plt\n",
    "\n",
    "\n",
    "housing_plot = housing.plot(kind='scatter', x='longitude', y='latitude', alpha=0.1,\n",
    "                            s=housing['population']/100, c=\"median_house_value\", \n",
    "                            cmap=plt.get_cmap(\"jet\"), colorbar=True,  figsize=(20,10))\n",
    "\n",
    "housing_plot.set_xlabel('경도', fontsize='xx-large')\n",
    "housing_plot.set_ylabel('위도', fontsize='xx-large')\n",
    "# plt.imshow(map_img, extent=[-124.7, -113.9, 32.3, 42.2], alpha=0.6)\n",
    "\n",
    "\n",
    "plt.legend(('인구',), fontsize='xx-large')"
   ]
  },
  {
   "cell_type": "markdown",
   "metadata": {},
   "source": [
    "### 4-2. 상관관계 조사"
   ]
  },
  {
   "cell_type": "markdown",
   "metadata": {},
   "source": [
    "#### 표준 상관계수: Standard correlation coefficient - 피어슨 r (corr())"
   ]
  },
  {
   "cell_type": "code",
   "execution_count": null,
   "metadata": {},
   "outputs": [],
   "source": [
    "corr_matrix = housing.corr()\n",
    "corr_matrix"
   ]
  },
  {
   "cell_type": "code",
   "execution_count": null,
   "metadata": {},
   "outputs": [],
   "source": [
    "corr_matrix['median_house_value'].sort_values(ascending=False)"
   ]
  },
  {
   "cell_type": "code",
   "execution_count": null,
   "metadata": {},
   "outputs": [],
   "source": [
    "attributes = ['housing_median_age', \"total_rooms\", \"total_bedrooms\", \"population\", \"households\", \"median_income\", \"median_house_value\"]\n",
    "corr_matrix[attributes]"
   ]
  },
  {
   "cell_type": "code",
   "execution_count": null,
   "metadata": {},
   "outputs": [],
   "source": [
    "%matplotlib inline"
   ]
  },
  {
   "cell_type": "code",
   "execution_count": 43,
   "metadata": {
    "scrolled": false
   },
   "outputs": [
    {
     "ename": "NameError",
     "evalue": "name 'attributes' is not defined",
     "output_type": "error",
     "traceback": [
      "\u001b[1;31m---------------------------------------------------------------------------\u001b[0m",
      "\u001b[1;31mNameError\u001b[0m                                 Traceback (most recent call last)",
      "\u001b[1;32m<ipython-input-43-f7e815d53670>\u001b[0m in \u001b[0;36m<module>\u001b[1;34m\u001b[0m\n\u001b[0;32m      1\u001b[0m \u001b[1;32mfrom\u001b[0m \u001b[0mpandas\u001b[0m\u001b[1;33m.\u001b[0m\u001b[0mplotting\u001b[0m \u001b[1;32mimport\u001b[0m \u001b[0mscatter_matrix\u001b[0m\u001b[1;33m\u001b[0m\u001b[1;33m\u001b[0m\u001b[0m\n\u001b[0;32m      2\u001b[0m \u001b[1;33m\u001b[0m\u001b[0m\n\u001b[1;32m----> 3\u001b[1;33m \u001b[0mscatter_matrix\u001b[0m\u001b[1;33m(\u001b[0m\u001b[0mhousing\u001b[0m\u001b[1;33m[\u001b[0m\u001b[0mattributes\u001b[0m\u001b[1;33m]\u001b[0m\u001b[1;33m,\u001b[0m \u001b[0mfigsize\u001b[0m\u001b[1;33m=\u001b[0m\u001b[1;33m(\u001b[0m\u001b[1;36m30\u001b[0m\u001b[1;33m,\u001b[0m \u001b[1;36m20\u001b[0m\u001b[1;33m)\u001b[0m\u001b[1;33m,\u001b[0m \u001b[0malpha\u001b[0m\u001b[1;33m=\u001b[0m\u001b[1;36m0.1\u001b[0m\u001b[1;33m)\u001b[0m\u001b[1;33m\u001b[0m\u001b[1;33m\u001b[0m\u001b[0m\n\u001b[0m\u001b[0;32m      4\u001b[0m \u001b[0mplt\u001b[0m\u001b[1;33m.\u001b[0m\u001b[0mshow\u001b[0m\u001b[1;33m(\u001b[0m\u001b[1;33m)\u001b[0m\u001b[1;33m\u001b[0m\u001b[1;33m\u001b[0m\u001b[0m\n",
      "\u001b[1;31mNameError\u001b[0m: name 'attributes' is not defined"
     ]
    }
   ],
   "source": [
    "from pandas.plotting import scatter_matrix\n",
    "\n",
    "scatter_matrix(housing[attributes], figsize=(30, 20), alpha=0.1)\n",
    "plt.show()\n"
   ]
  },
  {
   "cell_type": "code",
   "execution_count": 44,
   "metadata": {},
   "outputs": [],
   "source": [
    "# median_income 과 median_house_value가 상관관계"
   ]
  },
  {
   "cell_type": "markdown",
   "metadata": {},
   "source": [
    "### 4-3. 특성 조합"
   ]
  },
  {
   "cell_type": "code",
   "execution_count": 45,
   "metadata": {},
   "outputs": [],
   "source": [
    "housing['rooms_per_houshold'] = housing['total_rooms']/housing['households'] # 가구당 방 개수\n",
    "housing['bedrooms_per_room'] = housing['total_bedrooms']/housing['total_rooms'] # 전체 방당 침실개수\n",
    "housing['bedrooms_per_household'] = housing['total_bedrooms']/housing['households'] # 가구당 침실개수\n",
    "housing['population_per_household'] = housing['population']/housing['households'] # 평균 한 가구 인원"
   ]
  },
  {
   "cell_type": "code",
   "execution_count": null,
   "metadata": {},
   "outputs": [],
   "source": [
    "corr_matrix = housing.corr()\n",
    "corr_matrix['median_house_value'].sort_values(ascending=False)\n",
    "\n",
    "# 추가 특성\n",
    "# rooms_per_houshold , bedrooms_per_room 가 다른 특성보다 상관관계가 높은편!"
   ]
  },
  {
   "cell_type": "markdown",
   "metadata": {},
   "source": [
    "## 5. 데이터처리 - 머신러닝 알고리즘 위한 데이터 준비"
   ]
  },
  {
   "cell_type": "code",
   "execution_count": null,
   "metadata": {},
   "outputs": [],
   "source": [
    "housing = strat_train_set.drop(\"median_house_value\", axis=1)\n",
    "housing_labels = strat_train_set['median_house_value'].copy()\n",
    "# housing복사본 만듬 -> 예측 변수만 분리"
   ]
  },
  {
   "cell_type": "code",
   "execution_count": null,
   "metadata": {},
   "outputs": [],
   "source": [
    "housing.info()"
   ]
  },
  {
   "cell_type": "markdown",
   "metadata": {},
   "source": [
    "### 5-0. 데이터 이해하기"
   ]
  },
  {
   "cell_type": "code",
   "execution_count": 46,
   "metadata": {},
   "outputs": [
    {
     "data": {
      "text/plain": [
       "<matplotlib.axes._subplots.AxesSubplot at 0x9c4d0f0>"
      ]
     },
     "execution_count": 46,
     "metadata": {},
     "output_type": "execute_result"
    },
    {
     "data": {
      "image/png": "[encoded data removed]",
      "text/plain": [
       "<Figure size 432x288 with 1 Axes>"
      ]
     },
     "metadata": {
      "needs_background": "light"
     },
     "output_type": "display_data"
    },
    {
     "data": {
      "image/png": "[encoded data removed]",
      "text/plain": [
       "<Figure size 432x288 with 1 Axes>"
      ]
     },
     "metadata": {
      "needs_background": "light"
     },
     "output_type": "display_data"
    }
   ],
   "source": [
    "# boxplot\n",
    "plt.figure(1)\n",
    "box_plot_attr = ['longitude', 'latitude', 'housing_median_age', 'median_income']\n",
    "housing.boxplot(box_plot_attr, figsize=(9,9))\n",
    "\n",
    "plt.figure(2)\n",
    "box_plot_attr2 = ['total_rooms', 'total_bedrooms', 'population']\n",
    "housing.boxplot(box_plot_attr2, figsize=(9,9))\n"
   ]
  },
  {
   "cell_type": "code",
   "execution_count": 47,
   "metadata": {},
   "outputs": [
    {
     "data": {
      "text/html": [
       "<style  type=\"text/css\" >\n",
       "    #T_eceff4d2_9721_11e9_9dde_50b7c3ab8a43row0_col0 {\n",
       "            background-color:  #b40426;\n",
       "            color:  #f1f1f1;\n",
       "        }    #T_eceff4d2_9721_11e9_9dde_50b7c3ab8a43row0_col1 {\n",
       "            background-color:  #3b4cc0;\n",
       "            color:  #f1f1f1;\n",
       "        }    #T_eceff4d2_9721_11e9_9dde_50b7c3ab8a43row0_col2 {\n",
       "            background-color:  #779af7;\n",
       "            color:  #000000;\n",
       "        }    #T_eceff4d2_9721_11e9_9dde_50b7c3ab8a43row0_col3 {\n",
       "            background-color:  #9fbfff;\n",
       "            color:  #000000;\n",
       "        }    #T_eceff4d2_9721_11e9_9dde_50b7c3ab8a43row0_col4 {\n",
       "            background-color:  #9fbfff;\n",
       "            color:  #000000;\n",
       "        }    #T_eceff4d2_9721_11e9_9dde_50b7c3ab8a43row0_col5 {\n",
       "            background-color:  #a2c1ff;\n",
       "            color:  #000000;\n",
       "        }    #T_eceff4d2_9721_11e9_9dde_50b7c3ab8a43row0_col6 {\n",
       "            background-color:  #98b9ff;\n",
       "            color:  #000000;\n",
       "        }    #T_eceff4d2_9721_11e9_9dde_50b7c3ab8a43row0_col7 {\n",
       "            background-color:  #b9d0f9;\n",
       "            color:  #000000;\n",
       "        }    #T_eceff4d2_9721_11e9_9dde_50b7c3ab8a43row0_col8 {\n",
       "            background-color:  #7093f3;\n",
       "            color:  #000000;\n",
       "        }    #T_eceff4d2_9721_11e9_9dde_50b7c3ab8a43row0_col9 {\n",
       "            background-color:  #93b5fe;\n",
       "            color:  #000000;\n",
       "        }    #T_eceff4d2_9721_11e9_9dde_50b7c3ab8a43row0_col10 {\n",
       "            background-color:  #cdd9ec;\n",
       "            color:  #000000;\n",
       "        }    #T_eceff4d2_9721_11e9_9dde_50b7c3ab8a43row0_col11 {\n",
       "            background-color:  #536edd;\n",
       "            color:  #000000;\n",
       "        }    #T_eceff4d2_9721_11e9_9dde_50b7c3ab8a43row0_col12 {\n",
       "            background-color:  #4257c9;\n",
       "            color:  #f1f1f1;\n",
       "        }    #T_eceff4d2_9721_11e9_9dde_50b7c3ab8a43row1_col0 {\n",
       "            background-color:  #3b4cc0;\n",
       "            color:  #f1f1f1;\n",
       "        }    #T_eceff4d2_9721_11e9_9dde_50b7c3ab8a43row1_col1 {\n",
       "            background-color:  #b40426;\n",
       "            color:  #f1f1f1;\n",
       "        }    #T_eceff4d2_9721_11e9_9dde_50b7c3ab8a43row1_col2 {\n",
       "            background-color:  #94b6ff;\n",
       "            color:  #000000;\n",
       "        }    #T_eceff4d2_9721_11e9_9dde_50b7c3ab8a43row1_col3 {\n",
       "            background-color:  #89acfd;\n",
       "            color:  #000000;\n",
       "        }    #T_eceff4d2_9721_11e9_9dde_50b7c3ab8a43row1_col4 {\n",
       "            background-color:  #799cf8;\n",
       "            color:  #000000;\n",
       "        }    #T_eceff4d2_9721_11e9_9dde_50b7c3ab8a43row1_col5 {\n",
       "            background-color:  #6788ee;\n",
       "            color:  #000000;\n",
       "        }    #T_eceff4d2_9721_11e9_9dde_50b7c3ab8a43row1_col6 {\n",
       "            background-color:  #7396f5;\n",
       "            color:  #000000;\n",
       "        }    #T_eceff4d2_9721_11e9_9dde_50b7c3ab8a43row1_col7 {\n",
       "            background-color:  #abc8fd;\n",
       "            color:  #000000;\n",
       "        }    #T_eceff4d2_9721_11e9_9dde_50b7c3ab8a43row1_col8 {\n",
       "            background-color:  #5673e0;\n",
       "            color:  #000000;\n",
       "        }    #T_eceff4d2_9721_11e9_9dde_50b7c3ab8a43row1_col9 {\n",
       "            background-color:  #b3cdfb;\n",
       "            color:  #000000;\n",
       "        }    #T_eceff4d2_9721_11e9_9dde_50b7c3ab8a43row1_col10 {\n",
       "            background-color:  #a3c2fe;\n",
       "            color:  #000000;\n",
       "        }    #T_eceff4d2_9721_11e9_9dde_50b7c3ab8a43row1_col11 {\n",
       "            background-color:  #6485ec;\n",
       "            color:  #000000;\n",
       "        }    #T_eceff4d2_9721_11e9_9dde_50b7c3ab8a43row1_col12 {\n",
       "            background-color:  #445acc;\n",
       "            color:  #f1f1f1;\n",
       "        }    #T_eceff4d2_9721_11e9_9dde_50b7c3ab8a43row2_col0 {\n",
       "            background-color:  #c7d7f0;\n",
       "            color:  #000000;\n",
       "        }    #T_eceff4d2_9721_11e9_9dde_50b7c3ab8a43row2_col1 {\n",
       "            background-color:  #d8dce2;\n",
       "            color:  #000000;\n",
       "        }    #T_eceff4d2_9721_11e9_9dde_50b7c3ab8a43row2_col2 {\n",
       "            background-color:  #b40426;\n",
       "            color:  #f1f1f1;\n",
       "        }    #T_eceff4d2_9721_11e9_9dde_50b7c3ab8a43row2_col3 {\n",
       "            background-color:  #3b4cc0;\n",
       "            color:  #f1f1f1;\n",
       "        }    #T_eceff4d2_9721_11e9_9dde_50b7c3ab8a43row2_col4 {\n",
       "            background-color:  #3b4cc0;\n",
       "            color:  #f1f1f1;\n",
       "        }    #T_eceff4d2_9721_11e9_9dde_50b7c3ab8a43row2_col5 {\n",
       "            background-color:  #3b4cc0;\n",
       "            color:  #f1f1f1;\n",
       "        }    #T_eceff4d2_9721_11e9_9dde_50b7c3ab8a43row2_col6 {\n",
       "            background-color:  #3b4cc0;\n",
       "            color:  #f1f1f1;\n",
       "        }    #T_eceff4d2_9721_11e9_9dde_50b7c3ab8a43row2_col7 {\n",
       "            background-color:  #a3c2fe;\n",
       "            color:  #000000;\n",
       "        }    #T_eceff4d2_9721_11e9_9dde_50b7c3ab8a43row2_col8 {\n",
       "            background-color:  #9dbdff;\n",
       "            color:  #000000;\n",
       "        }    #T_eceff4d2_9721_11e9_9dde_50b7c3ab8a43row2_col9 {\n",
       "            background-color:  #7396f5;\n",
       "            color:  #000000;\n",
       "        }    #T_eceff4d2_9721_11e9_9dde_50b7c3ab8a43row2_col10 {\n",
       "            background-color:  #d5dbe5;\n",
       "            color:  #000000;\n",
       "        }    #T_eceff4d2_9721_11e9_9dde_50b7c3ab8a43row2_col11 {\n",
       "            background-color:  #3b4cc0;\n",
       "            color:  #f1f1f1;\n",
       "        }    #T_eceff4d2_9721_11e9_9dde_50b7c3ab8a43row2_col12 {\n",
       "            background-color:  #465ecf;\n",
       "            color:  #f1f1f1;\n",
       "        }    #T_eceff4d2_9721_11e9_9dde_50b7c3ab8a43row3_col0 {\n",
       "            background-color:  #dedcdb;\n",
       "            color:  #000000;\n",
       "        }    #T_eceff4d2_9721_11e9_9dde_50b7c3ab8a43row3_col1 {\n",
       "            background-color:  #d2dbe8;\n",
       "            color:  #000000;\n",
       "        }    #T_eceff4d2_9721_11e9_9dde_50b7c3ab8a43row3_col2 {\n",
       "            background-color:  #3b4cc0;\n",
       "            color:  #f1f1f1;\n",
       "        }    #T_eceff4d2_9721_11e9_9dde_50b7c3ab8a43row3_col3 {\n",
       "            background-color:  #b40426;\n",
       "            color:  #f1f1f1;\n",
       "        }    #T_eceff4d2_9721_11e9_9dde_50b7c3ab8a43row3_col4 {\n",
       "            background-color:  #c73635;\n",
       "            color:  #f1f1f1;\n",
       "        }    #T_eceff4d2_9721_11e9_9dde_50b7c3ab8a43row3_col5 {\n",
       "            background-color:  #d95847;\n",
       "            color:  #000000;\n",
       "        }    #T_eceff4d2_9721_11e9_9dde_50b7c3ab8a43row3_col6 {\n",
       "            background-color:  #cb3e38;\n",
       "            color:  #f1f1f1;\n",
       "        }    #T_eceff4d2_9721_11e9_9dde_50b7c3ab8a43row3_col7 {\n",
       "            background-color:  #dfdbd9;\n",
       "            color:  #000000;\n",
       "        }    #T_eceff4d2_9721_11e9_9dde_50b7c3ab8a43row3_col8 {\n",
       "            background-color:  #a3c2fe;\n",
       "            color:  #000000;\n",
       "        }    #T_eceff4d2_9721_11e9_9dde_50b7c3ab8a43row3_col9 {\n",
       "            background-color:  #b9d0f9;\n",
       "            color:  #000000;\n",
       "        }    #T_eceff4d2_9721_11e9_9dde_50b7c3ab8a43row3_col10 {\n",
       "            background-color:  #92b4fe;\n",
       "            color:  #000000;\n",
       "        }    #T_eceff4d2_9721_11e9_9dde_50b7c3ab8a43row3_col11 {\n",
       "            background-color:  #5673e0;\n",
       "            color:  #000000;\n",
       "        }    #T_eceff4d2_9721_11e9_9dde_50b7c3ab8a43row3_col12 {\n",
       "            background-color:  #3b4cc0;\n",
       "            color:  #f1f1f1;\n",
       "        }    #T_eceff4d2_9721_11e9_9dde_50b7c3ab8a43row4_col0 {\n",
       "            background-color:  #e1dad6;\n",
       "            color:  #000000;\n",
       "        }    #T_eceff4d2_9721_11e9_9dde_50b7c3ab8a43row4_col1 {\n",
       "            background-color:  #cdd9ec;\n",
       "            color:  #000000;\n",
       "        }    #T_eceff4d2_9721_11e9_9dde_50b7c3ab8a43row4_col2 {\n",
       "            background-color:  #4358cb;\n",
       "            color:  #f1f1f1;\n",
       "        }    #T_eceff4d2_9721_11e9_9dde_50b7c3ab8a43row4_col3 {\n",
       "            background-color:  #c73635;\n",
       "            color:  #f1f1f1;\n",
       "        }    #T_eceff4d2_9721_11e9_9dde_50b7c3ab8a43row4_col4 {\n",
       "            background-color:  #b40426;\n",
       "            color:  #f1f1f1;\n",
       "        }    #T_eceff4d2_9721_11e9_9dde_50b7c3ab8a43row4_col5 {\n",
       "            background-color:  #d55042;\n",
       "            color:  #000000;\n",
       "        }    #T_eceff4d2_9721_11e9_9dde_50b7c3ab8a43row4_col6 {\n",
       "            background-color:  #b8122a;\n",
       "            color:  #f1f1f1;\n",
       "        }    #T_eceff4d2_9721_11e9_9dde_50b7c3ab8a43row4_col7 {\n",
       "            background-color:  #bad0f8;\n",
       "            color:  #000000;\n",
       "        }    #T_eceff4d2_9721_11e9_9dde_50b7c3ab8a43row4_col8 {\n",
       "            background-color:  #8badfd;\n",
       "            color:  #000000;\n",
       "        }    #T_eceff4d2_9721_11e9_9dde_50b7c3ab8a43row4_col9 {\n",
       "            background-color:  #9abbff;\n",
       "            color:  #000000;\n",
       "        }    #T_eceff4d2_9721_11e9_9dde_50b7c3ab8a43row4_col10 {\n",
       "            background-color:  #cbd8ee;\n",
       "            color:  #000000;\n",
       "        }    #T_eceff4d2_9721_11e9_9dde_50b7c3ab8a43row4_col11 {\n",
       "            background-color:  #5b7ae5;\n",
       "            color:  #000000;\n",
       "        }    #T_eceff4d2_9721_11e9_9dde_50b7c3ab8a43row4_col12 {\n",
       "            background-color:  #3b4cc0;\n",
       "            color:  #f1f1f1;\n",
       "        }    #T_eceff4d2_9721_11e9_9dde_50b7c3ab8a43row5_col0 {\n",
       "            background-color:  #e6d7cf;\n",
       "            color:  #000000;\n",
       "        }    #T_eceff4d2_9721_11e9_9dde_50b7c3ab8a43row5_col1 {\n",
       "            background-color:  #c6d6f1;\n",
       "            color:  #000000;\n",
       "        }    #T_eceff4d2_9721_11e9_9dde_50b7c3ab8a43row5_col2 {\n",
       "            background-color:  #4961d2;\n",
       "            color:  #f1f1f1;\n",
       "        }    #T_eceff4d2_9721_11e9_9dde_50b7c3ab8a43row5_col3 {\n",
       "            background-color:  #d75445;\n",
       "            color:  #000000;\n",
       "        }    #T_eceff4d2_9721_11e9_9dde_50b7c3ab8a43row5_col4 {\n",
       "            background-color:  #d44e41;\n",
       "            color:  #000000;\n",
       "        }    #T_eceff4d2_9721_11e9_9dde_50b7c3ab8a43row5_col5 {\n",
       "            background-color:  #b40426;\n",
       "            color:  #f1f1f1;\n",
       "        }    #T_eceff4d2_9721_11e9_9dde_50b7c3ab8a43row5_col6 {\n",
       "            background-color:  #cd423b;\n",
       "            color:  #f1f1f1;\n",
       "        }    #T_eceff4d2_9721_11e9_9dde_50b7c3ab8a43row5_col7 {\n",
       "            background-color:  #bcd2f7;\n",
       "            color:  #000000;\n",
       "        }    #T_eceff4d2_9721_11e9_9dde_50b7c3ab8a43row5_col8 {\n",
       "            background-color:  #7699f6;\n",
       "            color:  #000000;\n",
       "        }    #T_eceff4d2_9721_11e9_9dde_50b7c3ab8a43row5_col9 {\n",
       "            background-color:  #86a9fc;\n",
       "            color:  #000000;\n",
       "        }    #T_eceff4d2_9721_11e9_9dde_50b7c3ab8a43row5_col10 {\n",
       "            background-color:  #c1d4f4;\n",
       "            color:  #000000;\n",
       "        }    #T_eceff4d2_9721_11e9_9dde_50b7c3ab8a43row5_col11 {\n",
       "            background-color:  #3c4ec2;\n",
       "            color:  #f1f1f1;\n",
       "        }    #T_eceff4d2_9721_11e9_9dde_50b7c3ab8a43row5_col12 {\n",
       "            background-color:  #5977e3;\n",
       "            color:  #000000;\n",
       "        }    #T_eceff4d2_9721_11e9_9dde_50b7c3ab8a43row6_col0 {\n",
       "            background-color:  #e0dbd8;\n",
       "            color:  #000000;\n",
       "        }    #T_eceff4d2_9721_11e9_9dde_50b7c3ab8a43row6_col1 {\n",
       "            background-color:  #ccd9ed;\n",
       "            color:  #000000;\n",
       "        }    #T_eceff4d2_9721_11e9_9dde_50b7c3ab8a43row6_col2 {\n",
       "            background-color:  #465ecf;\n",
       "            color:  #f1f1f1;\n",
       "        }    #T_eceff4d2_9721_11e9_9dde_50b7c3ab8a43row6_col3 {\n",
       "            background-color:  #ca3b37;\n",
       "            color:  #f1f1f1;\n",
       "        }    #T_eceff4d2_9721_11e9_9dde_50b7c3ab8a43row6_col4 {\n",
       "            background-color:  #b8122a;\n",
       "            color:  #f1f1f1;\n",
       "        }    #T_eceff4d2_9721_11e9_9dde_50b7c3ab8a43row6_col5 {\n",
       "            background-color:  #cd423b;\n",
       "            color:  #f1f1f1;\n",
       "        }    #T_eceff4d2_9721_11e9_9dde_50b7c3ab8a43row6_col6 {\n",
       "            background-color:  #b40426;\n",
       "            color:  #f1f1f1;\n",
       "        }    #T_eceff4d2_9721_11e9_9dde_50b7c3ab8a43row6_col7 {\n",
       "            background-color:  #bed2f6;\n",
       "            color:  #000000;\n",
       "        }    #T_eceff4d2_9721_11e9_9dde_50b7c3ab8a43row6_col8 {\n",
       "            background-color:  #8fb1fe;\n",
       "            color:  #000000;\n",
       "        }    #T_eceff4d2_9721_11e9_9dde_50b7c3ab8a43row6_col9 {\n",
       "            background-color:  #85a8fc;\n",
       "            color:  #000000;\n",
       "        }    #T_eceff4d2_9721_11e9_9dde_50b7c3ab8a43row6_col10 {\n",
       "            background-color:  #c7d7f0;\n",
       "            color:  #000000;\n",
       "        }    #T_eceff4d2_9721_11e9_9dde_50b7c3ab8a43row6_col11 {\n",
       "            background-color:  #3e51c5;\n",
       "            color:  #f1f1f1;\n",
       "        }    #T_eceff4d2_9721_11e9_9dde_50b7c3ab8a43row6_col12 {\n",
       "            background-color:  #3b4cc0;\n",
       "            color:  #f1f1f1;\n",
       "        }    #T_eceff4d2_9721_11e9_9dde_50b7c3ab8a43row7_col0 {\n",
       "            background-color:  #d5dbe5;\n",
       "            color:  #000000;\n",
       "        }    #T_eceff4d2_9721_11e9_9dde_50b7c3ab8a43row7_col1 {\n",
       "            background-color:  #ccd9ed;\n",
       "            color:  #000000;\n",
       "        }    #T_eceff4d2_9721_11e9_9dde_50b7c3ab8a43row7_col2 {\n",
       "            background-color:  #7597f6;\n",
       "            color:  #000000;\n",
       "        }    #T_eceff4d2_9721_11e9_9dde_50b7c3ab8a43row7_col3 {\n",
       "            background-color:  #c5d6f2;\n",
       "            color:  #000000;\n",
       "        }    #T_eceff4d2_9721_11e9_9dde_50b7c3ab8a43row7_col4 {\n",
       "            background-color:  #89acfd;\n",
       "            color:  #000000;\n",
       "        }    #T_eceff4d2_9721_11e9_9dde_50b7c3ab8a43row7_col5 {\n",
       "            background-color:  #88abfd;\n",
       "            color:  #000000;\n",
       "        }    #T_eceff4d2_9721_11e9_9dde_50b7c3ab8a43row7_col6 {\n",
       "            background-color:  #8badfd;\n",
       "            color:  #000000;\n",
       "        }    #T_eceff4d2_9721_11e9_9dde_50b7c3ab8a43row7_col7 {\n",
       "            background-color:  #b40426;\n",
       "            color:  #f1f1f1;\n",
       "        }    #T_eceff4d2_9721_11e9_9dde_50b7c3ab8a43row7_col8 {\n",
       "            background-color:  #f4987a;\n",
       "            color:  #000000;\n",
       "        }    #T_eceff4d2_9721_11e9_9dde_50b7c3ab8a43row7_col9 {\n",
       "            background-color:  #dedcdb;\n",
       "            color:  #000000;\n",
       "        }    #T_eceff4d2_9721_11e9_9dde_50b7c3ab8a43row7_col10 {\n",
       "            background-color:  #3b4cc0;\n",
       "            color:  #f1f1f1;\n",
       "        }    #T_eceff4d2_9721_11e9_9dde_50b7c3ab8a43row7_col11 {\n",
       "            background-color:  #3e51c5;\n",
       "            color:  #f1f1f1;\n",
       "        }    #T_eceff4d2_9721_11e9_9dde_50b7c3ab8a43row7_col12 {\n",
       "            background-color:  #4961d2;\n",
       "            color:  #f1f1f1;\n",
       "        }    #T_eceff4d2_9721_11e9_9dde_50b7c3ab8a43row8_col0 {\n",
       "            background-color:  #d1dae9;\n",
       "            color:  #000000;\n",
       "        }    #T_eceff4d2_9721_11e9_9dde_50b7c3ab8a43row8_col1 {\n",
       "            background-color:  #c1d4f4;\n",
       "            color:  #000000;\n",
       "        }    #T_eceff4d2_9721_11e9_9dde_50b7c3ab8a43row8_col2 {\n",
       "            background-color:  #afcafc;\n",
       "            color:  #000000;\n",
       "        }    #T_eceff4d2_9721_11e9_9dde_50b7c3ab8a43row8_col3 {\n",
       "            background-color:  #b5cdfa;\n",
       "            color:  #000000;\n",
       "        }    #T_eceff4d2_9721_11e9_9dde_50b7c3ab8a43row8_col4 {\n",
       "            background-color:  #98b9ff;\n",
       "            color:  #000000;\n",
       "        }    #T_eceff4d2_9721_11e9_9dde_50b7c3ab8a43row8_col5 {\n",
       "            background-color:  #80a3fa;\n",
       "            color:  #000000;\n",
       "        }    #T_eceff4d2_9721_11e9_9dde_50b7c3ab8a43row8_col6 {\n",
       "            background-color:  #9abbff;\n",
       "            color:  #000000;\n",
       "        }    #T_eceff4d2_9721_11e9_9dde_50b7c3ab8a43row8_col7 {\n",
       "            background-color:  #ec8165;\n",
       "            color:  #000000;\n",
       "        }    #T_eceff4d2_9721_11e9_9dde_50b7c3ab8a43row8_col8 {\n",
       "            background-color:  #b40426;\n",
       "            color:  #f1f1f1;\n",
       "        }    #T_eceff4d2_9721_11e9_9dde_50b7c3ab8a43row8_col9 {\n",
       "            background-color:  #bcd2f7;\n",
       "            color:  #000000;\n",
       "        }    #T_eceff4d2_9721_11e9_9dde_50b7c3ab8a43row8_col10 {\n",
       "            background-color:  #84a7fc;\n",
       "            color:  #000000;\n",
       "        }    #T_eceff4d2_9721_11e9_9dde_50b7c3ab8a43row8_col11 {\n",
       "            background-color:  #4358cb;\n",
       "            color:  #f1f1f1;\n",
       "        }    #T_eceff4d2_9721_11e9_9dde_50b7c3ab8a43row8_col12 {\n",
       "            background-color:  #3c4ec2;\n",
       "            color:  #f1f1f1;\n",
       "        }    #T_eceff4d2_9721_11e9_9dde_50b7c3ab8a43row9_col0 {\n",
       "            background-color:  #d4dbe6;\n",
       "            color:  #000000;\n",
       "        }    #T_eceff4d2_9721_11e9_9dde_50b7c3ab8a43row9_col1 {\n",
       "            background-color:  #e6d7cf;\n",
       "            color:  #000000;\n",
       "        }    #T_eceff4d2_9721_11e9_9dde_50b7c3ab8a43row9_col2 {\n",
       "            background-color:  #6c8ff1;\n",
       "            color:  #000000;\n",
       "        }    #T_eceff4d2_9721_11e9_9dde_50b7c3ab8a43row9_col3 {\n",
       "            background-color:  #b3cdfb;\n",
       "            color:  #000000;\n",
       "        }    #T_eceff4d2_9721_11e9_9dde_50b7c3ab8a43row9_col4 {\n",
       "            background-color:  #8caffe;\n",
       "            color:  #000000;\n",
       "        }    #T_eceff4d2_9721_11e9_9dde_50b7c3ab8a43row9_col5 {\n",
       "            background-color:  #7295f4;\n",
       "            color:  #000000;\n",
       "        }    #T_eceff4d2_9721_11e9_9dde_50b7c3ab8a43row9_col6 {\n",
       "            background-color:  #7295f4;\n",
       "            color:  #000000;\n",
       "        }    #T_eceff4d2_9721_11e9_9dde_50b7c3ab8a43row9_col7 {\n",
       "            background-color:  #eed0c0;\n",
       "            color:  #000000;\n",
       "        }    #T_eceff4d2_9721_11e9_9dde_50b7c3ab8a43row9_col8 {\n",
       "            background-color:  #a5c3fe;\n",
       "            color:  #000000;\n",
       "        }    #T_eceff4d2_9721_11e9_9dde_50b7c3ab8a43row9_col9 {\n",
       "            background-color:  #b40426;\n",
       "            color:  #f1f1f1;\n",
       "        }    #T_eceff4d2_9721_11e9_9dde_50b7c3ab8a43row9_col10 {\n",
       "            background-color:  #6687ed;\n",
       "            color:  #000000;\n",
       "        }    #T_eceff4d2_9721_11e9_9dde_50b7c3ab8a43row9_col11 {\n",
       "            background-color:  #de614d;\n",
       "            color:  #000000;\n",
       "        }    #T_eceff4d2_9721_11e9_9dde_50b7c3ab8a43row9_col12 {\n",
       "            background-color:  #4055c8;\n",
       "            color:  #f1f1f1;\n",
       "        }    #T_eceff4d2_9721_11e9_9dde_50b7c3ab8a43row10_col0 {\n",
       "            background-color:  #e4d9d2;\n",
       "            color:  #000000;\n",
       "        }    #T_eceff4d2_9721_11e9_9dde_50b7c3ab8a43row10_col1 {\n",
       "            background-color:  #c6d6f1;\n",
       "            color:  #000000;\n",
       "        }    #T_eceff4d2_9721_11e9_9dde_50b7c3ab8a43row10_col2 {\n",
       "            background-color:  #b6cefa;\n",
       "            color:  #000000;\n",
       "        }    #T_eceff4d2_9721_11e9_9dde_50b7c3ab8a43row10_col3 {\n",
       "            background-color:  #6180e9;\n",
       "            color:  #000000;\n",
       "        }    #T_eceff4d2_9721_11e9_9dde_50b7c3ab8a43row10_col4 {\n",
       "            background-color:  #a2c1ff;\n",
       "            color:  #000000;\n",
       "        }    #T_eceff4d2_9721_11e9_9dde_50b7c3ab8a43row10_col5 {\n",
       "            background-color:  #8fb1fe;\n",
       "            color:  #000000;\n",
       "        }    #T_eceff4d2_9721_11e9_9dde_50b7c3ab8a43row10_col6 {\n",
       "            background-color:  #98b9ff;\n",
       "            color:  #000000;\n",
       "        }    #T_eceff4d2_9721_11e9_9dde_50b7c3ab8a43row10_col7 {\n",
       "            background-color:  #3b4cc0;\n",
       "            color:  #f1f1f1;\n",
       "        }    #T_eceff4d2_9721_11e9_9dde_50b7c3ab8a43row10_col8 {\n",
       "            background-color:  #3b4cc0;\n",
       "            color:  #f1f1f1;\n",
       "        }    #T_eceff4d2_9721_11e9_9dde_50b7c3ab8a43row10_col9 {\n",
       "            background-color:  #3b4cc0;\n",
       "            color:  #f1f1f1;\n",
       "        }    #T_eceff4d2_9721_11e9_9dde_50b7c3ab8a43row10_col10 {\n",
       "            background-color:  #b40426;\n",
       "            color:  #f1f1f1;\n",
       "        }    #T_eceff4d2_9721_11e9_9dde_50b7c3ab8a43row10_col11 {\n",
       "            background-color:  #5f7fe8;\n",
       "            color:  #000000;\n",
       "        }    #T_eceff4d2_9721_11e9_9dde_50b7c3ab8a43row10_col12 {\n",
       "            background-color:  #445acc;\n",
       "            color:  #f1f1f1;\n",
       "        }    #T_eceff4d2_9721_11e9_9dde_50b7c3ab8a43row11_col0 {\n",
       "            background-color:  #d9dce1;\n",
       "            color:  #000000;\n",
       "        }    #T_eceff4d2_9721_11e9_9dde_50b7c3ab8a43row11_col1 {\n",
       "            background-color:  #e1dad6;\n",
       "            color:  #000000;\n",
       "        }    #T_eceff4d2_9721_11e9_9dde_50b7c3ab8a43row11_col2 {\n",
       "            background-color:  #80a3fa;\n",
       "            color:  #000000;\n",
       "        }    #T_eceff4d2_9721_11e9_9dde_50b7c3ab8a43row11_col3 {\n",
       "            background-color:  #9abbff;\n",
       "            color:  #000000;\n",
       "        }    #T_eceff4d2_9721_11e9_9dde_50b7c3ab8a43row11_col4 {\n",
       "            background-color:  #97b8ff;\n",
       "            color:  #000000;\n",
       "        }    #T_eceff4d2_9721_11e9_9dde_50b7c3ab8a43row11_col5 {\n",
       "            background-color:  #7396f5;\n",
       "            color:  #000000;\n",
       "        }    #T_eceff4d2_9721_11e9_9dde_50b7c3ab8a43row11_col6 {\n",
       "            background-color:  #779af7;\n",
       "            color:  #000000;\n",
       "        }    #T_eceff4d2_9721_11e9_9dde_50b7c3ab8a43row11_col7 {\n",
       "            background-color:  #aec9fc;\n",
       "            color:  #000000;\n",
       "        }    #T_eceff4d2_9721_11e9_9dde_50b7c3ab8a43row11_col8 {\n",
       "            background-color:  #7093f3;\n",
       "            color:  #000000;\n",
       "        }    #T_eceff4d2_9721_11e9_9dde_50b7c3ab8a43row11_col9 {\n",
       "            background-color:  #d65244;\n",
       "            color:  #000000;\n",
       "        }    #T_eceff4d2_9721_11e9_9dde_50b7c3ab8a43row11_col10 {\n",
       "            background-color:  #c5d6f2;\n",
       "            color:  #000000;\n",
       "        }    #T_eceff4d2_9721_11e9_9dde_50b7c3ab8a43row11_col11 {\n",
       "            background-color:  #b40426;\n",
       "            color:  #f1f1f1;\n",
       "        }    #T_eceff4d2_9721_11e9_9dde_50b7c3ab8a43row11_col12 {\n",
       "            background-color:  #4055c8;\n",
       "            color:  #f1f1f1;\n",
       "        }    #T_eceff4d2_9721_11e9_9dde_50b7c3ab8a43row12_col0 {\n",
       "            background-color:  #d7dce3;\n",
       "            color:  #000000;\n",
       "        }    #T_eceff4d2_9721_11e9_9dde_50b7c3ab8a43row12_col1 {\n",
       "            background-color:  #d8dce2;\n",
       "            color:  #000000;\n",
       "        }    #T_eceff4d2_9721_11e9_9dde_50b7c3ab8a43row12_col2 {\n",
       "            background-color:  #97b8ff;\n",
       "            color:  #000000;\n",
       "        }    #T_eceff4d2_9721_11e9_9dde_50b7c3ab8a43row12_col3 {\n",
       "            background-color:  #8caffe;\n",
       "            color:  #000000;\n",
       "        }    #T_eceff4d2_9721_11e9_9dde_50b7c3ab8a43row12_col4 {\n",
       "            background-color:  #84a7fc;\n",
       "            color:  #000000;\n",
       "        }    #T_eceff4d2_9721_11e9_9dde_50b7c3ab8a43row12_col5 {\n",
       "            background-color:  #9abbff;\n",
       "            color:  #000000;\n",
       "        }    #T_eceff4d2_9721_11e9_9dde_50b7c3ab8a43row12_col6 {\n",
       "            background-color:  #80a3fa;\n",
       "            color:  #000000;\n",
       "        }    #T_eceff4d2_9721_11e9_9dde_50b7c3ab8a43row12_col7 {\n",
       "            background-color:  #bfd3f6;\n",
       "            color:  #000000;\n",
       "        }    #T_eceff4d2_9721_11e9_9dde_50b7c3ab8a43row12_col8 {\n",
       "            background-color:  #779af7;\n",
       "            color:  #000000;\n",
       "        }    #T_eceff4d2_9721_11e9_9dde_50b7c3ab8a43row12_col9 {\n",
       "            background-color:  #98b9ff;\n",
       "            color:  #000000;\n",
       "        }    #T_eceff4d2_9721_11e9_9dde_50b7c3ab8a43row12_col10 {\n",
       "            background-color:  #bcd2f7;\n",
       "            color:  #000000;\n",
       "        }    #T_eceff4d2_9721_11e9_9dde_50b7c3ab8a43row12_col11 {\n",
       "            background-color:  #4e68d8;\n",
       "            color:  #000000;\n",
       "        }    #T_eceff4d2_9721_11e9_9dde_50b7c3ab8a43row12_col12 {\n",
       "            background-color:  #b40426;\n",
       "            color:  #f1f1f1;\n",
       "        }</style><table id=\"T_eceff4d2_9721_11e9_9dde_50b7c3ab8a43\" ><thead>    <tr>        <th class=\"blank level0\" ></th>        <th class=\"col_heading level0 col0\" >longitude</th>        <th class=\"col_heading level0 col1\" >latitude</th>        <th class=\"col_heading level0 col2\" >housing_median_age</th>        <th class=\"col_heading level0 col3\" >total_rooms</th>        <th class=\"col_heading level0 col4\" >total_bedrooms</th>        <th class=\"col_heading level0 col5\" >population</th>        <th class=\"col_heading level0 col6\" >households</th>        <th class=\"col_heading level0 col7\" >median_income</th>        <th class=\"col_heading level0 col8\" >median_house_value</th>        <th class=\"col_heading level0 col9\" >rooms_per_houshold</th>        <th class=\"col_heading level0 col10\" >bedrooms_per_room</th>        <th class=\"col_heading level0 col11\" >bedrooms_per_household</th>        <th class=\"col_heading level0 col12\" >population_per_household</th>    </tr></thead><tbody>\n",
       "                <tr>\n",
       "                        <th id=\"T_eceff4d2_9721_11e9_9dde_50b7c3ab8a43level0_row0\" class=\"row_heading level0 row0\" >longitude</th>\n",
       "                        <td id=\"T_eceff4d2_9721_11e9_9dde_50b7c3ab8a43row0_col0\" class=\"data row0 col0\" >1</td>\n",
       "                        <td id=\"T_eceff4d2_9721_11e9_9dde_50b7c3ab8a43row0_col1\" class=\"data row0 col1\" >-0.924528</td>\n",
       "                        <td id=\"T_eceff4d2_9721_11e9_9dde_50b7c3ab8a43row0_col2\" class=\"data row0 col2\" >-0.107785</td>\n",
       "                        <td id=\"T_eceff4d2_9721_11e9_9dde_50b7c3ab8a43row0_col3\" class=\"data row0 col3\" >0.0478015</td>\n",
       "                        <td id=\"T_eceff4d2_9721_11e9_9dde_50b7c3ab8a43row0_col4\" class=\"data row0 col4\" >0.0746004</td>\n",
       "                        <td id=\"T_eceff4d2_9721_11e9_9dde_50b7c3ab8a43row0_col5\" class=\"data row0 col5\" >0.106495</td>\n",
       "                        <td id=\"T_eceff4d2_9721_11e9_9dde_50b7c3ab8a43row0_col6\" class=\"data row0 col6\" >0.0610074</td>\n",
       "                        <td id=\"T_eceff4d2_9721_11e9_9dde_50b7c3ab8a43row0_col7\" class=\"data row0 col7\" >-0.0150113</td>\n",
       "                        <td id=\"T_eceff4d2_9721_11e9_9dde_50b7c3ab8a43row0_col8\" class=\"data row0 col8\" >-0.0452705</td>\n",
       "                        <td id=\"T_eceff4d2_9721_11e9_9dde_50b7c3ab8a43row0_col9\" class=\"data row0 col9\" >-0.0263792</td>\n",
       "                        <td id=\"T_eceff4d2_9721_11e9_9dde_50b7c3ab8a43row0_col10\" class=\"data row0 col10\" >0.0924867</td>\n",
       "                        <td id=\"T_eceff4d2_9721_11e9_9dde_50b7c3ab8a43row0_col11\" class=\"data row0 col11\" >0.0124172</td>\n",
       "                        <td id=\"T_eceff4d2_9721_11e9_9dde_50b7c3ab8a43row0_col12\" class=\"data row0 col12\" >-0.000421697</td>\n",
       "            </tr>\n",
       "            <tr>\n",
       "                        <th id=\"T_eceff4d2_9721_11e9_9dde_50b7c3ab8a43level0_row1\" class=\"row_heading level0 row1\" >latitude</th>\n",
       "                        <td id=\"T_eceff4d2_9721_11e9_9dde_50b7c3ab8a43row1_col0\" class=\"data row1 col0\" >-0.924528</td>\n",
       "                        <td id=\"T_eceff4d2_9721_11e9_9dde_50b7c3ab8a43row1_col1\" class=\"data row1 col1\" >1</td>\n",
       "                        <td id=\"T_eceff4d2_9721_11e9_9dde_50b7c3ab8a43row1_col2\" class=\"data row1 col2\" >0.0075026</td>\n",
       "                        <td id=\"T_eceff4d2_9721_11e9_9dde_50b7c3ab8a43row1_col3\" class=\"data row1 col3\" >-0.038804</td>\n",
       "                        <td id=\"T_eceff4d2_9721_11e9_9dde_50b7c3ab8a43row1_col4\" class=\"data row1 col4\" >-0.0711623</td>\n",
       "                        <td id=\"T_eceff4d2_9721_11e9_9dde_50b7c3ab8a43row1_col5\" class=\"data row1 col5\" >-0.114462</td>\n",
       "                        <td id=\"T_eceff4d2_9721_11e9_9dde_50b7c3ab8a43row1_col6\" class=\"data row1 col6\" >-0.0763432</td>\n",
       "                        <td id=\"T_eceff4d2_9721_11e9_9dde_50b7c3ab8a43row1_col7\" class=\"data row1 col7\" >-0.0783456</td>\n",
       "                        <td id=\"T_eceff4d2_9721_11e9_9dde_50b7c3ab8a43row1_col8\" class=\"data row1 col8\" >-0.144204</td>\n",
       "                        <td id=\"T_eceff4d2_9721_11e9_9dde_50b7c3ab8a43row1_col9\" class=\"data row1 col9\" >0.106097</td>\n",
       "                        <td id=\"T_eceff4d2_9721_11e9_9dde_50b7c3ab8a43row1_col10\" class=\"data row1 col10\" >-0.114499</td>\n",
       "                        <td id=\"T_eceff4d2_9721_11e9_9dde_50b7c3ab8a43row1_col11\" class=\"data row1 col11\" >0.0707156</td>\n",
       "                        <td id=\"T_eceff4d2_9721_11e9_9dde_50b7c3ab8a43row1_col12\" class=\"data row1 col12\" >0.00540801</td>\n",
       "            </tr>\n",
       "            <tr>\n",
       "                        <th id=\"T_eceff4d2_9721_11e9_9dde_50b7c3ab8a43level0_row2\" class=\"row_heading level0 row2\" >housing_median_age</th>\n",
       "                        <td id=\"T_eceff4d2_9721_11e9_9dde_50b7c3ab8a43row2_col0\" class=\"data row2 col0\" >-0.107785</td>\n",
       "                        <td id=\"T_eceff4d2_9721_11e9_9dde_50b7c3ab8a43row2_col1\" class=\"data row2 col1\" >0.0075026</td>\n",
       "                        <td id=\"T_eceff4d2_9721_11e9_9dde_50b7c3ab8a43row2_col2\" class=\"data row2 col2\" >1</td>\n",
       "                        <td id=\"T_eceff4d2_9721_11e9_9dde_50b7c3ab8a43row2_col3\" class=\"data row2 col3\" >-0.364634</td>\n",
       "                        <td id=\"T_eceff4d2_9721_11e9_9dde_50b7c3ab8a43row2_col4\" class=\"data row2 col4\" >-0.324872</td>\n",
       "                        <td id=\"T_eceff4d2_9721_11e9_9dde_50b7c3ab8a43row2_col5\" class=\"data row2 col5\" >-0.299595</td>\n",
       "                        <td id=\"T_eceff4d2_9721_11e9_9dde_50b7c3ab8a43row2_col6\" class=\"data row2 col6\" >-0.306882</td>\n",
       "                        <td id=\"T_eceff4d2_9721_11e9_9dde_50b7c3ab8a43row2_col7\" class=\"data row2 col7\" >-0.11568</td>\n",
       "                        <td id=\"T_eceff4d2_9721_11e9_9dde_50b7c3ab8a43row2_col8\" class=\"data row2 col8\" >0.11157</td>\n",
       "                        <td id=\"T_eceff4d2_9721_11e9_9dde_50b7c3ab8a43row2_col9\" class=\"data row2 col9\" >-0.148457</td>\n",
       "                        <td id=\"T_eceff4d2_9721_11e9_9dde_50b7c3ab8a43row2_col10\" class=\"data row2 col10\" >0.140324</td>\n",
       "                        <td id=\"T_eceff4d2_9721_11e9_9dde_50b7c3ab8a43row2_col11\" class=\"data row2 col11\" >-0.0742501</td>\n",
       "                        <td id=\"T_eceff4d2_9721_11e9_9dde_50b7c3ab8a43row2_col12\" class=\"data row2 col12\" >0.015052</td>\n",
       "            </tr>\n",
       "            <tr>\n",
       "                        <th id=\"T_eceff4d2_9721_11e9_9dde_50b7c3ab8a43level0_row3\" class=\"row_heading level0 row3\" >total_rooms</th>\n",
       "                        <td id=\"T_eceff4d2_9721_11e9_9dde_50b7c3ab8a43row3_col0\" class=\"data row3 col0\" >0.0478015</td>\n",
       "                        <td id=\"T_eceff4d2_9721_11e9_9dde_50b7c3ab8a43row3_col1\" class=\"data row3 col1\" >-0.038804</td>\n",
       "                        <td id=\"T_eceff4d2_9721_11e9_9dde_50b7c3ab8a43row3_col2\" class=\"data row3 col2\" >-0.364634</td>\n",
       "                        <td id=\"T_eceff4d2_9721_11e9_9dde_50b7c3ab8a43row3_col3\" class=\"data row3 col3\" >1</td>\n",
       "                        <td id=\"T_eceff4d2_9721_11e9_9dde_50b7c3ab8a43row3_col4\" class=\"data row3 col4\" >0.928754</td>\n",
       "                        <td id=\"T_eceff4d2_9721_11e9_9dde_50b7c3ab8a43row3_col5\" class=\"data row3 col5\" >0.856439</td>\n",
       "                        <td id=\"T_eceff4d2_9721_11e9_9dde_50b7c3ab8a43row3_col6\" class=\"data row3 col6\" >0.917713</td>\n",
       "                        <td id=\"T_eceff4d2_9721_11e9_9dde_50b7c3ab8a43row3_col7\" class=\"data row3 col7\" >0.201676</td>\n",
       "                        <td id=\"T_eceff4d2_9721_11e9_9dde_50b7c3ab8a43row3_col8\" class=\"data row3 col8\" >0.135386</td>\n",
       "                        <td id=\"T_eceff4d2_9721_11e9_9dde_50b7c3ab8a43row3_col9\" class=\"data row3 col9\" >0.129225</td>\n",
       "                        <td id=\"T_eceff4d2_9721_11e9_9dde_50b7c3ab8a43row3_col10\" class=\"data row3 col10\" >-0.194467</td>\n",
       "                        <td id=\"T_eceff4d2_9721_11e9_9dde_50b7c3ab8a43row3_col11\" class=\"data row3 col11\" >0.026112</td>\n",
       "                        <td id=\"T_eceff4d2_9721_11e9_9dde_50b7c3ab8a43row3_col12\" class=\"data row3 col12\" >-0.0244897</td>\n",
       "            </tr>\n",
       "            <tr>\n",
       "                        <th id=\"T_eceff4d2_9721_11e9_9dde_50b7c3ab8a43level0_row4\" class=\"row_heading level0 row4\" >total_bedrooms</th>\n",
       "                        <td id=\"T_eceff4d2_9721_11e9_9dde_50b7c3ab8a43row4_col0\" class=\"data row4 col0\" >0.0746004</td>\n",
       "                        <td id=\"T_eceff4d2_9721_11e9_9dde_50b7c3ab8a43row4_col1\" class=\"data row4 col1\" >-0.0711623</td>\n",
       "                        <td id=\"T_eceff4d2_9721_11e9_9dde_50b7c3ab8a43row4_col2\" class=\"data row4 col2\" >-0.324872</td>\n",
       "                        <td id=\"T_eceff4d2_9721_11e9_9dde_50b7c3ab8a43row4_col3\" class=\"data row4 col3\" >0.928754</td>\n",
       "                        <td id=\"T_eceff4d2_9721_11e9_9dde_50b7c3ab8a43row4_col4\" class=\"data row4 col4\" >1</td>\n",
       "                        <td id=\"T_eceff4d2_9721_11e9_9dde_50b7c3ab8a43row4_col5\" class=\"data row4 col5\" >0.876627</td>\n",
       "                        <td id=\"T_eceff4d2_9721_11e9_9dde_50b7c3ab8a43row4_col6\" class=\"data row4 col6\" >0.97997</td>\n",
       "                        <td id=\"T_eceff4d2_9721_11e9_9dde_50b7c3ab8a43row4_col7\" class=\"data row4 col7\" >-0.00720105</td>\n",
       "                        <td id=\"T_eceff4d2_9721_11e9_9dde_50b7c3ab8a43row4_col8\" class=\"data row4 col8\" >0.0489746</td>\n",
       "                        <td id=\"T_eceff4d2_9721_11e9_9dde_50b7c3ab8a43row4_col9\" class=\"data row4 col9\" >0.00240428</td>\n",
       "                        <td id=\"T_eceff4d2_9721_11e9_9dde_50b7c3ab8a43row4_col10\" class=\"data row4 col10\" >0.0841299</td>\n",
       "                        <td id=\"T_eceff4d2_9721_11e9_9dde_50b7c3ab8a43row4_col11\" class=\"data row4 col11\" >0.0426536</td>\n",
       "                        <td id=\"T_eceff4d2_9721_11e9_9dde_50b7c3ab8a43row4_col12\" class=\"data row4 col12\" >-0.0283098</td>\n",
       "            </tr>\n",
       "            <tr>\n",
       "                        <th id=\"T_eceff4d2_9721_11e9_9dde_50b7c3ab8a43level0_row5\" class=\"row_heading level0 row5\" >population</th>\n",
       "                        <td id=\"T_eceff4d2_9721_11e9_9dde_50b7c3ab8a43row5_col0\" class=\"data row5 col0\" >0.106495</td>\n",
       "                        <td id=\"T_eceff4d2_9721_11e9_9dde_50b7c3ab8a43row5_col1\" class=\"data row5 col1\" >-0.114462</td>\n",
       "                        <td id=\"T_eceff4d2_9721_11e9_9dde_50b7c3ab8a43row5_col2\" class=\"data row5 col2\" >-0.299595</td>\n",
       "                        <td id=\"T_eceff4d2_9721_11e9_9dde_50b7c3ab8a43row5_col3\" class=\"data row5 col3\" >0.856439</td>\n",
       "                        <td id=\"T_eceff4d2_9721_11e9_9dde_50b7c3ab8a43row5_col4\" class=\"data row5 col4\" >0.876627</td>\n",
       "                        <td id=\"T_eceff4d2_9721_11e9_9dde_50b7c3ab8a43row5_col5\" class=\"data row5 col5\" >1</td>\n",
       "                        <td id=\"T_eceff4d2_9721_11e9_9dde_50b7c3ab8a43row5_col6\" class=\"data row5 col6\" >0.905145</td>\n",
       "                        <td id=\"T_eceff4d2_9721_11e9_9dde_50b7c3ab8a43row5_col7\" class=\"data row5 col7\" >0.00715647</td>\n",
       "                        <td id=\"T_eceff4d2_9721_11e9_9dde_50b7c3ab8a43row5_col8\" class=\"data row5 col8\" >-0.0241138</td>\n",
       "                        <td id=\"T_eceff4d2_9721_11e9_9dde_50b7c3ab8a43row5_col9\" class=\"data row5 col9\" >-0.0713306</td>\n",
       "                        <td id=\"T_eceff4d2_9721_11e9_9dde_50b7c3ab8a43row5_col10\" class=\"data row5 col10\" >0.0338384</td>\n",
       "                        <td id=\"T_eceff4d2_9721_11e9_9dde_50b7c3ab8a43row5_col11\" class=\"data row5 col11\" >-0.0678932</td>\n",
       "                        <td id=\"T_eceff4d2_9721_11e9_9dde_50b7c3ab8a43row5_col12\" class=\"data row5 col12\" >0.0758808</td>\n",
       "            </tr>\n",
       "            <tr>\n",
       "                        <th id=\"T_eceff4d2_9721_11e9_9dde_50b7c3ab8a43level0_row6\" class=\"row_heading level0 row6\" >households</th>\n",
       "                        <td id=\"T_eceff4d2_9721_11e9_9dde_50b7c3ab8a43row6_col0\" class=\"data row6 col0\" >0.0610074</td>\n",
       "                        <td id=\"T_eceff4d2_9721_11e9_9dde_50b7c3ab8a43row6_col1\" class=\"data row6 col1\" >-0.0763432</td>\n",
       "                        <td id=\"T_eceff4d2_9721_11e9_9dde_50b7c3ab8a43row6_col2\" class=\"data row6 col2\" >-0.306882</td>\n",
       "                        <td id=\"T_eceff4d2_9721_11e9_9dde_50b7c3ab8a43row6_col3\" class=\"data row6 col3\" >0.917713</td>\n",
       "                        <td id=\"T_eceff4d2_9721_11e9_9dde_50b7c3ab8a43row6_col4\" class=\"data row6 col4\" >0.97997</td>\n",
       "                        <td id=\"T_eceff4d2_9721_11e9_9dde_50b7c3ab8a43row6_col5\" class=\"data row6 col5\" >0.905145</td>\n",
       "                        <td id=\"T_eceff4d2_9721_11e9_9dde_50b7c3ab8a43row6_col6\" class=\"data row6 col6\" >1</td>\n",
       "                        <td id=\"T_eceff4d2_9721_11e9_9dde_50b7c3ab8a43row6_col7\" class=\"data row6 col7\" >0.0139388</td>\n",
       "                        <td id=\"T_eceff4d2_9721_11e9_9dde_50b7c3ab8a43row6_col8\" class=\"data row6 col8\" >0.0660123</td>\n",
       "                        <td id=\"T_eceff4d2_9721_11e9_9dde_50b7c3ab8a43row6_col9\" class=\"data row6 col9\" >-0.0806507</td>\n",
       "                        <td id=\"T_eceff4d2_9721_11e9_9dde_50b7c3ab8a43row6_col10\" class=\"data row6 col10\" >0.0642967</td>\n",
       "                        <td id=\"T_eceff4d2_9721_11e9_9dde_50b7c3ab8a43row6_col11\" class=\"data row6 col11\" >-0.0580947</td>\n",
       "                        <td id=\"T_eceff4d2_9721_11e9_9dde_50b7c3ab8a43row6_col12\" class=\"data row6 col12\" >-0.0273618</td>\n",
       "            </tr>\n",
       "            <tr>\n",
       "                        <th id=\"T_eceff4d2_9721_11e9_9dde_50b7c3ab8a43level0_row7\" class=\"row_heading level0 row7\" >median_income</th>\n",
       "                        <td id=\"T_eceff4d2_9721_11e9_9dde_50b7c3ab8a43row7_col0\" class=\"data row7 col0\" >-0.0150113</td>\n",
       "                        <td id=\"T_eceff4d2_9721_11e9_9dde_50b7c3ab8a43row7_col1\" class=\"data row7 col1\" >-0.0783456</td>\n",
       "                        <td id=\"T_eceff4d2_9721_11e9_9dde_50b7c3ab8a43row7_col2\" class=\"data row7 col2\" >-0.11568</td>\n",
       "                        <td id=\"T_eceff4d2_9721_11e9_9dde_50b7c3ab8a43row7_col3\" class=\"data row7 col3\" >0.201676</td>\n",
       "                        <td id=\"T_eceff4d2_9721_11e9_9dde_50b7c3ab8a43row7_col4\" class=\"data row7 col4\" >-0.00720105</td>\n",
       "                        <td id=\"T_eceff4d2_9721_11e9_9dde_50b7c3ab8a43row7_col5\" class=\"data row7 col5\" >0.00715647</td>\n",
       "                        <td id=\"T_eceff4d2_9721_11e9_9dde_50b7c3ab8a43row7_col6\" class=\"data row7 col6\" >0.0139388</td>\n",
       "                        <td id=\"T_eceff4d2_9721_11e9_9dde_50b7c3ab8a43row7_col7\" class=\"data row7 col7\" >1</td>\n",
       "                        <td id=\"T_eceff4d2_9721_11e9_9dde_50b7c3ab8a43row7_col8\" class=\"data row7 col8\" >0.6856</td>\n",
       "                        <td id=\"T_eceff4d2_9721_11e9_9dde_50b7c3ab8a43row7_col9\" class=\"data row7 col9\" >0.308593</td>\n",
       "                        <td id=\"T_eceff4d2_9721_11e9_9dde_50b7c3ab8a43row7_col10\" class=\"data row7 col10\" >-0.624776</td>\n",
       "                        <td id=\"T_eceff4d2_9721_11e9_9dde_50b7c3ab8a43row7_col11\" class=\"data row7 col11\" >-0.0611958</td>\n",
       "                        <td id=\"T_eceff4d2_9721_11e9_9dde_50b7c3ab8a43row7_col12\" class=\"data row7 col12\" >0.0224968</td>\n",
       "            </tr>\n",
       "            <tr>\n",
       "                        <th id=\"T_eceff4d2_9721_11e9_9dde_50b7c3ab8a43level0_row8\" class=\"row_heading level0 row8\" >median_house_value</th>\n",
       "                        <td id=\"T_eceff4d2_9721_11e9_9dde_50b7c3ab8a43row8_col0\" class=\"data row8 col0\" >-0.0452705</td>\n",
       "                        <td id=\"T_eceff4d2_9721_11e9_9dde_50b7c3ab8a43row8_col1\" class=\"data row8 col1\" >-0.144204</td>\n",
       "                        <td id=\"T_eceff4d2_9721_11e9_9dde_50b7c3ab8a43row8_col2\" class=\"data row8 col2\" >0.11157</td>\n",
       "                        <td id=\"T_eceff4d2_9721_11e9_9dde_50b7c3ab8a43row8_col3\" class=\"data row8 col3\" >0.135386</td>\n",
       "                        <td id=\"T_eceff4d2_9721_11e9_9dde_50b7c3ab8a43row8_col4\" class=\"data row8 col4\" >0.0489746</td>\n",
       "                        <td id=\"T_eceff4d2_9721_11e9_9dde_50b7c3ab8a43row8_col5\" class=\"data row8 col5\" >-0.0241138</td>\n",
       "                        <td id=\"T_eceff4d2_9721_11e9_9dde_50b7c3ab8a43row8_col6\" class=\"data row8 col6\" >0.0660123</td>\n",
       "                        <td id=\"T_eceff4d2_9721_11e9_9dde_50b7c3ab8a43row8_col7\" class=\"data row8 col7\" >0.6856</td>\n",
       "                        <td id=\"T_eceff4d2_9721_11e9_9dde_50b7c3ab8a43row8_col8\" class=\"data row8 col8\" >1</td>\n",
       "                        <td id=\"T_eceff4d2_9721_11e9_9dde_50b7c3ab8a43row8_col9\" class=\"data row8 col9\" >0.144217</td>\n",
       "                        <td id=\"T_eceff4d2_9721_11e9_9dde_50b7c3ab8a43row8_col10\" class=\"data row8 col10\" >-0.258208</td>\n",
       "                        <td id=\"T_eceff4d2_9721_11e9_9dde_50b7c3ab8a43row8_col11\" class=\"data row8 col11\" >-0.0439571</td>\n",
       "                        <td id=\"T_eceff4d2_9721_11e9_9dde_50b7c3ab8a43row8_col12\" class=\"data row8 col12\" >-0.0216336</td>\n",
       "            </tr>\n",
       "            <tr>\n",
       "                        <th id=\"T_eceff4d2_9721_11e9_9dde_50b7c3ab8a43level0_row9\" class=\"row_heading level0 row9\" >rooms_per_houshold</th>\n",
       "                        <td id=\"T_eceff4d2_9721_11e9_9dde_50b7c3ab8a43row9_col0\" class=\"data row9 col0\" >-0.0263792</td>\n",
       "                        <td id=\"T_eceff4d2_9721_11e9_9dde_50b7c3ab8a43row9_col1\" class=\"data row9 col1\" >0.106097</td>\n",
       "                        <td id=\"T_eceff4d2_9721_11e9_9dde_50b7c3ab8a43row9_col2\" class=\"data row9 col2\" >-0.148457</td>\n",
       "                        <td id=\"T_eceff4d2_9721_11e9_9dde_50b7c3ab8a43row9_col3\" class=\"data row9 col3\" >0.129225</td>\n",
       "                        <td id=\"T_eceff4d2_9721_11e9_9dde_50b7c3ab8a43row9_col4\" class=\"data row9 col4\" >0.00240428</td>\n",
       "                        <td id=\"T_eceff4d2_9721_11e9_9dde_50b7c3ab8a43row9_col5\" class=\"data row9 col5\" >-0.0713306</td>\n",
       "                        <td id=\"T_eceff4d2_9721_11e9_9dde_50b7c3ab8a43row9_col6\" class=\"data row9 col6\" >-0.0806507</td>\n",
       "                        <td id=\"T_eceff4d2_9721_11e9_9dde_50b7c3ab8a43row9_col7\" class=\"data row9 col7\" >0.308593</td>\n",
       "                        <td id=\"T_eceff4d2_9721_11e9_9dde_50b7c3ab8a43row9_col8\" class=\"data row9 col8\" >0.144217</td>\n",
       "                        <td id=\"T_eceff4d2_9721_11e9_9dde_50b7c3ab8a43row9_col9\" class=\"data row9 col9\" >1</td>\n",
       "                        <td id=\"T_eceff4d2_9721_11e9_9dde_50b7c3ab8a43row9_col10\" class=\"data row9 col10\" >-0.398711</td>\n",
       "                        <td id=\"T_eceff4d2_9721_11e9_9dde_50b7c3ab8a43row9_col11\" class=\"data row9 col11\" >0.863249</td>\n",
       "                        <td id=\"T_eceff4d2_9721_11e9_9dde_50b7c3ab8a43row9_col12\" class=\"data row9 col12\" >-0.00509624</td>\n",
       "            </tr>\n",
       "            <tr>\n",
       "                        <th id=\"T_eceff4d2_9721_11e9_9dde_50b7c3ab8a43level0_row10\" class=\"row_heading level0 row10\" >bedrooms_per_room</th>\n",
       "                        <td id=\"T_eceff4d2_9721_11e9_9dde_50b7c3ab8a43row10_col0\" class=\"data row10 col0\" >0.0924867</td>\n",
       "                        <td id=\"T_eceff4d2_9721_11e9_9dde_50b7c3ab8a43row10_col1\" class=\"data row10 col1\" >-0.114499</td>\n",
       "                        <td id=\"T_eceff4d2_9721_11e9_9dde_50b7c3ab8a43row10_col2\" class=\"data row10 col2\" >0.140324</td>\n",
       "                        <td id=\"T_eceff4d2_9721_11e9_9dde_50b7c3ab8a43row10_col3\" class=\"data row10 col3\" >-0.194467</td>\n",
       "                        <td id=\"T_eceff4d2_9721_11e9_9dde_50b7c3ab8a43row10_col4\" class=\"data row10 col4\" >0.0841299</td>\n",
       "                        <td id=\"T_eceff4d2_9721_11e9_9dde_50b7c3ab8a43row10_col5\" class=\"data row10 col5\" >0.0338384</td>\n",
       "                        <td id=\"T_eceff4d2_9721_11e9_9dde_50b7c3ab8a43row10_col6\" class=\"data row10 col6\" >0.0642967</td>\n",
       "                        <td id=\"T_eceff4d2_9721_11e9_9dde_50b7c3ab8a43row10_col7\" class=\"data row10 col7\" >-0.624776</td>\n",
       "                        <td id=\"T_eceff4d2_9721_11e9_9dde_50b7c3ab8a43row10_col8\" class=\"data row10 col8\" >-0.258208</td>\n",
       "                        <td id=\"T_eceff4d2_9721_11e9_9dde_50b7c3ab8a43row10_col9\" class=\"data row10 col9\" >-0.398711</td>\n",
       "                        <td id=\"T_eceff4d2_9721_11e9_9dde_50b7c3ab8a43row10_col10\" class=\"data row10 col10\" >1</td>\n",
       "                        <td id=\"T_eceff4d2_9721_11e9_9dde_50b7c3ab8a43row10_col11\" class=\"data row10 col11\" >0.0532686</td>\n",
       "                        <td id=\"T_eceff4d2_9721_11e9_9dde_50b7c3ab8a43row10_col12\" class=\"data row10 col12\" >0.00404785</td>\n",
       "            </tr>\n",
       "            <tr>\n",
       "                        <th id=\"T_eceff4d2_9721_11e9_9dde_50b7c3ab8a43level0_row11\" class=\"row_heading level0 row11\" >bedrooms_per_household</th>\n",
       "                        <td id=\"T_eceff4d2_9721_11e9_9dde_50b7c3ab8a43row11_col0\" class=\"data row11 col0\" >0.0124172</td>\n",
       "                        <td id=\"T_eceff4d2_9721_11e9_9dde_50b7c3ab8a43row11_col1\" class=\"data row11 col1\" >0.0707156</td>\n",
       "                        <td id=\"T_eceff4d2_9721_11e9_9dde_50b7c3ab8a43row11_col2\" class=\"data row11 col2\" >-0.0742501</td>\n",
       "                        <td id=\"T_eceff4d2_9721_11e9_9dde_50b7c3ab8a43row11_col3\" class=\"data row11 col3\" >0.026112</td>\n",
       "                        <td id=\"T_eceff4d2_9721_11e9_9dde_50b7c3ab8a43row11_col4\" class=\"data row11 col4\" >0.0426536</td>\n",
       "                        <td id=\"T_eceff4d2_9721_11e9_9dde_50b7c3ab8a43row11_col5\" class=\"data row11 col5\" >-0.0678932</td>\n",
       "                        <td id=\"T_eceff4d2_9721_11e9_9dde_50b7c3ab8a43row11_col6\" class=\"data row11 col6\" >-0.0580947</td>\n",
       "                        <td id=\"T_eceff4d2_9721_11e9_9dde_50b7c3ab8a43row11_col7\" class=\"data row11 col7\" >-0.0611958</td>\n",
       "                        <td id=\"T_eceff4d2_9721_11e9_9dde_50b7c3ab8a43row11_col8\" class=\"data row11 col8\" >-0.0439571</td>\n",
       "                        <td id=\"T_eceff4d2_9721_11e9_9dde_50b7c3ab8a43row11_col9\" class=\"data row11 col9\" >0.863249</td>\n",
       "                        <td id=\"T_eceff4d2_9721_11e9_9dde_50b7c3ab8a43row11_col10\" class=\"data row11 col10\" >0.0532686</td>\n",
       "                        <td id=\"T_eceff4d2_9721_11e9_9dde_50b7c3ab8a43row11_col11\" class=\"data row11 col11\" >1</td>\n",
       "                        <td id=\"T_eceff4d2_9721_11e9_9dde_50b7c3ab8a43row11_col12\" class=\"data row11 col12\" >-0.00575444</td>\n",
       "            </tr>\n",
       "            <tr>\n",
       "                        <th id=\"T_eceff4d2_9721_11e9_9dde_50b7c3ab8a43level0_row12\" class=\"row_heading level0 row12\" >population_per_household</th>\n",
       "                        <td id=\"T_eceff4d2_9721_11e9_9dde_50b7c3ab8a43row12_col0\" class=\"data row12 col0\" >-0.000421697</td>\n",
       "                        <td id=\"T_eceff4d2_9721_11e9_9dde_50b7c3ab8a43row12_col1\" class=\"data row12 col1\" >0.00540801</td>\n",
       "                        <td id=\"T_eceff4d2_9721_11e9_9dde_50b7c3ab8a43row12_col2\" class=\"data row12 col2\" >0.015052</td>\n",
       "                        <td id=\"T_eceff4d2_9721_11e9_9dde_50b7c3ab8a43row12_col3\" class=\"data row12 col3\" >-0.0244897</td>\n",
       "                        <td id=\"T_eceff4d2_9721_11e9_9dde_50b7c3ab8a43row12_col4\" class=\"data row12 col4\" >-0.0283098</td>\n",
       "                        <td id=\"T_eceff4d2_9721_11e9_9dde_50b7c3ab8a43row12_col5\" class=\"data row12 col5\" >0.0758808</td>\n",
       "                        <td id=\"T_eceff4d2_9721_11e9_9dde_50b7c3ab8a43row12_col6\" class=\"data row12 col6\" >-0.0273618</td>\n",
       "                        <td id=\"T_eceff4d2_9721_11e9_9dde_50b7c3ab8a43row12_col7\" class=\"data row12 col7\" >0.0224968</td>\n",
       "                        <td id=\"T_eceff4d2_9721_11e9_9dde_50b7c3ab8a43row12_col8\" class=\"data row12 col8\" >-0.0216336</td>\n",
       "                        <td id=\"T_eceff4d2_9721_11e9_9dde_50b7c3ab8a43row12_col9\" class=\"data row12 col9\" >-0.00509624</td>\n",
       "                        <td id=\"T_eceff4d2_9721_11e9_9dde_50b7c3ab8a43row12_col10\" class=\"data row12 col10\" >0.00404785</td>\n",
       "                        <td id=\"T_eceff4d2_9721_11e9_9dde_50b7c3ab8a43row12_col11\" class=\"data row12 col11\" >-0.00575444</td>\n",
       "                        <td id=\"T_eceff4d2_9721_11e9_9dde_50b7c3ab8a43row12_col12\" class=\"data row12 col12\" >1</td>\n",
       "            </tr>\n",
       "    </tbody></table>"
      ],
      "text/plain": [
       "<pandas.io.formats.style.Styler at 0x9eafa20>"
      ]
     },
     "execution_count": 47,
     "metadata": {},
     "output_type": "execute_result"
    }
   ],
   "source": [
    "corr = housing.corr()\n",
    "corr.style.background_gradient(cmap='coolwarm')\n"
   ]
  },
  {
   "cell_type": "markdown",
   "metadata": {},
   "source": [
    "###  5-1. 결측값 처리"
   ]
  },
  {
   "cell_type": "markdown",
   "metadata": {},
   "source": [
    "##### 5-1-1. 삭제"
   ]
  },
  {
   "cell_type": "code",
   "execution_count": 48,
   "metadata": {},
   "outputs": [
    {
     "name": "stdout",
     "output_type": "stream",
     "text": [
      "<class 'pandas.core.frame.DataFrame'>\n",
      "Int64Index: 16358 entries, 6895 to 15088\n",
      "Data columns (total 14 columns):\n",
      "longitude                   16358 non-null float64\n",
      "latitude                    16358 non-null float64\n",
      "housing_median_age          16358 non-null float64\n",
      "total_rooms                 16358 non-null float64\n",
      "total_bedrooms              16358 non-null float64\n",
      "population                  16358 non-null float64\n",
      "households                  16358 non-null float64\n",
      "median_income               16358 non-null float64\n",
      "median_house_value          16358 non-null float64\n",
      "ocean_proximity             16358 non-null object\n",
      "rooms_per_houshold          16358 non-null float64\n",
      "bedrooms_per_room           16358 non-null float64\n",
      "bedrooms_per_household      16358 non-null float64\n",
      "population_per_household    16358 non-null float64\n",
      "dtypes: float64(13), object(1)\n",
      "memory usage: 1.9+ MB\n"
     ]
    }
   ],
   "source": [
    "# 삭제\n",
    "# housing.dropna(subset=['total_bedrooms']) \n",
    "housing.dropna().info()"
   ]
  },
  {
   "cell_type": "code",
   "execution_count": 49,
   "metadata": {},
   "outputs": [
    {
     "name": "stdout",
     "output_type": "stream",
     "text": [
      "<class 'pandas.core.frame.DataFrame'>\n",
      "Int64Index: 16512 entries, 6895 to 15088\n",
      "Data columns (total 13 columns):\n",
      "longitude                   16512 non-null float64\n",
      "latitude                    16512 non-null float64\n",
      "housing_median_age          16512 non-null float64\n",
      "total_rooms                 16512 non-null float64\n",
      "population                  16512 non-null float64\n",
      "households                  16512 non-null float64\n",
      "median_income               16512 non-null float64\n",
      "median_house_value          16512 non-null float64\n",
      "ocean_proximity             16512 non-null object\n",
      "rooms_per_houshold          16512 non-null float64\n",
      "bedrooms_per_room           16358 non-null float64\n",
      "bedrooms_per_household      16358 non-null float64\n",
      "population_per_household    16512 non-null float64\n",
      "dtypes: float64(12), object(1)\n",
      "memory usage: 1.8+ MB\n"
     ]
    }
   ],
   "source": [
    "# 열 제거\n",
    "housing.drop('total_bedrooms', axis=1).info()"
   ]
  },
  {
   "cell_type": "markdown",
   "metadata": {},
   "source": [
    "##### 5-1-2. 대표값으로 대체"
   ]
  },
  {
   "cell_type": "code",
   "execution_count": 50,
   "metadata": {},
   "outputs": [
    {
     "data": {
      "text/plain": [
       "longitude                     -118.510000\n",
       "latitude                        34.260000\n",
       "housing_median_age              29.000000\n",
       "total_rooms                   2123.500000\n",
       "total_bedrooms                 433.500000\n",
       "population                    1166.000000\n",
       "households                     408.000000\n",
       "median_income                    3.540900\n",
       "median_house_value          179500.000000\n",
       "rooms_per_houshold               5.232342\n",
       "bedrooms_per_room                0.203021\n",
       "bedrooms_per_household           1.048617\n",
       "population_per_household         2.820179\n",
       "dtype: float64"
      ]
     },
     "execution_count": 50,
     "metadata": {},
     "output_type": "execute_result"
    }
   ],
   "source": [
    "housing.median()"
   ]
  },
  {
   "cell_type": "code",
   "execution_count": null,
   "metadata": {},
   "outputs": [],
   "source": []
  },
  {
   "cell_type": "code",
   "execution_count": 51,
   "metadata": {
    "scrolled": true
   },
   "outputs": [
    {
     "data": {
      "text/plain": [
       "longitude                     -118.510000\n",
       "latitude                        34.260000\n",
       "housing_median_age              29.000000\n",
       "total_rooms                   2123.500000\n",
       "total_bedrooms                 433.500000\n",
       "population                    1166.000000\n",
       "households                     408.000000\n",
       "median_income                    3.540900\n",
       "median_house_value          179500.000000\n",
       "rooms_per_houshold               5.232342\n",
       "bedrooms_per_room                0.203021\n",
       "bedrooms_per_household           1.048617\n",
       "population_per_household         2.820179\n",
       "dtype: float64"
      ]
     },
     "execution_count": 51,
     "metadata": {},
     "output_type": "execute_result"
    }
   ],
   "source": [
    "median = housing.median()\n",
    "median"
   ]
  },
  {
   "cell_type": "code",
   "execution_count": 52,
   "metadata": {
    "scrolled": true
   },
   "outputs": [
    {
     "name": "stdout",
     "output_type": "stream",
     "text": [
      "<class 'pandas.core.frame.DataFrame'>\n",
      "Int64Index: 16512 entries, 6895 to 15088\n",
      "Data columns (total 14 columns):\n",
      "longitude                   16512 non-null float64\n",
      "latitude                    16512 non-null float64\n",
      "housing_median_age          16512 non-null float64\n",
      "total_rooms                 16512 non-null float64\n",
      "total_bedrooms              16512 non-null float64\n",
      "population                  16512 non-null float64\n",
      "households                  16512 non-null float64\n",
      "median_income               16512 non-null float64\n",
      "median_house_value          16512 non-null float64\n",
      "ocean_proximity             16512 non-null object\n",
      "rooms_per_houshold          16512 non-null float64\n",
      "bedrooms_per_room           16512 non-null float64\n",
      "bedrooms_per_household      16512 non-null float64\n",
      "population_per_household    16512 non-null float64\n",
      "dtypes: float64(13), object(1)\n",
      "memory usage: 1.9+ MB\n"
     ]
    }
   ],
   "source": [
    "# 대표값으로 대체\n",
    "\n",
    "# median = housing['total_bedrooms'].median() # option3: 중간값 채우기\n",
    "# housing['total_bedrooms'] = housing['total_bedrooms'].fillna(median)\n",
    "# housing.info()\n",
    "median = housing.median()\n",
    "# print(housing.fillna(median).describe())\n",
    "housing.fillna(median).info()\n",
    "\n",
    "\n",
    "# housing.info()\n",
    "# 중간값 계산할 경우. 저장해 놓아야함( 테스트셋에서도 누락된 값을 바꾸고, 실제 운영시에도 바꿔야 함."
   ]
  },
  {
   "cell_type": "markdown",
   "metadata": {},
   "source": [
    "##### 5-1-2. 부록: imputer 사용하기"
   ]
  },
  {
   "cell_type": "code",
   "execution_count": 53,
   "metadata": {},
   "outputs": [],
   "source": [
    "# strat_train_set.info()"
   ]
  },
  {
   "cell_type": "code",
   "execution_count": 54,
   "metadata": {},
   "outputs": [
    {
     "data": {
      "text/plain": [
       "SimpleImputer(add_indicator=False, copy=True, fill_value=None,\n",
       "              missing_values=nan, strategy='median', verbose=0)"
      ]
     },
     "execution_count": 54,
     "metadata": {},
     "output_type": "execute_result"
    }
   ],
   "source": [
    "from sklearn.impute import SimpleImputer\n",
    "\n",
    "imputer = SimpleImputer(strategy='median')\n",
    "imputer"
   ]
  },
  {
   "cell_type": "code",
   "execution_count": 55,
   "metadata": {},
   "outputs": [],
   "source": [
    "housing_num = housing.drop('ocean_proximity', axis=1)"
   ]
  },
  {
   "cell_type": "code",
   "execution_count": 56,
   "metadata": {},
   "outputs": [
    {
     "data": {
      "text/html": [
       "<div>\n",
       "<style scoped>\n",
       "    .dataframe tbody tr th:only-of-type {\n",
       "        vertical-align: middle;\n",
       "    }\n",
       "\n",
       "    .dataframe tbody tr th {\n",
       "        vertical-align: top;\n",
       "    }\n",
       "\n",
       "    .dataframe thead th {\n",
       "        text-align: right;\n",
       "    }\n",
       "</style>\n",
       "<table border=\"1\" class=\"dataframe\">\n",
       "  <thead>\n",
       "    <tr style=\"text-align: right;\">\n",
       "      <th></th>\n",
       "      <th>longitude</th>\n",
       "      <th>latitude</th>\n",
       "      <th>housing_median_age</th>\n",
       "      <th>total_rooms</th>\n",
       "      <th>total_bedrooms</th>\n",
       "      <th>population</th>\n",
       "      <th>households</th>\n",
       "      <th>median_income</th>\n",
       "      <th>median_house_value</th>\n",
       "      <th>rooms_per_houshold</th>\n",
       "      <th>bedrooms_per_room</th>\n",
       "      <th>bedrooms_per_household</th>\n",
       "      <th>population_per_household</th>\n",
       "    </tr>\n",
       "  </thead>\n",
       "  <tbody>\n",
       "    <tr>\n",
       "      <th>6895</th>\n",
       "      <td>-118.11</td>\n",
       "      <td>34.04</td>\n",
       "      <td>28.0</td>\n",
       "      <td>3913.0</td>\n",
       "      <td>696.0</td>\n",
       "      <td>2264.0</td>\n",
       "      <td>697.0</td>\n",
       "      <td>5.2446</td>\n",
       "      <td>258000.0</td>\n",
       "      <td>5.614060</td>\n",
       "      <td>0.177869</td>\n",
       "      <td>0.998565</td>\n",
       "      <td>3.248207</td>\n",
       "    </tr>\n",
       "    <tr>\n",
       "      <th>2880</th>\n",
       "      <td>-118.97</td>\n",
       "      <td>35.38</td>\n",
       "      <td>35.0</td>\n",
       "      <td>1673.0</td>\n",
       "      <td>426.0</td>\n",
       "      <td>1041.0</td>\n",
       "      <td>413.0</td>\n",
       "      <td>1.3750</td>\n",
       "      <td>57500.0</td>\n",
       "      <td>4.050847</td>\n",
       "      <td>0.254632</td>\n",
       "      <td>1.031477</td>\n",
       "      <td>2.520581</td>\n",
       "    </tr>\n",
       "    <tr>\n",
       "      <th>13769</th>\n",
       "      <td>-117.03</td>\n",
       "      <td>34.07</td>\n",
       "      <td>16.0</td>\n",
       "      <td>3784.0</td>\n",
       "      <td>577.0</td>\n",
       "      <td>1615.0</td>\n",
       "      <td>525.0</td>\n",
       "      <td>4.2333</td>\n",
       "      <td>220300.0</td>\n",
       "      <td>7.207619</td>\n",
       "      <td>0.152484</td>\n",
       "      <td>1.099048</td>\n",
       "      <td>3.076190</td>\n",
       "    </tr>\n",
       "    <tr>\n",
       "      <th>18349</th>\n",
       "      <td>-122.17</td>\n",
       "      <td>37.43</td>\n",
       "      <td>24.0</td>\n",
       "      <td>3924.0</td>\n",
       "      <td>1142.0</td>\n",
       "      <td>7174.0</td>\n",
       "      <td>950.0</td>\n",
       "      <td>4.0972</td>\n",
       "      <td>387500.0</td>\n",
       "      <td>4.130526</td>\n",
       "      <td>0.291030</td>\n",
       "      <td>1.202105</td>\n",
       "      <td>7.551579</td>\n",
       "    </tr>\n",
       "    <tr>\n",
       "      <th>16188</th>\n",
       "      <td>-121.31</td>\n",
       "      <td>37.96</td>\n",
       "      <td>48.0</td>\n",
       "      <td>1112.0</td>\n",
       "      <td>227.0</td>\n",
       "      <td>583.0</td>\n",
       "      <td>216.0</td>\n",
       "      <td>2.3393</td>\n",
       "      <td>77600.0</td>\n",
       "      <td>5.148148</td>\n",
       "      <td>0.204137</td>\n",
       "      <td>1.050926</td>\n",
       "      <td>2.699074</td>\n",
       "    </tr>\n",
       "  </tbody>\n",
       "</table>\n",
       "</div>"
      ],
      "text/plain": [
       "       longitude  latitude  housing_median_age  total_rooms  total_bedrooms  \\\n",
       "6895     -118.11     34.04                28.0       3913.0           696.0   \n",
       "2880     -118.97     35.38                35.0       1673.0           426.0   \n",
       "13769    -117.03     34.07                16.0       3784.0           577.0   \n",
       "18349    -122.17     37.43                24.0       3924.0          1142.0   \n",
       "16188    -121.31     37.96                48.0       1112.0           227.0   \n",
       "\n",
       "       population  households  median_income  median_house_value  \\\n",
       "6895       2264.0       697.0         5.2446            258000.0   \n",
       "2880       1041.0       413.0         1.3750             57500.0   \n",
       "13769      1615.0       525.0         4.2333            220300.0   \n",
       "18349      7174.0       950.0         4.0972            387500.0   \n",
       "16188       583.0       216.0         2.3393             77600.0   \n",
       "\n",
       "       rooms_per_houshold  bedrooms_per_room  bedrooms_per_household  \\\n",
       "6895             5.614060           0.177869                0.998565   \n",
       "2880             4.050847           0.254632                1.031477   \n",
       "13769            7.207619           0.152484                1.099048   \n",
       "18349            4.130526           0.291030                1.202105   \n",
       "16188            5.148148           0.204137                1.050926   \n",
       "\n",
       "       population_per_household  \n",
       "6895                   3.248207  \n",
       "2880                   2.520581  \n",
       "13769                  3.076190  \n",
       "18349                  7.551579  \n",
       "16188                  2.699074  "
      ]
     },
     "execution_count": 56,
     "metadata": {},
     "output_type": "execute_result"
    }
   ],
   "source": [
    "housing_num.head()"
   ]
  },
  {
   "cell_type": "code",
   "execution_count": 57,
   "metadata": {
    "scrolled": true
   },
   "outputs": [
    {
     "data": {
      "text/plain": [
       "SimpleImputer(add_indicator=False, copy=True, fill_value=None,\n",
       "              missing_values=nan, strategy='median', verbose=0)"
      ]
     },
     "execution_count": 57,
     "metadata": {},
     "output_type": "execute_result"
    }
   ],
   "source": [
    "# imputer 사용하기: 수치형 특성에서만 계산될 수 있음.\n",
    "housing_num = housing.drop('ocean_proximity', axis=1)\n",
    "imputer.fit(housing_num)"
   ]
  },
  {
   "cell_type": "code",
   "execution_count": 58,
   "metadata": {},
   "outputs": [
    {
     "data": {
      "text/plain": [
       "array([-1.18510000e+02,  3.42600000e+01,  2.90000000e+01,  2.12350000e+03,\n",
       "        4.33500000e+02,  1.16600000e+03,  4.08000000e+02,  3.54090000e+00,\n",
       "        1.79500000e+05,  5.23234164e+00,  2.03020779e-01,  1.04861674e+00,\n",
       "        2.82017903e+00])"
      ]
     },
     "execution_count": 58,
     "metadata": {},
     "output_type": "execute_result"
    }
   ],
   "source": [
    "# imputer의 statistics에 저장됨.! (새로운 데이터에서 어떤 값이 누락될지 모르므로, 모든 수치형 특성에 imputer를 적용하자)\n",
    "imputer.statistics_"
   ]
  },
  {
   "cell_type": "code",
   "execution_count": 59,
   "metadata": {},
   "outputs": [
    {
     "data": {
      "text/plain": [
       "array([-1.18510000e+02,  3.42600000e+01,  2.90000000e+01,  2.12350000e+03,\n",
       "        4.33500000e+02,  1.16600000e+03,  4.08000000e+02,  3.54090000e+00,\n",
       "        1.79500000e+05,  5.23234164e+00,  2.03020779e-01,  1.04861674e+00,\n",
       "        2.82017903e+00])"
      ]
     },
     "execution_count": 59,
     "metadata": {},
     "output_type": "execute_result"
    }
   ],
   "source": [
    "housing_num.median().values"
   ]
  },
  {
   "cell_type": "code",
   "execution_count": 60,
   "metadata": {},
   "outputs": [
    {
     "data": {
      "text/plain": [
       "array([[-118.11      ,   34.04      ,   28.        , ...,    0.17786864,\n",
       "           0.99856528,    3.2482066 ],\n",
       "       [-118.97      ,   35.38      ,   35.        , ...,    0.2546324 ,\n",
       "           1.031477  ,    2.52058111],\n",
       "       [-117.03      ,   34.07      ,   16.        , ...,    0.15248414,\n",
       "           1.09904762,    3.07619048],\n",
       "       ...,\n",
       "       [-122.58      ,   37.98      ,   52.        , ...,    0.18305085,\n",
       "           1.0964467 ,    2.37055838],\n",
       "       [-118.44      ,   34.21      ,   37.        , ...,    0.2012012 ,\n",
       "           0.97667638,    2.94752187],\n",
       "       [-116.91      ,   32.81      ,   22.        , ...,    0.1470792 ,\n",
       "           0.97400612,    2.98470948]])"
      ]
     },
     "execution_count": 60,
     "metadata": {},
     "output_type": "execute_result"
    }
   ],
   "source": [
    "#imputer 객체로 훈련세트에서 누락된 값을 학습한 중간값으로 변경 \n",
    "X = imputer.transform(housing_num)\n",
    "X\n",
    "# => 결과는 numpy 배열 (housing_num에서 변형된 특성) => pandas로 만들기"
   ]
  },
  {
   "cell_type": "code",
   "execution_count": 61,
   "metadata": {
    "scrolled": false
   },
   "outputs": [
    {
     "data": {
      "text/html": [
       "<div>\n",
       "<style scoped>\n",
       "    .dataframe tbody tr th:only-of-type {\n",
       "        vertical-align: middle;\n",
       "    }\n",
       "\n",
       "    .dataframe tbody tr th {\n",
       "        vertical-align: top;\n",
       "    }\n",
       "\n",
       "    .dataframe thead th {\n",
       "        text-align: right;\n",
       "    }\n",
       "</style>\n",
       "<table border=\"1\" class=\"dataframe\">\n",
       "  <thead>\n",
       "    <tr style=\"text-align: right;\">\n",
       "      <th></th>\n",
       "      <th>longitude</th>\n",
       "      <th>latitude</th>\n",
       "      <th>housing_median_age</th>\n",
       "      <th>total_rooms</th>\n",
       "      <th>total_bedrooms</th>\n",
       "      <th>population</th>\n",
       "      <th>households</th>\n",
       "      <th>median_income</th>\n",
       "      <th>median_house_value</th>\n",
       "      <th>rooms_per_houshold</th>\n",
       "      <th>bedrooms_per_room</th>\n",
       "      <th>bedrooms_per_household</th>\n",
       "      <th>population_per_household</th>\n",
       "    </tr>\n",
       "  </thead>\n",
       "  <tbody>\n",
       "    <tr>\n",
       "      <th>6895</th>\n",
       "      <td>-118.11</td>\n",
       "      <td>34.04</td>\n",
       "      <td>28.0</td>\n",
       "      <td>3913.0</td>\n",
       "      <td>696.0</td>\n",
       "      <td>2264.0</td>\n",
       "      <td>697.0</td>\n",
       "      <td>5.2446</td>\n",
       "      <td>258000.0</td>\n",
       "      <td>5.614060</td>\n",
       "      <td>0.177869</td>\n",
       "      <td>0.998565</td>\n",
       "      <td>3.248207</td>\n",
       "    </tr>\n",
       "    <tr>\n",
       "      <th>2880</th>\n",
       "      <td>-118.97</td>\n",
       "      <td>35.38</td>\n",
       "      <td>35.0</td>\n",
       "      <td>1673.0</td>\n",
       "      <td>426.0</td>\n",
       "      <td>1041.0</td>\n",
       "      <td>413.0</td>\n",
       "      <td>1.3750</td>\n",
       "      <td>57500.0</td>\n",
       "      <td>4.050847</td>\n",
       "      <td>0.254632</td>\n",
       "      <td>1.031477</td>\n",
       "      <td>2.520581</td>\n",
       "    </tr>\n",
       "    <tr>\n",
       "      <th>13769</th>\n",
       "      <td>-117.03</td>\n",
       "      <td>34.07</td>\n",
       "      <td>16.0</td>\n",
       "      <td>3784.0</td>\n",
       "      <td>577.0</td>\n",
       "      <td>1615.0</td>\n",
       "      <td>525.0</td>\n",
       "      <td>4.2333</td>\n",
       "      <td>220300.0</td>\n",
       "      <td>7.207619</td>\n",
       "      <td>0.152484</td>\n",
       "      <td>1.099048</td>\n",
       "      <td>3.076190</td>\n",
       "    </tr>\n",
       "    <tr>\n",
       "      <th>18349</th>\n",
       "      <td>-122.17</td>\n",
       "      <td>37.43</td>\n",
       "      <td>24.0</td>\n",
       "      <td>3924.0</td>\n",
       "      <td>1142.0</td>\n",
       "      <td>7174.0</td>\n",
       "      <td>950.0</td>\n",
       "      <td>4.0972</td>\n",
       "      <td>387500.0</td>\n",
       "      <td>4.130526</td>\n",
       "      <td>0.291030</td>\n",
       "      <td>1.202105</td>\n",
       "      <td>7.551579</td>\n",
       "    </tr>\n",
       "    <tr>\n",
       "      <th>16188</th>\n",
       "      <td>-121.31</td>\n",
       "      <td>37.96</td>\n",
       "      <td>48.0</td>\n",
       "      <td>1112.0</td>\n",
       "      <td>227.0</td>\n",
       "      <td>583.0</td>\n",
       "      <td>216.0</td>\n",
       "      <td>2.3393</td>\n",
       "      <td>77600.0</td>\n",
       "      <td>5.148148</td>\n",
       "      <td>0.204137</td>\n",
       "      <td>1.050926</td>\n",
       "      <td>2.699074</td>\n",
       "    </tr>\n",
       "    <tr>\n",
       "      <th>14468</th>\n",
       "      <td>-117.26</td>\n",
       "      <td>32.85</td>\n",
       "      <td>30.0</td>\n",
       "      <td>3652.0</td>\n",
       "      <td>499.0</td>\n",
       "      <td>978.0</td>\n",
       "      <td>462.0</td>\n",
       "      <td>8.2374</td>\n",
       "      <td>500001.0</td>\n",
       "      <td>7.904762</td>\n",
       "      <td>0.136637</td>\n",
       "      <td>1.080087</td>\n",
       "      <td>2.116883</td>\n",
       "    </tr>\n",
       "    <tr>\n",
       "      <th>6861</th>\n",
       "      <td>-118.13</td>\n",
       "      <td>34.06</td>\n",
       "      <td>30.0</td>\n",
       "      <td>1692.0</td>\n",
       "      <td>398.0</td>\n",
       "      <td>1130.0</td>\n",
       "      <td>365.0</td>\n",
       "      <td>2.8672</td>\n",
       "      <td>198500.0</td>\n",
       "      <td>4.635616</td>\n",
       "      <td>0.235225</td>\n",
       "      <td>1.090411</td>\n",
       "      <td>3.095890</td>\n",
       "    </tr>\n",
       "    <tr>\n",
       "      <th>17344</th>\n",
       "      <td>-120.43</td>\n",
       "      <td>34.86</td>\n",
       "      <td>17.0</td>\n",
       "      <td>3172.0</td>\n",
       "      <td>506.0</td>\n",
       "      <td>1538.0</td>\n",
       "      <td>473.0</td>\n",
       "      <td>4.3125</td>\n",
       "      <td>168100.0</td>\n",
       "      <td>6.706131</td>\n",
       "      <td>0.159521</td>\n",
       "      <td>1.069767</td>\n",
       "      <td>3.251586</td>\n",
       "    </tr>\n",
       "    <tr>\n",
       "      <th>3981</th>\n",
       "      <td>-118.60</td>\n",
       "      <td>34.19</td>\n",
       "      <td>16.0</td>\n",
       "      <td>14912.0</td>\n",
       "      <td>4183.0</td>\n",
       "      <td>5105.0</td>\n",
       "      <td>3302.0</td>\n",
       "      <td>2.8312</td>\n",
       "      <td>213900.0</td>\n",
       "      <td>4.516051</td>\n",
       "      <td>0.280512</td>\n",
       "      <td>1.266808</td>\n",
       "      <td>1.546033</td>\n",
       "    </tr>\n",
       "    <tr>\n",
       "      <th>19222</th>\n",
       "      <td>-122.70</td>\n",
       "      <td>38.46</td>\n",
       "      <td>29.0</td>\n",
       "      <td>2891.0</td>\n",
       "      <td>459.0</td>\n",
       "      <td>1012.0</td>\n",
       "      <td>441.0</td>\n",
       "      <td>5.0415</td>\n",
       "      <td>240200.0</td>\n",
       "      <td>6.555556</td>\n",
       "      <td>0.158769</td>\n",
       "      <td>1.040816</td>\n",
       "      <td>2.294785</td>\n",
       "    </tr>\n",
       "  </tbody>\n",
       "</table>\n",
       "</div>"
      ],
      "text/plain": [
       "       longitude  latitude  housing_median_age  total_rooms  total_bedrooms  \\\n",
       "6895     -118.11     34.04                28.0       3913.0           696.0   \n",
       "2880     -118.97     35.38                35.0       1673.0           426.0   \n",
       "13769    -117.03     34.07                16.0       3784.0           577.0   \n",
       "18349    -122.17     37.43                24.0       3924.0          1142.0   \n",
       "16188    -121.31     37.96                48.0       1112.0           227.0   \n",
       "14468    -117.26     32.85                30.0       3652.0           499.0   \n",
       "6861     -118.13     34.06                30.0       1692.0           398.0   \n",
       "17344    -120.43     34.86                17.0       3172.0           506.0   \n",
       "3981     -118.60     34.19                16.0      14912.0          4183.0   \n",
       "19222    -122.70     38.46                29.0       2891.0           459.0   \n",
       "\n",
       "       population  households  median_income  median_house_value  \\\n",
       "6895       2264.0       697.0         5.2446            258000.0   \n",
       "2880       1041.0       413.0         1.3750             57500.0   \n",
       "13769      1615.0       525.0         4.2333            220300.0   \n",
       "18349      7174.0       950.0         4.0972            387500.0   \n",
       "16188       583.0       216.0         2.3393             77600.0   \n",
       "14468       978.0       462.0         8.2374            500001.0   \n",
       "6861       1130.0       365.0         2.8672            198500.0   \n",
       "17344      1538.0       473.0         4.3125            168100.0   \n",
       "3981       5105.0      3302.0         2.8312            213900.0   \n",
       "19222      1012.0       441.0         5.0415            240200.0   \n",
       "\n",
       "       rooms_per_houshold  bedrooms_per_room  bedrooms_per_household  \\\n",
       "6895             5.614060           0.177869                0.998565   \n",
       "2880             4.050847           0.254632                1.031477   \n",
       "13769            7.207619           0.152484                1.099048   \n",
       "18349            4.130526           0.291030                1.202105   \n",
       "16188            5.148148           0.204137                1.050926   \n",
       "14468            7.904762           0.136637                1.080087   \n",
       "6861             4.635616           0.235225                1.090411   \n",
       "17344            6.706131           0.159521                1.069767   \n",
       "3981             4.516051           0.280512                1.266808   \n",
       "19222            6.555556           0.158769                1.040816   \n",
       "\n",
       "       population_per_household  \n",
       "6895                   3.248207  \n",
       "2880                   2.520581  \n",
       "13769                  3.076190  \n",
       "18349                  7.551579  \n",
       "16188                  2.699074  \n",
       "14468                  2.116883  \n",
       "6861                   3.095890  \n",
       "17344                  3.251586  \n",
       "3981                   1.546033  \n",
       "19222                  2.294785  "
      ]
     },
     "execution_count": 61,
     "metadata": {},
     "output_type": "execute_result"
    }
   ],
   "source": [
    "housing_tr = pd.DataFrame(X, columns=housing_num.columns, index=list(housing.index.values))\n",
    "housing_tr.head(10)"
   ]
  },
  {
   "cell_type": "markdown",
   "metadata": {},
   "source": [
    "##### 5-1-3. 예측값 삽입 (Feature를 위한 머신러닝)"
   ]
  },
  {
   "cell_type": "code",
   "execution_count": 62,
   "metadata": {},
   "outputs": [
    {
     "data": {
      "text/html": [
       "<div>\n",
       "<style scoped>\n",
       "    .dataframe tbody tr th:only-of-type {\n",
       "        vertical-align: middle;\n",
       "    }\n",
       "\n",
       "    .dataframe tbody tr th {\n",
       "        vertical-align: top;\n",
       "    }\n",
       "\n",
       "    .dataframe thead th {\n",
       "        text-align: right;\n",
       "    }\n",
       "</style>\n",
       "<table border=\"1\" class=\"dataframe\">\n",
       "  <thead>\n",
       "    <tr style=\"text-align: right;\">\n",
       "      <th></th>\n",
       "      <th>longitude</th>\n",
       "      <th>latitude</th>\n",
       "      <th>housing_median_age</th>\n",
       "      <th>total_rooms</th>\n",
       "      <th>total_bedrooms</th>\n",
       "      <th>population</th>\n",
       "      <th>households</th>\n",
       "      <th>median_income</th>\n",
       "      <th>median_house_value</th>\n",
       "      <th>rooms_per_houshold</th>\n",
       "      <th>bedrooms_per_room</th>\n",
       "      <th>bedrooms_per_household</th>\n",
       "      <th>population_per_household</th>\n",
       "    </tr>\n",
       "  </thead>\n",
       "  <tbody>\n",
       "    <tr>\n",
       "      <th>count</th>\n",
       "      <td>16512.000000</td>\n",
       "      <td>16512.00000</td>\n",
       "      <td>16512.000000</td>\n",
       "      <td>16512.000000</td>\n",
       "      <td>16358.000000</td>\n",
       "      <td>16512.000000</td>\n",
       "      <td>16512.00000</td>\n",
       "      <td>16512.000000</td>\n",
       "      <td>16512.000000</td>\n",
       "      <td>16512.000000</td>\n",
       "      <td>16358.000000</td>\n",
       "      <td>16358.000000</td>\n",
       "      <td>16512.000000</td>\n",
       "    </tr>\n",
       "    <tr>\n",
       "      <th>mean</th>\n",
       "      <td>-119.572346</td>\n",
       "      <td>35.63674</td>\n",
       "      <td>28.628513</td>\n",
       "      <td>2628.114583</td>\n",
       "      <td>535.663529</td>\n",
       "      <td>1422.758600</td>\n",
       "      <td>497.75327</td>\n",
       "      <td>3.873473</td>\n",
       "      <td>206893.947614</td>\n",
       "      <td>5.438873</td>\n",
       "      <td>0.212863</td>\n",
       "      <td>1.098661</td>\n",
       "      <td>3.098006</td>\n",
       "    </tr>\n",
       "    <tr>\n",
       "      <th>std</th>\n",
       "      <td>2.001511</td>\n",
       "      <td>2.13778</td>\n",
       "      <td>12.586026</td>\n",
       "      <td>2157.526589</td>\n",
       "      <td>413.333152</td>\n",
       "      <td>1120.859666</td>\n",
       "      <td>376.32796</td>\n",
       "      <td>1.900464</td>\n",
       "      <td>115457.615892</td>\n",
       "      <td>2.606392</td>\n",
       "      <td>0.057366</td>\n",
       "      <td>0.508801</td>\n",
       "      <td>11.585044</td>\n",
       "    </tr>\n",
       "    <tr>\n",
       "      <th>min</th>\n",
       "      <td>-124.350000</td>\n",
       "      <td>32.54000</td>\n",
       "      <td>1.000000</td>\n",
       "      <td>6.000000</td>\n",
       "      <td>1.000000</td>\n",
       "      <td>3.000000</td>\n",
       "      <td>1.00000</td>\n",
       "      <td>0.499900</td>\n",
       "      <td>14999.000000</td>\n",
       "      <td>1.130435</td>\n",
       "      <td>0.100000</td>\n",
       "      <td>0.333333</td>\n",
       "      <td>0.692308</td>\n",
       "    </tr>\n",
       "    <tr>\n",
       "      <th>25%</th>\n",
       "      <td>-121.800000</td>\n",
       "      <td>33.93000</td>\n",
       "      <td>18.000000</td>\n",
       "      <td>1445.000000</td>\n",
       "      <td>295.000000</td>\n",
       "      <td>786.000000</td>\n",
       "      <td>279.00000</td>\n",
       "      <td>2.566775</td>\n",
       "      <td>119800.000000</td>\n",
       "      <td>4.441216</td>\n",
       "      <td>0.175247</td>\n",
       "      <td>1.005556</td>\n",
       "      <td>2.431714</td>\n",
       "    </tr>\n",
       "    <tr>\n",
       "      <th>50%</th>\n",
       "      <td>-118.510000</td>\n",
       "      <td>34.26000</td>\n",
       "      <td>29.000000</td>\n",
       "      <td>2123.500000</td>\n",
       "      <td>433.500000</td>\n",
       "      <td>1166.000000</td>\n",
       "      <td>408.00000</td>\n",
       "      <td>3.540900</td>\n",
       "      <td>179500.000000</td>\n",
       "      <td>5.232342</td>\n",
       "      <td>0.203021</td>\n",
       "      <td>1.048617</td>\n",
       "      <td>2.820179</td>\n",
       "    </tr>\n",
       "    <tr>\n",
       "      <th>75%</th>\n",
       "      <td>-118.010000</td>\n",
       "      <td>37.72000</td>\n",
       "      <td>37.000000</td>\n",
       "      <td>3143.250000</td>\n",
       "      <td>645.000000</td>\n",
       "      <td>1720.000000</td>\n",
       "      <td>603.00000</td>\n",
       "      <td>4.744475</td>\n",
       "      <td>264000.000000</td>\n",
       "      <td>6.056697</td>\n",
       "      <td>0.239774</td>\n",
       "      <td>1.099330</td>\n",
       "      <td>3.282433</td>\n",
       "    </tr>\n",
       "    <tr>\n",
       "      <th>max</th>\n",
       "      <td>-114.310000</td>\n",
       "      <td>41.95000</td>\n",
       "      <td>52.000000</td>\n",
       "      <td>39320.000000</td>\n",
       "      <td>6210.000000</td>\n",
       "      <td>35682.000000</td>\n",
       "      <td>5358.00000</td>\n",
       "      <td>15.000100</td>\n",
       "      <td>500001.000000</td>\n",
       "      <td>141.909091</td>\n",
       "      <td>1.000000</td>\n",
       "      <td>34.066667</td>\n",
       "      <td>1243.333333</td>\n",
       "    </tr>\n",
       "  </tbody>\n",
       "</table>\n",
       "</div>"
      ],
      "text/plain": [
       "          longitude     latitude  housing_median_age   total_rooms  \\\n",
       "count  16512.000000  16512.00000        16512.000000  16512.000000   \n",
       "mean    -119.572346     35.63674           28.628513   2628.114583   \n",
       "std        2.001511      2.13778           12.586026   2157.526589   \n",
       "min     -124.350000     32.54000            1.000000      6.000000   \n",
       "25%     -121.800000     33.93000           18.000000   1445.000000   \n",
       "50%     -118.510000     34.26000           29.000000   2123.500000   \n",
       "75%     -118.010000     37.72000           37.000000   3143.250000   \n",
       "max     -114.310000     41.95000           52.000000  39320.000000   \n",
       "\n",
       "       total_bedrooms    population   households  median_income  \\\n",
       "count    16358.000000  16512.000000  16512.00000   16512.000000   \n",
       "mean       535.663529   1422.758600    497.75327       3.873473   \n",
       "std        413.333152   1120.859666    376.32796       1.900464   \n",
       "min          1.000000      3.000000      1.00000       0.499900   \n",
       "25%        295.000000    786.000000    279.00000       2.566775   \n",
       "50%        433.500000   1166.000000    408.00000       3.540900   \n",
       "75%        645.000000   1720.000000    603.00000       4.744475   \n",
       "max       6210.000000  35682.000000   5358.00000      15.000100   \n",
       "\n",
       "       median_house_value  rooms_per_houshold  bedrooms_per_room  \\\n",
       "count        16512.000000        16512.000000       16358.000000   \n",
       "mean        206893.947614            5.438873           0.212863   \n",
       "std         115457.615892            2.606392           0.057366   \n",
       "min          14999.000000            1.130435           0.100000   \n",
       "25%         119800.000000            4.441216           0.175247   \n",
       "50%         179500.000000            5.232342           0.203021   \n",
       "75%         264000.000000            6.056697           0.239774   \n",
       "max         500001.000000          141.909091           1.000000   \n",
       "\n",
       "       bedrooms_per_household  population_per_household  \n",
       "count            16358.000000              16512.000000  \n",
       "mean                 1.098661                  3.098006  \n",
       "std                  0.508801                 11.585044  \n",
       "min                  0.333333                  0.692308  \n",
       "25%                  1.005556                  2.431714  \n",
       "50%                  1.048617                  2.820179  \n",
       "75%                  1.099330                  3.282433  \n",
       "max                 34.066667               1243.333333  "
      ]
     },
     "execution_count": 62,
     "metadata": {},
     "output_type": "execute_result"
    }
   ],
   "source": [
    "housing.describe()"
   ]
  },
  {
   "cell_type": "code",
   "execution_count": null,
   "metadata": {},
   "outputs": [],
   "source": []
  },
  {
   "cell_type": "markdown",
   "metadata": {},
   "source": [
    "### 5-2. 텍스트와 범주형 특성 다루기"
   ]
  },
  {
   "cell_type": "markdown",
   "metadata": {},
   "source": [
    "##### 5-2-1. LabelEncoding 예시"
   ]
  },
  {
   "cell_type": "code",
   "execution_count": 63,
   "metadata": {},
   "outputs": [
    {
     "data": {
      "text/plain": [
       "6895      <1H OCEAN\n",
       "2880         INLAND\n",
       "13769        INLAND\n",
       "18349    NEAR OCEAN\n",
       "16188        INLAND\n",
       "14468    NEAR OCEAN\n",
       "6861      <1H OCEAN\n",
       "17344     <1H OCEAN\n",
       "3981      <1H OCEAN\n",
       "19222     <1H OCEAN\n",
       "Name: ocean_proximity, dtype: object"
      ]
     },
     "execution_count": 63,
     "metadata": {},
     "output_type": "execute_result"
    }
   ],
   "source": [
    "housing_cat = housing['ocean_proximity']\n",
    "housing_cat.head(10)"
   ]
  },
  {
   "cell_type": "code",
   "execution_count": 64,
   "metadata": {},
   "outputs": [
    {
     "data": {
      "text/plain": [
       "<1H OCEAN     7273\n",
       "INLAND        5268\n",
       "NEAR OCEAN    2114\n",
       "NEAR BAY      1855\n",
       "ISLAND           2\n",
       "Name: ocean_proximity, dtype: int64"
      ]
     },
     "execution_count": 64,
     "metadata": {},
     "output_type": "execute_result"
    }
   ],
   "source": [
    "housing['ocean_proximity'].value_counts()"
   ]
  },
  {
   "cell_type": "code",
   "execution_count": 65,
   "metadata": {},
   "outputs": [
    {
     "data": {
      "text/plain": [
       "array([0, 1, 1, 2, 1, 2, 0, 0, 0, 0], dtype=int64)"
      ]
     },
     "execution_count": 65,
     "metadata": {},
     "output_type": "execute_result"
    }
   ],
   "source": [
    "# 머신러닝 알고리즘은 대부분 숫자형을 다룸 -> 각 카테고리를 다른 정숫값으로 매핑\n",
    "housing_cat_encoded, housing_categories = housing_cat.factorize()\n",
    "housing_cat_encoded[:10]\n"
   ]
  },
  {
   "cell_type": "code",
   "execution_count": 66,
   "metadata": {},
   "outputs": [
    {
     "data": {
      "text/plain": [
       "Index(['<1H OCEAN', 'INLAND', 'NEAR OCEAN', 'NEAR BAY', 'ISLAND'], dtype='object')"
      ]
     },
     "execution_count": 66,
     "metadata": {},
     "output_type": "execute_result"
    }
   ],
   "source": [
    "housing_categories"
   ]
  },
  {
   "cell_type": "markdown",
   "metadata": {},
   "source": [
    "\n",
    "##### 5-2-2. OnehotEncoding 예시"
   ]
  },
  {
   "cell_type": "code",
   "execution_count": 67,
   "metadata": {},
   "outputs": [
    {
     "data": {
      "text/plain": [
       "array([[1., 0., 0., 0., 0.],\n",
       "       [0., 1., 0., 0., 0.],\n",
       "       [0., 1., 0., 0., 0.],\n",
       "       ...,\n",
       "       [0., 0., 0., 1., 0.],\n",
       "       [1., 0., 0., 0., 0.],\n",
       "       [1., 0., 0., 0., 0.]])"
      ]
     },
     "execution_count": 67,
     "metadata": {},
     "output_type": "execute_result"
    }
   ],
   "source": [
    "from sklearn.compose import ColumnTransformer \n",
    "from sklearn.preprocessing import OneHotEncoder\n",
    "\n",
    "encoder = OneHotEncoder(categories='auto')\n",
    "housing_cat_1hot = encoder.fit_transform(housing_cat_encoded.reshape(-1,1))\n",
    "housing_cat_1hot.toarray()"
   ]
  },
  {
   "cell_type": "markdown",
   "metadata": {},
   "source": [
    "### 5-3. feature scaling"
   ]
  },
  {
   "cell_type": "code",
   "execution_count": 68,
   "metadata": {},
   "outputs": [
    {
     "data": {
      "text/html": [
       "<div>\n",
       "<style scoped>\n",
       "    .dataframe tbody tr th:only-of-type {\n",
       "        vertical-align: middle;\n",
       "    }\n",
       "\n",
       "    .dataframe tbody tr th {\n",
       "        vertical-align: top;\n",
       "    }\n",
       "\n",
       "    .dataframe thead th {\n",
       "        text-align: right;\n",
       "    }\n",
       "</style>\n",
       "<table border=\"1\" class=\"dataframe\">\n",
       "  <thead>\n",
       "    <tr style=\"text-align: right;\">\n",
       "      <th></th>\n",
       "      <th>longitude</th>\n",
       "      <th>latitude</th>\n",
       "      <th>housing_median_age</th>\n",
       "      <th>total_rooms</th>\n",
       "      <th>total_bedrooms</th>\n",
       "      <th>population</th>\n",
       "      <th>households</th>\n",
       "      <th>median_income</th>\n",
       "      <th>median_house_value</th>\n",
       "      <th>rooms_per_houshold</th>\n",
       "      <th>bedrooms_per_room</th>\n",
       "      <th>bedrooms_per_household</th>\n",
       "      <th>population_per_household</th>\n",
       "    </tr>\n",
       "  </thead>\n",
       "  <tbody>\n",
       "    <tr>\n",
       "      <th>count</th>\n",
       "      <td>16512.000000</td>\n",
       "      <td>16512.00000</td>\n",
       "      <td>16512.000000</td>\n",
       "      <td>16512.000000</td>\n",
       "      <td>16358.000000</td>\n",
       "      <td>16512.000000</td>\n",
       "      <td>16512.00000</td>\n",
       "      <td>16512.000000</td>\n",
       "      <td>16512.000000</td>\n",
       "      <td>16512.000000</td>\n",
       "      <td>16358.000000</td>\n",
       "      <td>16358.000000</td>\n",
       "      <td>16512.000000</td>\n",
       "    </tr>\n",
       "    <tr>\n",
       "      <th>mean</th>\n",
       "      <td>-119.572346</td>\n",
       "      <td>35.63674</td>\n",
       "      <td>28.628513</td>\n",
       "      <td>2628.114583</td>\n",
       "      <td>535.663529</td>\n",
       "      <td>1422.758600</td>\n",
       "      <td>497.75327</td>\n",
       "      <td>3.873473</td>\n",
       "      <td>206893.947614</td>\n",
       "      <td>5.438873</td>\n",
       "      <td>0.212863</td>\n",
       "      <td>1.098661</td>\n",
       "      <td>3.098006</td>\n",
       "    </tr>\n",
       "    <tr>\n",
       "      <th>std</th>\n",
       "      <td>2.001511</td>\n",
       "      <td>2.13778</td>\n",
       "      <td>12.586026</td>\n",
       "      <td>2157.526589</td>\n",
       "      <td>413.333152</td>\n",
       "      <td>1120.859666</td>\n",
       "      <td>376.32796</td>\n",
       "      <td>1.900464</td>\n",
       "      <td>115457.615892</td>\n",
       "      <td>2.606392</td>\n",
       "      <td>0.057366</td>\n",
       "      <td>0.508801</td>\n",
       "      <td>11.585044</td>\n",
       "    </tr>\n",
       "    <tr>\n",
       "      <th>min</th>\n",
       "      <td>-124.350000</td>\n",
       "      <td>32.54000</td>\n",
       "      <td>1.000000</td>\n",
       "      <td>6.000000</td>\n",
       "      <td>1.000000</td>\n",
       "      <td>3.000000</td>\n",
       "      <td>1.00000</td>\n",
       "      <td>0.499900</td>\n",
       "      <td>14999.000000</td>\n",
       "      <td>1.130435</td>\n",
       "      <td>0.100000</td>\n",
       "      <td>0.333333</td>\n",
       "      <td>0.692308</td>\n",
       "    </tr>\n",
       "    <tr>\n",
       "      <th>25%</th>\n",
       "      <td>-121.800000</td>\n",
       "      <td>33.93000</td>\n",
       "      <td>18.000000</td>\n",
       "      <td>1445.000000</td>\n",
       "      <td>295.000000</td>\n",
       "      <td>786.000000</td>\n",
       "      <td>279.00000</td>\n",
       "      <td>2.566775</td>\n",
       "      <td>119800.000000</td>\n",
       "      <td>4.441216</td>\n",
       "      <td>0.175247</td>\n",
       "      <td>1.005556</td>\n",
       "      <td>2.431714</td>\n",
       "    </tr>\n",
       "    <tr>\n",
       "      <th>50%</th>\n",
       "      <td>-118.510000</td>\n",
       "      <td>34.26000</td>\n",
       "      <td>29.000000</td>\n",
       "      <td>2123.500000</td>\n",
       "      <td>433.500000</td>\n",
       "      <td>1166.000000</td>\n",
       "      <td>408.00000</td>\n",
       "      <td>3.540900</td>\n",
       "      <td>179500.000000</td>\n",
       "      <td>5.232342</td>\n",
       "      <td>0.203021</td>\n",
       "      <td>1.048617</td>\n",
       "      <td>2.820179</td>\n",
       "    </tr>\n",
       "    <tr>\n",
       "      <th>75%</th>\n",
       "      <td>-118.010000</td>\n",
       "      <td>37.72000</td>\n",
       "      <td>37.000000</td>\n",
       "      <td>3143.250000</td>\n",
       "      <td>645.000000</td>\n",
       "      <td>1720.000000</td>\n",
       "      <td>603.00000</td>\n",
       "      <td>4.744475</td>\n",
       "      <td>264000.000000</td>\n",
       "      <td>6.056697</td>\n",
       "      <td>0.239774</td>\n",
       "      <td>1.099330</td>\n",
       "      <td>3.282433</td>\n",
       "    </tr>\n",
       "    <tr>\n",
       "      <th>max</th>\n",
       "      <td>-114.310000</td>\n",
       "      <td>41.95000</td>\n",
       "      <td>52.000000</td>\n",
       "      <td>39320.000000</td>\n",
       "      <td>6210.000000</td>\n",
       "      <td>35682.000000</td>\n",
       "      <td>5358.00000</td>\n",
       "      <td>15.000100</td>\n",
       "      <td>500001.000000</td>\n",
       "      <td>141.909091</td>\n",
       "      <td>1.000000</td>\n",
       "      <td>34.066667</td>\n",
       "      <td>1243.333333</td>\n",
       "    </tr>\n",
       "  </tbody>\n",
       "</table>\n",
       "</div>"
      ],
      "text/plain": [
       "          longitude     latitude  housing_median_age   total_rooms  \\\n",
       "count  16512.000000  16512.00000        16512.000000  16512.000000   \n",
       "mean    -119.572346     35.63674           28.628513   2628.114583   \n",
       "std        2.001511      2.13778           12.586026   2157.526589   \n",
       "min     -124.350000     32.54000            1.000000      6.000000   \n",
       "25%     -121.800000     33.93000           18.000000   1445.000000   \n",
       "50%     -118.510000     34.26000           29.000000   2123.500000   \n",
       "75%     -118.010000     37.72000           37.000000   3143.250000   \n",
       "max     -114.310000     41.95000           52.000000  39320.000000   \n",
       "\n",
       "       total_bedrooms    population   households  median_income  \\\n",
       "count    16358.000000  16512.000000  16512.00000   16512.000000   \n",
       "mean       535.663529   1422.758600    497.75327       3.873473   \n",
       "std        413.333152   1120.859666    376.32796       1.900464   \n",
       "min          1.000000      3.000000      1.00000       0.499900   \n",
       "25%        295.000000    786.000000    279.00000       2.566775   \n",
       "50%        433.500000   1166.000000    408.00000       3.540900   \n",
       "75%        645.000000   1720.000000    603.00000       4.744475   \n",
       "max       6210.000000  35682.000000   5358.00000      15.000100   \n",
       "\n",
       "       median_house_value  rooms_per_houshold  bedrooms_per_room  \\\n",
       "count        16512.000000        16512.000000       16358.000000   \n",
       "mean        206893.947614            5.438873           0.212863   \n",
       "std         115457.615892            2.606392           0.057366   \n",
       "min          14999.000000            1.130435           0.100000   \n",
       "25%         119800.000000            4.441216           0.175247   \n",
       "50%         179500.000000            5.232342           0.203021   \n",
       "75%         264000.000000            6.056697           0.239774   \n",
       "max         500001.000000          141.909091           1.000000   \n",
       "\n",
       "       bedrooms_per_household  population_per_household  \n",
       "count            16358.000000              16512.000000  \n",
       "mean                 1.098661                  3.098006  \n",
       "std                  0.508801                 11.585044  \n",
       "min                  0.333333                  0.692308  \n",
       "25%                  1.005556                  2.431714  \n",
       "50%                  1.048617                  2.820179  \n",
       "75%                  1.099330                  3.282433  \n",
       "max                 34.066667               1243.333333  "
      ]
     },
     "execution_count": 68,
     "metadata": {},
     "output_type": "execute_result"
    }
   ],
   "source": [
    "# 스케일링을 비슷하게 만들어준다. (0~1사이에 위치하도록)\n",
    "# 1. min-max 스케일링: (data-min_value)/(max_value-min_value) \n",
    "# MinMaxScaler변환기\n",
    "\n",
    "# 2. 표준화: (data-mean)/std ==> 분산이 1이 됨: 평균이 0이 됨\n",
    "# StandardScaler 변환기\n",
    "# 범위의 상한과 하한이 없어서 신경망에서는 사용 못함.\n",
    "# 그러나 표준화는 이상치에 영향을 덜 받음.\n",
    "\n",
    "# 만약 중간소득을 실수로 100이라고 입력한 구역이 있으면,,,, \n",
    "# min-max는 0~15사이에 모든 값을 0~0.15로 만듬\n",
    "# 표준화는 크게 영향 받지 않음(평균으로 하기 때문에.)\n",
    "\n",
    "housing.describe()"
   ]
  },
  {
   "cell_type": "markdown",
   "metadata": {},
   "source": [
    "##### 5-3-1. min-max scaling (min-max normalization)"
   ]
  },
  {
   "cell_type": "code",
   "execution_count": 69,
   "metadata": {},
   "outputs": [
    {
     "data": {
      "text/html": [
       "<div>\n",
       "<style scoped>\n",
       "    .dataframe tbody tr th:only-of-type {\n",
       "        vertical-align: middle;\n",
       "    }\n",
       "\n",
       "    .dataframe tbody tr th {\n",
       "        vertical-align: top;\n",
       "    }\n",
       "\n",
       "    .dataframe thead th {\n",
       "        text-align: right;\n",
       "    }\n",
       "</style>\n",
       "<table border=\"1\" class=\"dataframe\">\n",
       "  <thead>\n",
       "    <tr style=\"text-align: right;\">\n",
       "      <th></th>\n",
       "      <th>longitude</th>\n",
       "      <th>latitude</th>\n",
       "      <th>housing_median_age</th>\n",
       "      <th>total_rooms</th>\n",
       "      <th>total_bedrooms</th>\n",
       "      <th>population</th>\n",
       "      <th>households</th>\n",
       "      <th>median_income</th>\n",
       "      <th>median_house_value</th>\n",
       "      <th>rooms_per_houshold</th>\n",
       "      <th>bedrooms_per_room</th>\n",
       "      <th>bedrooms_per_household</th>\n",
       "      <th>population_per_household</th>\n",
       "    </tr>\n",
       "  </thead>\n",
       "  <tbody>\n",
       "    <tr>\n",
       "      <th>count</th>\n",
       "      <td>16512.000000</td>\n",
       "      <td>16512.000000</td>\n",
       "      <td>16512.000000</td>\n",
       "      <td>16512.000000</td>\n",
       "      <td>16358.000000</td>\n",
       "      <td>16512.000000</td>\n",
       "      <td>16512.000000</td>\n",
       "      <td>16512.000000</td>\n",
       "      <td>16512.000000</td>\n",
       "      <td>16512.000000</td>\n",
       "      <td>16358.000000</td>\n",
       "      <td>16358.000000</td>\n",
       "      <td>16512.000000</td>\n",
       "    </tr>\n",
       "    <tr>\n",
       "      <th>mean</th>\n",
       "      <td>0.475862</td>\n",
       "      <td>0.329090</td>\n",
       "      <td>0.541736</td>\n",
       "      <td>0.066697</td>\n",
       "      <td>0.086111</td>\n",
       "      <td>0.039793</td>\n",
       "      <td>0.092730</td>\n",
       "      <td>0.232657</td>\n",
       "      <td>0.395658</td>\n",
       "      <td>0.030604</td>\n",
       "      <td>0.125403</td>\n",
       "      <td>0.022688</td>\n",
       "      <td>0.001936</td>\n",
       "    </tr>\n",
       "    <tr>\n",
       "      <th>std</th>\n",
       "      <td>0.199354</td>\n",
       "      <td>0.227182</td>\n",
       "      <td>0.246785</td>\n",
       "      <td>0.054879</td>\n",
       "      <td>0.066570</td>\n",
       "      <td>0.031415</td>\n",
       "      <td>0.070250</td>\n",
       "      <td>0.131065</td>\n",
       "      <td>0.238056</td>\n",
       "      <td>0.018514</td>\n",
       "      <td>0.063740</td>\n",
       "      <td>0.015083</td>\n",
       "      <td>0.009323</td>\n",
       "    </tr>\n",
       "    <tr>\n",
       "      <th>min</th>\n",
       "      <td>0.000000</td>\n",
       "      <td>0.000000</td>\n",
       "      <td>0.000000</td>\n",
       "      <td>0.000000</td>\n",
       "      <td>0.000000</td>\n",
       "      <td>0.000000</td>\n",
       "      <td>0.000000</td>\n",
       "      <td>0.000000</td>\n",
       "      <td>0.000000</td>\n",
       "      <td>0.000000</td>\n",
       "      <td>0.000000</td>\n",
       "      <td>0.000000</td>\n",
       "      <td>0.000000</td>\n",
       "    </tr>\n",
       "    <tr>\n",
       "      <th>25%</th>\n",
       "      <td>0.253984</td>\n",
       "      <td>0.147715</td>\n",
       "      <td>0.333333</td>\n",
       "      <td>0.036603</td>\n",
       "      <td>0.047351</td>\n",
       "      <td>0.021946</td>\n",
       "      <td>0.051895</td>\n",
       "      <td>0.142541</td>\n",
       "      <td>0.216084</td>\n",
       "      <td>0.023518</td>\n",
       "      <td>0.083608</td>\n",
       "      <td>0.019928</td>\n",
       "      <td>0.001400</td>\n",
       "    </tr>\n",
       "    <tr>\n",
       "      <th>50%</th>\n",
       "      <td>0.581673</td>\n",
       "      <td>0.182784</td>\n",
       "      <td>0.549020</td>\n",
       "      <td>0.053861</td>\n",
       "      <td>0.069657</td>\n",
       "      <td>0.032596</td>\n",
       "      <td>0.075975</td>\n",
       "      <td>0.209721</td>\n",
       "      <td>0.339176</td>\n",
       "      <td>0.029137</td>\n",
       "      <td>0.114468</td>\n",
       "      <td>0.021204</td>\n",
       "      <td>0.001712</td>\n",
       "    </tr>\n",
       "    <tr>\n",
       "      <th>75%</th>\n",
       "      <td>0.631474</td>\n",
       "      <td>0.550478</td>\n",
       "      <td>0.705882</td>\n",
       "      <td>0.079800</td>\n",
       "      <td>0.103720</td>\n",
       "      <td>0.048124</td>\n",
       "      <td>0.112376</td>\n",
       "      <td>0.292725</td>\n",
       "      <td>0.513402</td>\n",
       "      <td>0.034993</td>\n",
       "      <td>0.155304</td>\n",
       "      <td>0.022707</td>\n",
       "      <td>0.002084</td>\n",
       "    </tr>\n",
       "    <tr>\n",
       "      <th>max</th>\n",
       "      <td>1.000000</td>\n",
       "      <td>1.000000</td>\n",
       "      <td>1.000000</td>\n",
       "      <td>1.000000</td>\n",
       "      <td>1.000000</td>\n",
       "      <td>1.000000</td>\n",
       "      <td>1.000000</td>\n",
       "      <td>1.000000</td>\n",
       "      <td>1.000000</td>\n",
       "      <td>1.000000</td>\n",
       "      <td>1.000000</td>\n",
       "      <td>1.000000</td>\n",
       "      <td>1.000000</td>\n",
       "    </tr>\n",
       "  </tbody>\n",
       "</table>\n",
       "</div>"
      ],
      "text/plain": [
       "          longitude      latitude  housing_median_age   total_rooms  \\\n",
       "count  16512.000000  16512.000000        16512.000000  16512.000000   \n",
       "mean       0.475862      0.329090            0.541736      0.066697   \n",
       "std        0.199354      0.227182            0.246785      0.054879   \n",
       "min        0.000000      0.000000            0.000000      0.000000   \n",
       "25%        0.253984      0.147715            0.333333      0.036603   \n",
       "50%        0.581673      0.182784            0.549020      0.053861   \n",
       "75%        0.631474      0.550478            0.705882      0.079800   \n",
       "max        1.000000      1.000000            1.000000      1.000000   \n",
       "\n",
       "       total_bedrooms    population    households  median_income  \\\n",
       "count    16358.000000  16512.000000  16512.000000   16512.000000   \n",
       "mean         0.086111      0.039793      0.092730       0.232657   \n",
       "std          0.066570      0.031415      0.070250       0.131065   \n",
       "min          0.000000      0.000000      0.000000       0.000000   \n",
       "25%          0.047351      0.021946      0.051895       0.142541   \n",
       "50%          0.069657      0.032596      0.075975       0.209721   \n",
       "75%          0.103720      0.048124      0.112376       0.292725   \n",
       "max          1.000000      1.000000      1.000000       1.000000   \n",
       "\n",
       "       median_house_value  rooms_per_houshold  bedrooms_per_room  \\\n",
       "count        16512.000000        16512.000000       16358.000000   \n",
       "mean             0.395658            0.030604           0.125403   \n",
       "std              0.238056            0.018514           0.063740   \n",
       "min              0.000000            0.000000           0.000000   \n",
       "25%              0.216084            0.023518           0.083608   \n",
       "50%              0.339176            0.029137           0.114468   \n",
       "75%              0.513402            0.034993           0.155304   \n",
       "max              1.000000            1.000000           1.000000   \n",
       "\n",
       "       bedrooms_per_household  population_per_household  \n",
       "count            16358.000000              16512.000000  \n",
       "mean                 0.022688                  0.001936  \n",
       "std                  0.015083                  0.009323  \n",
       "min                  0.000000                  0.000000  \n",
       "25%                  0.019928                  0.001400  \n",
       "50%                  0.021204                  0.001712  \n",
       "75%                  0.022707                  0.002084  \n",
       "max                  1.000000                  1.000000  "
      ]
     },
     "execution_count": 69,
     "metadata": {},
     "output_type": "execute_result"
    }
   ],
   "source": [
    "from sklearn.preprocessing import MinMaxScaler\n",
    "\n",
    "A = MinMaxScaler().fit_transform(housing.drop('ocean_proximity',axis=1))\n",
    "min_max_columns = housing.columns.copy().drop('ocean_proximity')\n",
    "\n",
    "min_max_housing = pd.DataFrame(A, columns=min_max_columns, index=housing.index)\n",
    "\n",
    "min_max_housing.describe()\n"
   ]
  },
  {
   "cell_type": "markdown",
   "metadata": {},
   "source": [
    "##### 5-3-2. Standardization"
   ]
  },
  {
   "cell_type": "code",
   "execution_count": 70,
   "metadata": {
    "scrolled": true
   },
   "outputs": [
    {
     "data": {
      "text/html": [
       "<div>\n",
       "<style scoped>\n",
       "    .dataframe tbody tr th:only-of-type {\n",
       "        vertical-align: middle;\n",
       "    }\n",
       "\n",
       "    .dataframe tbody tr th {\n",
       "        vertical-align: top;\n",
       "    }\n",
       "\n",
       "    .dataframe thead th {\n",
       "        text-align: right;\n",
       "    }\n",
       "</style>\n",
       "<table border=\"1\" class=\"dataframe\">\n",
       "  <thead>\n",
       "    <tr style=\"text-align: right;\">\n",
       "      <th></th>\n",
       "      <th>longitude</th>\n",
       "      <th>latitude</th>\n",
       "      <th>housing_median_age</th>\n",
       "      <th>total_rooms</th>\n",
       "      <th>total_bedrooms</th>\n",
       "      <th>population</th>\n",
       "      <th>households</th>\n",
       "      <th>median_income</th>\n",
       "      <th>median_house_value</th>\n",
       "      <th>rooms_per_houshold</th>\n",
       "      <th>bedrooms_per_room</th>\n",
       "      <th>bedrooms_per_household</th>\n",
       "      <th>population_per_household</th>\n",
       "    </tr>\n",
       "  </thead>\n",
       "  <tbody>\n",
       "    <tr>\n",
       "      <th>count</th>\n",
       "      <td>1.651200e+04</td>\n",
       "      <td>1.651200e+04</td>\n",
       "      <td>1.651200e+04</td>\n",
       "      <td>1.651200e+04</td>\n",
       "      <td>1.635800e+04</td>\n",
       "      <td>1.651200e+04</td>\n",
       "      <td>1.651200e+04</td>\n",
       "      <td>1.651200e+04</td>\n",
       "      <td>1.651200e+04</td>\n",
       "      <td>1.651200e+04</td>\n",
       "      <td>1.635800e+04</td>\n",
       "      <td>1.635800e+04</td>\n",
       "      <td>1.651200e+04</td>\n",
       "    </tr>\n",
       "    <tr>\n",
       "      <th>mean</th>\n",
       "      <td>-8.223396e-15</td>\n",
       "      <td>-2.962316e-15</td>\n",
       "      <td>5.276787e-17</td>\n",
       "      <td>-7.929972e-17</td>\n",
       "      <td>9.507277e-17</td>\n",
       "      <td>-1.048903e-17</td>\n",
       "      <td>4.541883e-17</td>\n",
       "      <td>1.097313e-16</td>\n",
       "      <td>7.960902e-17</td>\n",
       "      <td>-6.957720e-17</td>\n",
       "      <td>3.105747e-17</td>\n",
       "      <td>6.858298e-17</td>\n",
       "      <td>3.313456e-17</td>\n",
       "    </tr>\n",
       "    <tr>\n",
       "      <th>std</th>\n",
       "      <td>1.000030e+00</td>\n",
       "      <td>1.000030e+00</td>\n",
       "      <td>1.000030e+00</td>\n",
       "      <td>1.000030e+00</td>\n",
       "      <td>1.000031e+00</td>\n",
       "      <td>1.000030e+00</td>\n",
       "      <td>1.000030e+00</td>\n",
       "      <td>1.000030e+00</td>\n",
       "      <td>1.000030e+00</td>\n",
       "      <td>1.000030e+00</td>\n",
       "      <td>1.000031e+00</td>\n",
       "      <td>1.000031e+00</td>\n",
       "      <td>1.000030e+00</td>\n",
       "    </tr>\n",
       "    <tr>\n",
       "      <th>min</th>\n",
       "      <td>-2.387097e+00</td>\n",
       "      <td>-1.448621e+00</td>\n",
       "      <td>-2.195240e+00</td>\n",
       "      <td>-1.215370e+00</td>\n",
       "      <td>-1.293581e+00</td>\n",
       "      <td>-1.266708e+00</td>\n",
       "      <td>-1.320041e+00</td>\n",
       "      <td>-1.775185e+00</td>\n",
       "      <td>-1.662088e+00</td>\n",
       "      <td>-1.653078e+00</td>\n",
       "      <td>-1.967480e+00</td>\n",
       "      <td>-1.504226e+00</td>\n",
       "      <td>-2.076618e-01</td>\n",
       "    </tr>\n",
       "    <tr>\n",
       "      <th>25%</th>\n",
       "      <td>-1.113020e+00</td>\n",
       "      <td>-7.983943e-01</td>\n",
       "      <td>-8.444949e-01</td>\n",
       "      <td>-5.483828e-01</td>\n",
       "      <td>-5.822685e-01</td>\n",
       "      <td>-5.681156e-01</td>\n",
       "      <td>-5.813012e-01</td>\n",
       "      <td>-6.875886e-01</td>\n",
       "      <td>-7.543598e-01</td>\n",
       "      <td>-3.827848e-01</td>\n",
       "      <td>-6.557416e-01</td>\n",
       "      <td>-1.829963e-01</td>\n",
       "      <td>-5.751484e-02</td>\n",
       "    </tr>\n",
       "    <tr>\n",
       "      <th>50%</th>\n",
       "      <td>5.307880e-01</td>\n",
       "      <td>-6.440239e-01</td>\n",
       "      <td>2.951676e-02</td>\n",
       "      <td>-2.338928e-01</td>\n",
       "      <td>-2.471775e-01</td>\n",
       "      <td>-2.290799e-01</td>\n",
       "      <td>-2.385047e-01</td>\n",
       "      <td>-1.750008e-01</td>\n",
       "      <td>-2.372713e-01</td>\n",
       "      <td>-7.924265e-02</td>\n",
       "      <td>-1.715756e-01</td>\n",
       "      <td>-9.836104e-02</td>\n",
       "      <td>-2.398226e-02</td>\n",
       "    </tr>\n",
       "    <tr>\n",
       "      <th>75%</th>\n",
       "      <td>7.806068e-01</td>\n",
       "      <td>9.745262e-01</td>\n",
       "      <td>6.651616e-01</td>\n",
       "      <td>2.387693e-01</td>\n",
       "      <td>2.645319e-01</td>\n",
       "      <td>2.651986e-01</td>\n",
       "      <td>2.796760e-01</td>\n",
       "      <td>4.583244e-01</td>\n",
       "      <td>4.946212e-01</td>\n",
       "      <td>2.370493e-01</td>\n",
       "      <td>4.691227e-01</td>\n",
       "      <td>1.314342e-03</td>\n",
       "      <td>1.591991e-02</td>\n",
       "    </tr>\n",
       "    <tr>\n",
       "      <th>max</th>\n",
       "      <td>2.629267e+00</td>\n",
       "      <td>2.953274e+00</td>\n",
       "      <td>1.856996e+00</td>\n",
       "      <td>1.700697e+01</td>\n",
       "      <td>1.372866e+01</td>\n",
       "      <td>3.056607e+01</td>\n",
       "      <td>1.291531e+01</td>\n",
       "      <td>5.854869e+00</td>\n",
       "      <td>2.538732e+00</td>\n",
       "      <td>5.236141e+01</td>\n",
       "      <td>1.372172e+01</td>\n",
       "      <td>6.479749e+01</td>\n",
       "      <td>1.070581e+02</td>\n",
       "    </tr>\n",
       "  </tbody>\n",
       "</table>\n",
       "</div>"
      ],
      "text/plain": [
       "          longitude      latitude  housing_median_age   total_rooms  \\\n",
       "count  1.651200e+04  1.651200e+04        1.651200e+04  1.651200e+04   \n",
       "mean  -8.223396e-15 -2.962316e-15        5.276787e-17 -7.929972e-17   \n",
       "std    1.000030e+00  1.000030e+00        1.000030e+00  1.000030e+00   \n",
       "min   -2.387097e+00 -1.448621e+00       -2.195240e+00 -1.215370e+00   \n",
       "25%   -1.113020e+00 -7.983943e-01       -8.444949e-01 -5.483828e-01   \n",
       "50%    5.307880e-01 -6.440239e-01        2.951676e-02 -2.338928e-01   \n",
       "75%    7.806068e-01  9.745262e-01        6.651616e-01  2.387693e-01   \n",
       "max    2.629267e+00  2.953274e+00        1.856996e+00  1.700697e+01   \n",
       "\n",
       "       total_bedrooms    population    households  median_income  \\\n",
       "count    1.635800e+04  1.651200e+04  1.651200e+04   1.651200e+04   \n",
       "mean     9.507277e-17 -1.048903e-17  4.541883e-17   1.097313e-16   \n",
       "std      1.000031e+00  1.000030e+00  1.000030e+00   1.000030e+00   \n",
       "min     -1.293581e+00 -1.266708e+00 -1.320041e+00  -1.775185e+00   \n",
       "25%     -5.822685e-01 -5.681156e-01 -5.813012e-01  -6.875886e-01   \n",
       "50%     -2.471775e-01 -2.290799e-01 -2.385047e-01  -1.750008e-01   \n",
       "75%      2.645319e-01  2.651986e-01  2.796760e-01   4.583244e-01   \n",
       "max      1.372866e+01  3.056607e+01  1.291531e+01   5.854869e+00   \n",
       "\n",
       "       median_house_value  rooms_per_houshold  bedrooms_per_room  \\\n",
       "count        1.651200e+04        1.651200e+04       1.635800e+04   \n",
       "mean         7.960902e-17       -6.957720e-17       3.105747e-17   \n",
       "std          1.000030e+00        1.000030e+00       1.000031e+00   \n",
       "min         -1.662088e+00       -1.653078e+00      -1.967480e+00   \n",
       "25%         -7.543598e-01       -3.827848e-01      -6.557416e-01   \n",
       "50%         -2.372713e-01       -7.924265e-02      -1.715756e-01   \n",
       "75%          4.946212e-01        2.370493e-01       4.691227e-01   \n",
       "max          2.538732e+00        5.236141e+01       1.372172e+01   \n",
       "\n",
       "       bedrooms_per_household  population_per_household  \n",
       "count            1.635800e+04              1.651200e+04  \n",
       "mean             6.858298e-17              3.313456e-17  \n",
       "std              1.000031e+00              1.000030e+00  \n",
       "min             -1.504226e+00             -2.076618e-01  \n",
       "25%             -1.829963e-01             -5.751484e-02  \n",
       "50%             -9.836104e-02             -2.398226e-02  \n",
       "75%              1.314342e-03              1.591991e-02  \n",
       "max              6.479749e+01              1.070581e+02  "
      ]
     },
     "execution_count": 70,
     "metadata": {},
     "output_type": "execute_result"
    }
   ],
   "source": [
    "from sklearn.preprocessing import StandardScaler\n",
    "\n",
    "B = StandardScaler().fit_transform(housing.drop('ocean_proximity',axis=1))\n",
    "std_columns = housing.columns.copy().drop('ocean_proximity')\n",
    "\n",
    "std_housing = pd.DataFrame(B, columns=std_columns, index=housing.index)\n",
    "\n",
    "std_housing.describe()\n"
   ]
  },
  {
   "cell_type": "markdown",
   "metadata": {},
   "source": [
    "### 5-4. 변환 파이프라인"
   ]
  },
  {
   "cell_type": "markdown",
   "metadata": {},
   "source": [
    "##### 5-4-1. 변환기 만들기"
   ]
  },
  {
   "cell_type": "code",
   "execution_count": 71,
   "metadata": {},
   "outputs": [],
   "source": [
    "# 변환기 만들기\n",
    "# fit과 transform\n",
    "from sklearn.base import BaseEstimator, TransformerMixin\n",
    "\n",
    "rooms_idx, bedrooms_idx, population_idx, household_idx = 3, 4, 5, 6\n",
    "\n",
    "class CombinedAttributesAdder(BaseEstimator, TransformerMixin):\n",
    "    def __init__(self, add_bedrooms_per_room = True):\n",
    "        self.add_bedrooms_per_room = add_bedrooms_per_room\n",
    "        \n",
    "    def fit(self, X, y=None):\n",
    "        return self\n",
    "    \n",
    "    def transform(self, X, y=None):\n",
    "        rooms_per_household = X[:, rooms_idx] / X[:, household_idx]\n",
    "        population_per_household = X[:, population_idx]/X[:, household_idx]\n",
    "        \n",
    "        if self.add_bedrooms_per_room:\n",
    "            bedrooms_per_room = X[:, bedrooms_idx] / X[:, rooms_idx]\n",
    "            return np.c_[X, rooms_per_household, population_per_household, bedrooms_per_room]\n",
    "        else:\n",
    "            return np.c_[X, rooms_per_household, population_per_household]"
   ]
  },
  {
   "cell_type": "code",
   "execution_count": 72,
   "metadata": {},
   "outputs": [
    {
     "data": {
      "text/plain": [
       "array([[ 0.73064307, -0.74693746, -0.04993885, ...,  0.06721658,\n",
       "         0.01296542, -0.54866676],\n",
       "       [ 0.30095459, -0.12010014,  0.50625037, ..., -0.53256277,\n",
       "        -0.04984379,  0.62774704],\n",
       "       [ 1.27025185, -0.73290379, -1.00340609, ...,  0.6786392 ,\n",
       "        -0.00188314, -0.93768728],\n",
       "       ...,\n",
       "       [-1.50273773,  1.09615139,  1.85699563, ...,  0.21140012,\n",
       "        -0.06279387, -0.46924885],\n",
       "       [ 0.56576261, -0.66741332,  0.66516158, ..., -0.22431894,\n",
       "        -0.01298992, -0.19109249],\n",
       "       [ 1.33020838, -1.32231799, -0.52667247, ...,  0.45407106,\n",
       "        -0.00977986, -1.02051875]])"
      ]
     },
     "execution_count": 72,
     "metadata": {},
     "output_type": "execute_result"
    }
   ],
   "source": [
    "from sklearn.pipeline import Pipeline\n",
    "from sklearn.preprocessing import StandardScaler\n",
    "from sklearn.impute import SimpleImputer\n",
    "\n",
    "num_pipeline = Pipeline([\n",
    "    ('imputer', SimpleImputer(strategy='median')),\n",
    "    ('attribs_adder', CombinedAttributesAdder()),\n",
    "    ('std_scaler', StandardScaler()),\n",
    "])\n",
    "\n",
    "housing_num_tr = num_pipeline.fit_transform(housing_num)\n",
    "housing_num_tr\n",
    "\n",
    "# 모든 파이프라인은 (이름, 추정기)\n",
    "# 마지막 단계에서는 반드시 fit_transform()메소드를 가지고 있어야 함\n",
    "# 파이프라인이 하나씩 호출하면서 출력을 다음 단계의 입력으로 전달함."
   ]
  },
  {
   "cell_type": "markdown",
   "metadata": {},
   "source": [
    "##### 데이터프레임 셀렉터 클래스 - 파이프라인 처리하기"
   ]
  },
  {
   "cell_type": "code",
   "execution_count": 73,
   "metadata": {},
   "outputs": [],
   "source": [
    "from sklearn.base import BaseEstimator, TransformerMixin\n",
    "\n",
    "class DataFrameSelector(BaseEstimator, TransformerMixin):\n",
    "    \"\"\"\n",
    "    데이터프레임에서 필요한 속성만 셀렉트하도록\n",
    "    \"\"\"\n",
    "    def __init__(self, attribute_names):\n",
    "        self.attribute_names = attribute_names\n",
    "        \n",
    "    def fit(self, X, y=None):\n",
    "        return self\n",
    "    \n",
    "    def transform(self, X):\n",
    "        return X[self.attribute_names].values"
   ]
  },
  {
   "cell_type": "markdown",
   "metadata": {},
   "source": [
    "##### 5-4.2 파이프라인 연결하기"
   ]
  },
  {
   "cell_type": "code",
   "execution_count": 74,
   "metadata": {},
   "outputs": [],
   "source": [
    "num_attribs = list(housing_num)\n",
    "cat_attribs = ['ocean_proximity']\n",
    "\n",
    "\n",
    "num_pipeline = Pipeline([\n",
    "    ('selector', DataFrameSelector(num_attribs)),\n",
    "    ('imputer', SimpleImputer(strategy='median')),\n",
    "    ('attribs_adder', CombinedAttributesAdder()),\n",
    "    ('std_scaler', StandardScaler()),\n",
    "])\n",
    "\n",
    "cat_pipeline = Pipeline([\n",
    "    ('selector', DataFrameSelector(cat_attribs)),\n",
    "    ('cat_encoder',  OneHotEncoder(categories='auto',sparse=False)),\n",
    "])\n",
    "\n"
   ]
  },
  {
   "cell_type": "code",
   "execution_count": 75,
   "metadata": {},
   "outputs": [
    {
     "data": {
      "text/plain": [
       "FeatureUnion(n_jobs=None,\n",
       "             transformer_list=[('num_pipeline',\n",
       "                                Pipeline(memory=None,\n",
       "                                         steps=[('selector',\n",
       "                                                 DataFrameSelector(attribute_names=['longitude',\n",
       "                                                                                    'latitude',\n",
       "                                                                                    'housing_median_age',\n",
       "                                                                                    'total_rooms',\n",
       "                                                                                    'total_bedrooms',\n",
       "                                                                                    'population',\n",
       "                                                                                    'households',\n",
       "                                                                                    'median_income',\n",
       "                                                                                    'median_house_value',\n",
       "                                                                                    'rooms_per_houshold',\n",
       "                                                                                    'bedrooms_per_room',\n",
       "                                                                                    'bedrooms_per_household',\n",
       "                                                                                    'population_...\n",
       "                                                                with_std=True))],\n",
       "                                         verbose=False)),\n",
       "                               ('cat_pipeline',\n",
       "                                Pipeline(memory=None,\n",
       "                                         steps=[('selector',\n",
       "                                                 DataFrameSelector(attribute_names=['ocean_proximity'])),\n",
       "                                                ('cat_encoder',\n",
       "                                                 OneHotEncoder(categorical_features=None,\n",
       "                                                               categories='auto',\n",
       "                                                               drop=None,\n",
       "                                                               dtype=<class 'numpy.float64'>,\n",
       "                                                               handle_unknown='error',\n",
       "                                                               n_values=None,\n",
       "                                                               sparse=False))],\n",
       "                                         verbose=False))],\n",
       "             transformer_weights=None, verbose=False)"
      ]
     },
     "execution_count": 75,
     "metadata": {},
     "output_type": "execute_result"
    }
   ],
   "source": [
    "from sklearn.pipeline import FeatureUnion\n",
    "\n",
    "full_pipeline = FeatureUnion(transformer_list=[\n",
    "    ('num_pipeline', num_pipeline),\n",
    "    ('cat_pipeline', cat_pipeline)\n",
    "])\n",
    "full_pipeline"
   ]
  },
  {
   "cell_type": "code",
   "execution_count": 76,
   "metadata": {},
   "outputs": [
    {
     "data": {
      "text/plain": [
       "array([[ 0.73064307, -0.74693746, -0.04993885, ...,  0.        ,\n",
       "         0.        ,  0.        ],\n",
       "       [ 0.30095459, -0.12010014,  0.50625037, ...,  0.        ,\n",
       "         0.        ,  0.        ],\n",
       "       [ 1.27025185, -0.73290379, -1.00340609, ...,  0.        ,\n",
       "         0.        ,  0.        ],\n",
       "       ...,\n",
       "       [-1.50273773,  1.09615139,  1.85699563, ...,  0.        ,\n",
       "         1.        ,  0.        ],\n",
       "       [ 0.56576261, -0.66741332,  0.66516158, ...,  0.        ,\n",
       "         0.        ,  0.        ],\n",
       "       [ 1.33020838, -1.32231799, -0.52667247, ...,  0.        ,\n",
       "         0.        ,  0.        ]])"
      ]
     },
     "execution_count": 76,
     "metadata": {},
     "output_type": "execute_result"
    }
   ],
   "source": [
    "# pipeline 실행\n",
    "housing_prepared = full_pipeline.fit_transform(housing)\n",
    "housing_prepared"
   ]
  },
  {
   "cell_type": "code",
   "execution_count": 77,
   "metadata": {},
   "outputs": [
    {
     "data": {
      "text/plain": [
       "(16512, 21)"
      ]
     },
     "execution_count": 77,
     "metadata": {},
     "output_type": "execute_result"
    }
   ],
   "source": [
    "housing_prepared.shape"
   ]
  },
  {
   "cell_type": "code",
   "execution_count": 78,
   "metadata": {},
   "outputs": [
    {
     "data": {
      "text/plain": [
       "array([[ 0.73064307, -0.74693746, -0.04993885, ...,  0.        ,\n",
       "         0.        ,  0.        ],\n",
       "       [ 0.30095459, -0.12010014,  0.50625037, ...,  0.        ,\n",
       "         0.        ,  0.        ],\n",
       "       [ 1.27025185, -0.73290379, -1.00340609, ...,  0.        ,\n",
       "         0.        ,  0.        ],\n",
       "       ...,\n",
       "       [-1.50273773,  1.09615139,  1.85699563, ...,  0.        ,\n",
       "         1.        ,  0.        ],\n",
       "       [ 0.56576261, -0.66741332,  0.66516158, ...,  0.        ,\n",
       "         0.        ,  0.        ],\n",
       "       [ 1.33020838, -1.32231799, -0.52667247, ...,  0.        ,\n",
       "         0.        ,  0.        ]])"
      ]
     },
     "execution_count": 78,
     "metadata": {},
     "output_type": "execute_result"
    }
   ],
   "source": [
    "housing_prepared"
   ]
  },
  {
   "cell_type": "markdown",
   "metadata": {},
   "source": [
    "## 6. 모델 선택과 훈련"
   ]
  },
  {
   "cell_type": "markdown",
   "metadata": {},
   "source": [
    "우린 다음을 수행했음\n",
    "1. 문제 정의\n",
    "2. 데이터 읽고 탐색\n",
    "3. 훈련세트와 테스트 세트 나누고\n",
    "4. 머신러닝 알고리즘에 주입할 데이터를 자동으로 정제하고 준비하기 위해 변환 파이프라인 작성\n",
    "5. ---- 머신러닝 모델 선택하고 훈련하자"
   ]
  },
  {
   "cell_type": "markdown",
   "metadata": {},
   "source": [
    "#### 훈련하기1 - LinearRegression"
   ]
  },
  {
   "cell_type": "code",
   "execution_count": 85,
   "metadata": {},
   "outputs": [
    {
     "data": {
      "text/plain": [
       "array([[ 0.73064307, -0.74693746, -0.04993885, ...,  0.        ,\n",
       "         0.        ,  0.        ],\n",
       "       [ 0.30095459, -0.12010014,  0.50625037, ...,  0.        ,\n",
       "         0.        ,  0.        ],\n",
       "       [ 1.27025185, -0.73290379, -1.00340609, ...,  0.        ,\n",
       "         0.        ,  0.        ],\n",
       "       ...,\n",
       "       [-1.50273773,  1.09615139,  1.85699563, ...,  0.        ,\n",
       "         1.        ,  0.        ],\n",
       "       [ 0.56576261, -0.66741332,  0.66516158, ...,  0.        ,\n",
       "         0.        ,  0.        ],\n",
       "       [ 1.33020838, -1.32231799, -0.52667247, ...,  0.        ,\n",
       "         0.        ,  0.        ]])"
      ]
     },
     "execution_count": 85,
     "metadata": {},
     "output_type": "execute_result"
    }
   ],
   "source": [
    "housing_prepared"
   ]
  },
  {
   "cell_type": "code",
   "execution_count": 86,
   "metadata": {},
   "outputs": [],
   "source": [
    "housing_labels = housing_num['median_house_value']"
   ]
  },
  {
   "cell_type": "code",
   "execution_count": 100,
   "metadata": {
    "scrolled": false
   },
   "outputs": [
    {
     "data": {
      "text/plain": [
       "LinearRegression(copy_X=True, fit_intercept=True, n_jobs=None, normalize=False)"
      ]
     },
     "execution_count": 100,
     "metadata": {},
     "output_type": "execute_result"
    }
   ],
   "source": [
    "from sklearn.linear_model import LinearRegression\n",
    "lin_reg = LinearRegression()\n",
    "\n",
    "lin_reg.fit(housing_prepared, housing_labels)"
   ]
  },
  {
   "cell_type": "code",
   "execution_count": 101,
   "metadata": {},
   "outputs": [
    {
     "data": {
      "text/plain": [
       "1.0"
      ]
     },
     "execution_count": 101,
     "metadata": {},
     "output_type": "execute_result"
    }
   ],
   "source": [
    "lin_reg.score(housing_prepared, housing_labels)"
   ]
  },
  {
   "cell_type": "markdown",
   "metadata": {},
   "source": [
    "#### 훈련평가하기1 - LinearRegression"
   ]
  },
  {
   "cell_type": "code",
   "execution_count": 102,
   "metadata": {},
   "outputs": [],
   "source": [
    "# lin_reg.score(housing_prepared, housing_labels)"
   ]
  },
  {
   "cell_type": "code",
   "execution_count": 103,
   "metadata": {},
   "outputs": [],
   "source": [
    "# test_set"
   ]
  },
  {
   "cell_type": "code",
   "execution_count": 104,
   "metadata": {},
   "outputs": [
    {
     "name": "stdout",
     "output_type": "stream",
     "text": [
      "예측:  [258000.  57500. 220300. 387500.  77600. 500001. 198500. 168100. 213900.\n",
      " 240200.]\n",
      "레이블:  [258000.0, 57500.0, 220300.0, 387500.0, 77600.0, 500001.0, 198500.0, 168100.0, 213900.0, 240200.0]\n"
     ]
    }
   ],
   "source": [
    "some_data = housing.iloc[:10]\n",
    "some_labels = housing_labels.iloc[:10]\n",
    "some_data_prepared = full_pipeline.transform(some_data)\n",
    "print(\"예측: \", lin_reg.predict(some_data_prepared))\n",
    "print(\"레이블: \", list(some_labels))\n",
    "\n",
    "# 그닥 정확한 예측은 아니지만. 작동은 함"
   ]
  },
  {
   "cell_type": "code",
   "execution_count": 105,
   "metadata": {},
   "outputs": [
    {
     "name": "stdout",
     "output_type": "stream",
     "text": [
      "2.3446608830114537e-10\n"
     ]
    },
    {
     "data": {
      "text/plain": [
       "5.497434656324049e-20"
      ]
     },
     "execution_count": 105,
     "metadata": {},
     "output_type": "execute_result"
    }
   ],
   "source": [
    "# 전체 MSE측정\n",
    "from sklearn.metrics import mean_squared_error\n",
    "housing_predictions = lin_reg.predict(housing_prepared)\n",
    "lin_mse = mean_squared_error(housing_labels, housing_predictions)\n",
    "lin_rmse = np.sqrt(lin_mse)\n",
    "print(lin_rmse)\n",
    "lin_mse\n",
    "# 이렇게 평가가 끝났음. => 좋은 점수가 아님. (과소적합!) \n",
    "# 이유는?: 모델이 안 좋거나, 특성들이 충분한 정보를 제공하지 못했거나.\n",
    "# 해결책은?: 모델은 바꾸거나 더 좋은 특성을 주입하거나 모델의 규제를 감소시키거나\n",
    "\n",
    "# dir(lin_reg)\n",
    "# lin_reg.normalize"
   ]
  },
  {
   "cell_type": "markdown",
   "metadata": {},
   "source": [
    "#### 훈련하기2 - DecisionTreeRegressor"
   ]
  },
  {
   "cell_type": "code",
   "execution_count": 106,
   "metadata": {},
   "outputs": [
    {
     "data": {
      "text/plain": [
       "DecisionTreeRegressor(criterion='mse', max_depth=None, max_features=None,\n",
       "                      max_leaf_nodes=None, min_impurity_decrease=0.0,\n",
       "                      min_impurity_split=None, min_samples_leaf=1,\n",
       "                      min_samples_split=2, min_weight_fraction_leaf=0.0,\n",
       "                      presort=False, random_state=None, splitter='best')"
      ]
     },
     "execution_count": 106,
     "metadata": {},
     "output_type": "execute_result"
    }
   ],
   "source": [
    "from sklearn.tree import DecisionTreeRegressor\n",
    "\n",
    "tree_reg = DecisionTreeRegressor()\n",
    "tree_reg.fit(housing_prepared, housing_labels)"
   ]
  },
  {
   "cell_type": "code",
   "execution_count": 107,
   "metadata": {},
   "outputs": [
    {
     "data": {
      "text/plain": [
       "1.0"
      ]
     },
     "execution_count": 107,
     "metadata": {},
     "output_type": "execute_result"
    }
   ],
   "source": [
    "tree_reg.score(housing_prepared, housing_labels)"
   ]
  },
  {
   "cell_type": "markdown",
   "metadata": {},
   "source": [
    "#### 훈련평가하기2 - DecisionTreeRegressor"
   ]
  },
  {
   "cell_type": "code",
   "execution_count": 108,
   "metadata": {},
   "outputs": [
    {
     "data": {
      "text/plain": [
       "0.0"
      ]
     },
     "execution_count": 108,
     "metadata": {},
     "output_type": "execute_result"
    }
   ],
   "source": [
    "housing_predictions = tree_reg.predict(housing_prepared)\n",
    "tree_mse = mean_squared_error(housing_labels, housing_predictions)\n",
    "tree_rmse = np.sqrt(tree_mse)\n",
    "tree_rmse\n",
    "\n",
    "## 과대적합... \n",
    "# 확신이 들기전까지는 테스트 셋 사용하지 말고, \n",
    "# 훈련은 훈련셋에 일부로, 나머지는 모델 검증에 사용"
   ]
  },
  {
   "cell_type": "markdown",
   "metadata": {},
   "source": [
    "#### 훈련평가하기2-2. k-fold cross-validation (교차 검증) DecisionTree"
   ]
  },
  {
   "cell_type": "code",
   "execution_count": 109,
   "metadata": {},
   "outputs": [
    {
     "data": {
      "text/plain": [
       "array([101.77004892, 215.12145339, 148.62584782, 109.70474112,\n",
       "       122.1897919 , 372.12862088, 104.53090971, 106.16947014,\n",
       "        99.11785348, 206.48921493])"
      ]
     },
     "execution_count": 109,
     "metadata": {},
     "output_type": "execute_result"
    }
   ],
   "source": [
    "# cv개로 나눠서 10번 훈련하고 평가하는데 \n",
    "# 1개는 돌아가면서 검증 세트로\n",
    "# 그 외 나머지는 훈련세트로 하여\n",
    "# 스코어를 정함.\n",
    "from sklearn.model_selection import cross_val_score\n",
    "scores = cross_val_score(tree_reg, housing_prepared, housing_labels, scoring=\"neg_mean_squared_error\", cv=10)\n",
    "tree_rmse_scores = np.sqrt(-scores)\n",
    "tree_rmse_scores"
   ]
  },
  {
   "cell_type": "code",
   "execution_count": 110,
   "metadata": {},
   "outputs": [
    {
     "data": {
      "text/plain": [
       "158.58479522974986"
      ]
     },
     "execution_count": 110,
     "metadata": {},
     "output_type": "execute_result"
    }
   ],
   "source": [
    "tree_rmse_scores.mean()"
   ]
  },
  {
   "cell_type": "code",
   "execution_count": 111,
   "metadata": {},
   "outputs": [
    {
     "data": {
      "text/plain": [
       "82.06013076379558"
      ]
     },
     "execution_count": 111,
     "metadata": {},
     "output_type": "execute_result"
    }
   ],
   "source": [
    "tree_rmse_scores.std()"
   ]
  },
  {
   "cell_type": "markdown",
   "metadata": {},
   "source": [
    "#### 훈련평가하기1-2. k-fold cross-validation (교차 검증)  LinearRegression"
   ]
  },
  {
   "cell_type": "code",
   "execution_count": 112,
   "metadata": {},
   "outputs": [
    {
     "data": {
      "text/plain": [
       "array([1.42305951e-10, 1.04297602e-10, 1.38303140e-10, 1.42469728e-10,\n",
       "       1.28773769e-10, 1.20936162e-10, 1.06226089e-10, 2.70430253e-10,\n",
       "       1.55419397e-10, 1.61522801e-10])"
      ]
     },
     "execution_count": 112,
     "metadata": {},
     "output_type": "execute_result"
    }
   ],
   "source": [
    "lin_scores = cross_val_score(lin_reg, housing_prepared, housing_labels, scoring=\"neg_mean_squared_error\", cv=10)\n",
    "lin_rmse_scores = np.sqrt(-lin_scores)\n",
    "lin_rmse_scores"
   ]
  },
  {
   "cell_type": "code",
   "execution_count": 113,
   "metadata": {},
   "outputs": [
    {
     "data": {
      "text/plain": [
       "1.4706848933501693e-10"
      ]
     },
     "execution_count": 113,
     "metadata": {},
     "output_type": "execute_result"
    }
   ],
   "source": [
    "lin_rmse_scores.mean()"
   ]
  },
  {
   "cell_type": "code",
   "execution_count": 114,
   "metadata": {},
   "outputs": [
    {
     "data": {
      "text/plain": [
       "4.486925124150145e-11"
      ]
     },
     "execution_count": 114,
     "metadata": {},
     "output_type": "execute_result"
    }
   ],
   "source": [
    "lin_rmse_scores.std()"
   ]
  },
  {
   "cell_type": "markdown",
   "metadata": {},
   "source": [
    "#### 훈련하기3 - RandomForestRegressor\n",
    "- 특성을 무작위로 선택해서 많은 결정 트리를 만들고 예측을 평균냄"
   ]
  },
  {
   "cell_type": "code",
   "execution_count": 115,
   "metadata": {},
   "outputs": [
    {
     "name": "stderr",
     "output_type": "stream",
     "text": [
      "C:\\ProgramData\\Anaconda3\\envs\\study\\lib\\site-packages\\sklearn\\ensemble\\forest.py:245: FutureWarning: The default value of n_estimators will change from 10 in version 0.20 to 100 in 0.22.\n",
      "  \"10 in version 0.20 to 100 in 0.22.\", FutureWarning)\n"
     ]
    },
    {
     "data": {
      "text/plain": [
       "RandomForestRegressor(bootstrap=True, criterion='mse', max_depth=None,\n",
       "                      max_features='auto', max_leaf_nodes=None,\n",
       "                      min_impurity_decrease=0.0, min_impurity_split=None,\n",
       "                      min_samples_leaf=1, min_samples_split=2,\n",
       "                      min_weight_fraction_leaf=0.0, n_estimators=10,\n",
       "                      n_jobs=None, oob_score=False, random_state=None,\n",
       "                      verbose=0, warm_start=False)"
      ]
     },
     "execution_count": 115,
     "metadata": {},
     "output_type": "execute_result"
    }
   ],
   "source": [
    "# 앙상블 학습: 여러 다른 모델을 모아서 하나의 모델을 만드는 것\n",
    "from sklearn.ensemble import RandomForestRegressor\n",
    "forest_reg = RandomForestRegressor()\n",
    "forest_reg.fit(housing_prepared, housing_labels)\n",
    "forest_reg"
   ]
  },
  {
   "cell_type": "markdown",
   "metadata": {},
   "source": [
    "#### 훈련평가하기3 - RandomForestRegressor"
   ]
  },
  {
   "cell_type": "code",
   "execution_count": null,
   "metadata": {},
   "outputs": [],
   "source": []
  },
  {
   "cell_type": "code",
   "execution_count": 116,
   "metadata": {},
   "outputs": [
    {
     "data": {
      "text/plain": [
       "51.772566449317836"
      ]
     },
     "execution_count": 116,
     "metadata": {},
     "output_type": "execute_result"
    }
   ],
   "source": [
    "housing_predictions = forest_reg.predict(housing_prepared)\n",
    "forest_mse = mean_squared_error(housing_labels, housing_predictions)\n",
    "forest_rmse = np.sqrt(forest_mse)\n",
    "forest_rmse"
   ]
  },
  {
   "cell_type": "markdown",
   "metadata": {},
   "source": [
    "#### 훈련평가하기3-2. k-fold cross-validation (교차 검증)  RandomForestRegressor"
   ]
  },
  {
   "cell_type": "code",
   "execution_count": null,
   "metadata": {},
   "outputs": [],
   "source": [
    "forest_mse_score = cross_val_score(forest_reg, housing_prepared, housing_labels, scoring=\"neg_mean_squared_error\", cv=10)\n",
    "\n",
    "forest_rmse_score = np.sqrt(-forest_mse_score)\n",
    "forest_rmse_score"
   ]
  },
  {
   "cell_type": "code",
   "execution_count": null,
   "metadata": {},
   "outputs": [],
   "source": [
    "forest_rmse_score.mean()\n",
    "\n",
    "# 역시 과대 적합 - 그래도 훨씬 나음"
   ]
  },
  {
   "cell_type": "code",
   "execution_count": null,
   "metadata": {},
   "outputs": [],
   "source": [
    "forest_rmse_score.std()"
   ]
  },
  {
   "cell_type": "markdown",
   "metadata": {},
   "source": [
    "##### 과대적합 해결하기: 모델 간단히 하기 or regualrization or 더 많은 data\n",
    "--> 가능성 있는 2~5개의 모델을 선정하는 것이 목적"
   ]
  },
  {
   "cell_type": "markdown",
   "metadata": {},
   "source": [
    "***Tip:** pickle패키지나 joblib을 사용하여 사이킷런 모델을 간단하게 저장하자."
   ]
  },
  {
   "cell_type": "markdown",
   "metadata": {},
   "source": [
    "## 8. 모델 세뷰 튜닝\n",
    "가능성 있는 모델들을 추렸다고 가정. -> 세부 튜닝해야 함"
   ]
  },
  {
   "cell_type": "markdown",
   "metadata": {},
   "source": [
    "###  8-1-1. 그리드 탐색\n",
    "단순한 방법: 하이퍼파라미터 조합을 찾을 때까지 수동으로 하이퍼파라미터를 조정하는 것.\n",
    "- sklearn.model_selection import GridSearchCV\n",
    "-> 가능한 모든 하이퍼파라미터 조합에 대해 교차 검증을 사용함.\n",
    "- 비교적 적은 수의 조합을 탐구할 때 괜찮음"
   ]
  },
  {
   "cell_type": "markdown",
   "metadata": {},
   "source": [
    "##### RandomForestRegressor에 대한 최적의 하이퍼파라미터 조합을 그리드 탐색"
   ]
  },
  {
   "cell_type": "code",
   "execution_count": 117,
   "metadata": {},
   "outputs": [
    {
     "data": {
      "text/plain": [
       "GridSearchCV(cv=5, error_score='raise-deprecating',\n",
       "             estimator=RandomForestRegressor(bootstrap=True, criterion='mse',\n",
       "                                             max_depth=None,\n",
       "                                             max_features='auto',\n",
       "                                             max_leaf_nodes=None,\n",
       "                                             min_impurity_decrease=0.0,\n",
       "                                             min_impurity_split=None,\n",
       "                                             min_samples_leaf=1,\n",
       "                                             min_samples_split=2,\n",
       "                                             min_weight_fraction_leaf=0.0,\n",
       "                                             n_estimators='warn', n_jobs=None,\n",
       "                                             oob_score=False, random_state=None,\n",
       "                                             verbose=0, warm_start=False),\n",
       "             iid='warn', n_jobs=None,\n",
       "             param_grid=[{'max_features': [2, 4, 6, 8],\n",
       "                          'n_estimators': [3, 10, 30]},\n",
       "                         {'bootstrap': [False], 'max_features': [2, 3, 4],\n",
       "                          'n_estimators': [3, 10]}],\n",
       "             pre_dispatch='2*n_jobs', refit=True, return_train_score=True,\n",
       "             scoring='neg_mean_squared_error', verbose=0)"
      ]
     },
     "execution_count": 117,
     "metadata": {},
     "output_type": "execute_result"
    }
   ],
   "source": [
    "from sklearn.model_selection import GridSearchCV\n",
    "\n",
    "# param_grid에 대한 첫번째 dict에 있는 하이퍼 파라미터의 조합을 시도,, \n",
    "# 그다음 두번째 dict에 대한 하이퍼 파라미터에 대한 조합을 시도\n",
    "param_grid = [\n",
    "    {'n_estimators': [3, 10, 30], 'max_features': [2, 4, 6, 8, 10]},\n",
    "    {'bootstrap': [False], 'n_estimators': [3, 10], 'max_features': [2, 3, 4]}    \n",
    "]\n",
    "\n",
    "forest_reg = RandomForestRegressor()\n",
    "grid_search = GridSearchCV(forest_reg, param_grid, cv=5, scoring=\"neg_mean_squared_error\", return_train_score=True)\n",
    "\n",
    "grid_search.fit(housing_prepared, housing_labels)\n"
   ]
  },
  {
   "cell_type": "code",
   "execution_count": 120,
   "metadata": {},
   "outputs": [
    {
     "data": {
      "text/plain": [
       "{'max_features': 8, 'n_estimators': 30}"
      ]
     },
     "execution_count": 120,
     "metadata": {},
     "output_type": "execute_result"
    }
   ],
   "source": [
    "# 최적의 조합\n",
    "grid_search.best_params_"
   ]
  },
  {
   "cell_type": "code",
   "execution_count": 119,
   "metadata": {},
   "outputs": [
    {
     "data": {
      "text/plain": [
       "RandomForestRegressor(bootstrap=True, criterion='mse', max_depth=None,\n",
       "                      max_features=8, max_leaf_nodes=None,\n",
       "                      min_impurity_decrease=0.0, min_impurity_split=None,\n",
       "                      min_samples_leaf=1, min_samples_split=2,\n",
       "                      min_weight_fraction_leaf=0.0, n_estimators=30,\n",
       "                      n_jobs=None, oob_score=False, random_state=None,\n",
       "                      verbose=0, warm_start=False)"
      ]
     },
     "execution_count": 119,
     "metadata": {},
     "output_type": "execute_result"
    }
   ],
   "source": [
    "# 최적의 추정기\n",
    "grid_search.best_estimator_"
   ]
  },
  {
   "cell_type": "code",
   "execution_count": null,
   "metadata": {},
   "outputs": [],
   "source": [
    "# cv 결과\n",
    "cvres = grid_search.cv_results_\n",
    "cvres"
   ]
  },
  {
   "cell_type": "code",
   "execution_count": null,
   "metadata": {},
   "outputs": [],
   "source": [
    "# 평가 점수\n",
    "for mean_score, params in zip(cvres['mean_test_score'], cvres['params']):\n",
    "    print(np.sqrt(-mean_score), params)\n",
    "    \n",
    "# 살짝 낫쥬?"
   ]
  },
  {
   "cell_type": "markdown",
   "metadata": {},
   "source": [
    "###  8-1-2. 랜덤 탐색\n",
    "- 하이퍼파라미터 탐색 공간이 커지면 RandomizedSearchCV\n",
    "- 각 반복마다 하이퍼파라미터에 임의의 수를 대입하여 지정한 횟수만큼 평가.\n",
    "\n",
    "장점:\n",
    "1. 랜덤 탐색 1,000회 반복시 하이퍼파라미터마다 각기 다른 1,000개의 값 탐색 (그리드는 몇개의 값만 탐색)\n",
    "2. 단순히 반복 횟수를 조절 -> 컴퓨팅 자원을 제어할 수 있음"
   ]
  },
  {
   "cell_type": "code",
   "execution_count": null,
   "metadata": {},
   "outputs": [],
   "source": []
  },
  {
   "cell_type": "code",
   "execution_count": null,
   "metadata": {},
   "outputs": [],
   "source": []
  },
  {
   "cell_type": "markdown",
   "metadata": {},
   "source": [
    "###  8-3. 앙상블 방법\n",
    "- 최상의 모델을 연결해보기. (결정 트리의 앙상블인 랜덤 포레스트가 결정 트리 하나보다 더 성능이 좋은 것처럼)"
   ]
  },
  {
   "cell_type": "code",
   "execution_count": null,
   "metadata": {},
   "outputs": [],
   "source": []
  },
  {
   "cell_type": "markdown",
   "metadata": {},
   "source": [
    "###  8-4. 최상의 모델과 오차 분석\n",
    "- 최상의 모델을 분석하면 문제에 대한 좋은 통찰력 얻을 수 있음.\n",
    "- RandomForestRegressor가 정확한 예측을 만들기 위한 각 특성의 상대적인 중요도를 알려줌.\n"
   ]
  },
  {
   "cell_type": "code",
   "execution_count": null,
   "metadata": {},
   "outputs": [],
   "source": [
    "# feature에 대한 중요도를 확인할 수 있음.\n",
    "feature_importances = grid_search.best_estimator_.feature_importances_\n",
    "feature_importances"
   ]
  },
  {
   "cell_type": "code",
   "execution_count": null,
   "metadata": {},
   "outputs": [],
   "source": [
    "extra_attribs = ['rooms_per_household', 'population_per_household', 'bedrooms_per_room']\n",
    "cat_one_hot_attribs = list(housing_categories)\n",
    "attributes = num_attribs + extra_attribs + cat_one_hot_attribs\n",
    "\n",
    "sorted(zip(feature_importances, attributes), reverse=True)\n",
    "\n",
    "# 중요도가 확연히 보이쥬?"
   ]
  },
  {
   "cell_type": "markdown",
   "metadata": {},
   "source": [
    "##  8-5. 테스트 셋으로 시스템 평가하기"
   ]
  },
  {
   "cell_type": "code",
   "execution_count": null,
   "metadata": {},
   "outputs": [],
   "source": [
    "# 테스트 셋에서 feature와 레이블을 얻은 후\n",
    "# full_pipeline으로 데이터를 변환하고\n",
    "# 최종 모델 평가\n",
    "\n",
    "final_model = grid_search.best_estimator_\n",
    "\n",
    "X_test = strat_test_set.drop(\"median_house_value\", axis=1)\n",
    "y_test = strat_test_set['median_house_value'].copy()\n",
    "\n",
    "X_test_prepared = full_pipeline.transform(X_test)\n",
    "\n",
    "final_predictions = final_model.predict(X_test_prepared)\n",
    "final_mse = mean_squared_error(y_test, final_predictions)\n",
    "final_rmse = np.sqrt(final_mse)\n",
    "\n",
    "final_rmse\n"
   ]
  },
  {
   "cell_type": "markdown",
   "metadata": {},
   "source": [
    "##  9. 론칭, 모니터링, 유지보수"
   ]
  },
  {
   "cell_type": "markdown",
   "metadata": {},
   "source": [
    "1. 모니터링 코드: 실시간 성능 체크 - 성능 떨어졌을시 알람\n",
    "2. 시스템 예측 샘플링 및 평가 - 사람의 분석이 필요.\n",
    "3. 입력 데이터 품질 평가 (시스템 입력을 모니터링 - 쓰레기가 들어가면 쓰레기가 나온다. (센서 고장 체크))\n",
    "4. 새로운 데이터를 사용해 정기적으로 모델을 훈련 (자동화)"
   ]
  },
  {
   "cell_type": "code",
   "execution_count": null,
   "metadata": {},
   "outputs": [],
   "source": []
  }
 ],
 "metadata": {
  "kernelspec": {
   "display_name": "Python 3",
   "language": "python",
   "name": "python3"
  },
  "language_info": {
   "codemirror_mode": {
    "name": "ipython",
    "version": 3
   },
   "file_extension": ".py",
   "mimetype": "text/x-python",
   "name": "python",
   "nbconvert_exporter": "python",
   "pygments_lexer": "ipython3",
   "version": "3.7.6"
  }
 },
 "nbformat": 4,
 "nbformat_minor": 2
}

{
 "cells": [
  {
   "cell_type": "code",
   "execution_count": null,
   "metadata": {},
   "outputs": [],
   "source": [
    "# instantSearch\n",
    "url = 'https://map.naver.com/v5/api/instantSearch'\n",
    "params = {\n",
    "    'lang':'ko',\n",
    "    'caller': 'pcweb',\n",
    "    'types': 'place',\n",
    "    'coords': '37.563867960512454,127.00276851654054'\n",
    "    \n",
    "}\n",
    "\n",
    "station_address = []\n",
    "station_lng = []\n",
    "station_lat = []\n",
    "\n",
    "for police in crime_anal_police['구분']:\n",
    "    params['q'] = police\n",
    "    resp = requests.get(url, params)\n",
    "    \n",
    "    station_data = resp.json()\n",
    "    police_geo = station_data['poi'][0]\n",
    "\n",
    "    address = police_geo.get('roadAddress', police_geo.get('jibunAddress'))\n",
    "    station_address.append(address)\n",
    "    station_lng.append(police_geo.get('x'))\n",
    "    station_lat.append(police_geo.get('y'))\n",
    "    \n",
    "    print(police + \"-->\" + police_geo.get('roadAddress', address))\n"
   ]
  }
 ],
 "metadata": {
  "kernelspec": {
   "display_name": "Python 3",
   "language": "python",
   "name": "python3"
  },
  "language_info": {
   "codemirror_mode": {
    "name": "ipython",
    "version": 3
   },
   "file_extension": ".py",
   "mimetype": "text/x-python",
   "name": "python",
   "nbconvert_exporter": "python",
   "pygments_lexer": "ipython3",
   "version": "3.7.6"
  }
 },
 "nbformat": 4,
 "nbformat_minor": 2
}
